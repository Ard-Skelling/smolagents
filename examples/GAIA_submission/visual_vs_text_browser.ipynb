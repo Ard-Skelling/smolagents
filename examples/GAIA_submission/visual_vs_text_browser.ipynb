{
 "cells": [
  {
   "cell_type": "code",
   "execution_count": 1,
   "metadata": {},
   "outputs": [
    {
     "name": "stderr",
     "output_type": "stream",
     "text": [
      "/Users/aymeric/venv/test/lib/python3.12/site-packages/tqdm/auto.py:21: TqdmWarning: IProgress not found. Please update jupyter and ipywidgets. See https://ipywidgets.readthedocs.io/en/stable/user_install.html\n",
      "  from .autonotebook import tqdm as notebook_tqdm\n"
     ]
    }
   ],
   "source": [
    "import datasets\n",
    "\n",
    "eval_ds = datasets.load_dataset(\"gaia-benchmark/GAIA\", \"2023_all\")[\"validation\"]"
   ]
  },
  {
   "cell_type": "code",
   "execution_count": 2,
   "metadata": {},
   "outputs": [],
   "source": [
    "to_keep = [\n",
    "    \"What's the last line of the rhyme under the flavor\",\n",
    "    'Of the authors (First M. Last) that worked on the paper \"Pie Menus or Linear Menus',\n",
    "    \"In Series 9, Episode 11 of Doctor Who, the Doctor is trapped inside an ever-shifting maze. What is this location called in the official script for the episode? Give the setting exactly as it appears in the first scene heading.\",\n",
    "    \"Which contributor to the version of OpenCV where support was added for the Mask-RCNN model has the same name as a former Chinese head of government when the names are transliterated to the Latin alphabet?\",\n",
    "    \"The photograph in the Whitney Museum of American Art's collection with accession number 2022.128 shows a person holding a book. Which military unit did the author of this book join in 1813? Answer without using articles.\",\n",
    "    \"I went to Virtue restaurant & bar in Chicago for my birthday on March 22, 2021 and the main course I had was delicious! Unfortunately, when I went back about a month later on April 21, it was no longer on the dinner menu.\",\n",
    "    \"In Emily Midkiff's June 2014 article in a journal named for the one of Hreidmar's \",\n",
    "    \"Under DDC 633 on Bielefeld University Library's BASE, as of 2020\",\n",
    "    \"In the 2018 VSCode blog post on replit.com, what was the command they clicked on in the last video to remove extra lines?\",\n",
    "    \"The Metropolitan Museum of Art has a portrait in its collection with an accession number of 29.100.5. Of the consecrators and co-consecrators\",\n",
    "    \"In Nature journal's Scientific Reports conference proceedings from 2012, in the article that did not mention plasmons or plasmonics, what nano-compound is studied?\",\n",
    "    'In the year 2022, and before December, what does \"R\" stand for in the three core policies of the type of content',\n",
    "    \"Who nominated the only Featured Article on English Wikipedia about a dinosaur that was promoted in November 2016?\",\n",
    "]\n",
    "eval_ds = eval_ds.filter(lambda row: any([el in row[\"Question\"] for el in to_keep]))\n",
    "eval_ds = eval_ds.rename_columns({\"Question\": \"question\", \"Final answer\": \"true_answer\", \"Level\": \"task\"})\n"
   ]
  },
  {
   "cell_type": "code",
   "execution_count": 3,
   "metadata": {},
   "outputs": [
    {
     "name": "stderr",
     "output_type": "stream",
     "text": [
      "Note: Environment variable`HF_TOKEN` is set and is the current active token independently from the token you've just configured.\n"
     ]
    }
   ],
   "source": [
    "import os\n",
    "\n",
    "from dotenv import load_dotenv\n",
    "from huggingface_hub import login\n",
    "\n",
    "load_dotenv(override=True)\n",
    "\n",
    "login(os.getenv(\"HF_TOKEN\"))"
   ]
  },
  {
   "cell_type": "markdown",
   "metadata": {},
   "source": [
    "### Text browser"
   ]
  },
  {
   "cell_type": "code",
   "execution_count": 4,
   "metadata": {},
   "outputs": [
    {
     "name": "stderr",
     "output_type": "stream",
     "text": [
      "Chat templates should be in a 'chat_template.jinja' file but found key='chat_template' in the processor's config. Make sure to move your template to its own file.\n"
     ]
    }
   ],
   "source": [
    "from scripts.run_agents import answer_questions\n",
    "from scripts.text_inspector_tool import TextInspectorTool\n",
    "from scripts.text_web_browser import (\n",
    "    ArchiveSearchTool,\n",
    "    FinderTool,\n",
    "    FindNextTool,\n",
    "    NavigationalSearchTool,\n",
    "    PageDownTool,\n",
    "    PageUpTool,\n",
    "    SearchInformationTool,\n",
    "    VisitTool,\n",
    ")\n",
    "from scripts.visual_qa import VisualQAGPT4Tool\n",
    "\n",
    "from smolagents import CodeAgent, LiteLLMModel"
   ]
  },
  {
   "cell_type": "code",
   "execution_count": 5,
   "metadata": {},
   "outputs": [
    {
     "name": "stderr",
     "output_type": "stream",
     "text": [
      "/Users/aymeric/venv/test/lib/python3.12/site-packages/pydantic/_internal/_config.py:345: UserWarning: Valid config keys have changed in V2:\n",
      "* 'fields' has been removed\n",
      "  warnings.warn(message, UserWarning)\n"
     ]
    },
    {
     "name": "stdout",
     "output_type": "stream",
     "text": [
      "Loading answers from output_browsers/code_o1_27-01_text.jsonl...\n",
      "Found 12 previous results!\n"
     ]
    },
    {
     "name": "stderr",
     "output_type": "stream",
     "text": [
      "100%|██████████| 12/12 [00:00<00:00, 4817.35it/s]\n"
     ]
    }
   ],
   "source": [
    "proprietary_model = LiteLLMModel(\"gpt-4o\")\n",
    "\n",
    "### BUILD AGENTS & TOOLS\n",
    "\n",
    "WEB_TOOLS = [\n",
    "    SearchInformationTool(),\n",
    "    NavigationalSearchTool(),\n",
    "    VisitTool(),\n",
    "    PageUpTool(),\n",
    "    PageDownTool(),\n",
    "    FinderTool(),\n",
    "    FindNextTool(),\n",
    "    ArchiveSearchTool(),\n",
    "]\n",
    "\n",
    "\n",
    "surfer_agent = CodeAgent(\n",
    "    model=proprietary_model,\n",
    "    tools=WEB_TOOLS,\n",
    "    max_steps=20,\n",
    "    verbosity_level=2,\n",
    ")\n",
    "\n",
    "results_text = answer_questions(\n",
    "    eval_ds,\n",
    "    surfer_agent,\n",
    "    \"code_o1_27-01_text\",\n",
    "    output_folder=\"output_browsers\",\n",
    "    visual_inspection_tool=VisualQAGPT4Tool(),\n",
    "    text_inspector_tool=TextInspectorTool(proprietary_model, 40000),\n",
    ")"
   ]
  },
  {
   "cell_type": "markdown",
   "metadata": {},
   "source": [
    "### Vision browser"
   ]
  },
  {
   "cell_type": "code",
   "execution_count": 6,
   "metadata": {},
   "outputs": [
    {
     "name": "stdout",
     "output_type": "stream",
     "text": [
      "Loading answers from output_browsers/code_o1_27-01_vision.jsonl...\n",
      "Found 12 previous results!\n"
     ]
    },
    {
     "name": "stderr",
     "output_type": "stream",
     "text": [
      "100%|██████████| 12/12 [00:00<00:00, 4047.25it/s]\n"
     ]
    }
   ],
   "source": [
    "from scripts.visual_qa import VisualQAGPT4Tool\n",
    "from scripts.vlm_web_browser import helium_instructions, make_browser_agent\n",
    "\n",
    "from smolagents import CodeAgent, LiteLLMModel\n",
    "\n",
    "proprietary_model = LiteLLMModel(\"gpt-4o\")\n",
    "vision_browser_agent = make_browser_agent(proprietary_model)\n",
    "### BUILD AGENTS & TOOLS\n",
    "\n",
    "results_vision = answer_questions(\n",
    "    eval_ds,\n",
    "    vision_browser_agent,\n",
    "    \"code_o1_27-01_vision\",\n",
    "    output_folder=\"output_browsers\",\n",
    "    visual_inspection_tool=VisualQAGPT4Tool(),\n",
    "    text_inspector_tool=TextInspectorTool(proprietary_model, 40000),\n",
    "    postprompt=helium_instructions,\n",
    ")"
   ]
  },
  {
   "cell_type": "markdown",
   "metadata": {},
   "source": [
    "### Get results"
   ]
  },
  {
   "cell_type": "code",
   "execution_count": null,
   "metadata": {},
   "outputs": [],
   "source": [
    "import pandas as pd\n",
    "from scripts.gaia_scorer import question_scorer\n",
    "\n",
    "\n",
    "results_vision, results_text = pd.DataFrame(results_vision), pd.DataFrame(results_text)\n",
    "\n",
    "results_vision[\"is_correct\"] = results_vision.apply(\n",
    "    lambda x: question_scorer(x[\"prediction\"], x[\"true_answer\"]), axis=1\n",
    ")\n",
    "results_text[\"is_correct\"] = results_text.apply(lambda x: question_scorer(x[\"prediction\"], x[\"true_answer\"]), axis=1)"
   ]
  },
  {
   "cell_type": "code",
   "execution_count": 8,
   "metadata": {},
   "outputs": [
    {
     "data": {
      "text/plain": [
       "agent_name\n",
       "code_o1_27-01_text      0.416667\n",
       "code_o1_27-01_vision    0.333333\n",
       "Name: is_correct, dtype: float64"
      ]
     },
     "execution_count": 8,
     "metadata": {},
     "output_type": "execute_result"
    }
   ],
   "source": [
    "results = pd.concat([results_vision, results_text])\n",
    "results.groupby(\"agent_name\")[\"is_correct\"].mean()"
   ]
  },
  {
   "cell_type": "code",
   "execution_count": 9,
   "metadata": {},
   "outputs": [
    {
     "data": {
      "text/html": [
       "<div>\n",
       "<style scoped>\n",
       "    .dataframe tbody tr th:only-of-type {\n",
       "        vertical-align: middle;\n",
       "    }\n",
       "\n",
       "    .dataframe tbody tr th {\n",
       "        vertical-align: top;\n",
       "    }\n",
       "\n",
       "    .dataframe thead th {\n",
       "        text-align: right;\n",
       "    }\n",
       "</style>\n",
       "<table border=\"1\" class=\"dataframe\">\n",
       "  <thead>\n",
       "    <tr style=\"text-align: right;\">\n",
       "      <th></th>\n",
       "      <th>agent_name</th>\n",
       "      <th>question</th>\n",
       "      <th>augmented_question</th>\n",
       "      <th>prediction</th>\n",
       "      <th>intermediate_steps</th>\n",
       "      <th>parsing_error</th>\n",
       "      <th>iteration_limit_exceeded</th>\n",
       "      <th>agent_error</th>\n",
       "      <th>start_time</th>\n",
       "      <th>end_time</th>\n",
       "      <th>task</th>\n",
       "      <th>true_answer</th>\n",
       "      <th>is_correct</th>\n",
       "    </tr>\n",
       "  </thead>\n",
       "  <tbody>\n",
       "    <tr>\n",
       "      <th>3</th>\n",
       "      <td>code_o1_27-01_vision</td>\n",
       "      <td>Which contributor to the version of OpenCV whe...</td>\n",
       "      <td>It is paramount that you complete this task an...</td>\n",
       "      <td>Li Peng</td>\n",
       "      <td>[SystemPromptStep(system_prompt='You are an ex...</td>\n",
       "      <td>False</td>\n",
       "      <td>False</td>\n",
       "      <td>NaN</td>\n",
       "      <td>2025-01-27 23:00:46</td>\n",
       "      <td>2025-01-27 23:01:46</td>\n",
       "      <td>2</td>\n",
       "      <td>Li Peng</td>\n",
       "      <td>True</td>\n",
       "    </tr>\n",
       "    <tr>\n",
       "      <th>7</th>\n",
       "      <td>code_o1_27-01_vision</td>\n",
       "      <td>In the 2018 VSCode blog post on replit.com, wh...</td>\n",
       "      <td>It is paramount that you complete this task an...</td>\n",
       "      <td>Format Document</td>\n",
       "      <td>[SystemPromptStep(system_prompt='You are an ex...</td>\n",
       "      <td>True</td>\n",
       "      <td>False</td>\n",
       "      <td>NaN</td>\n",
       "      <td>2025-01-27 23:14:24</td>\n",
       "      <td>2025-01-27 23:17:17</td>\n",
       "      <td>2</td>\n",
       "      <td>Format Document</td>\n",
       "      <td>True</td>\n",
       "    </tr>\n",
       "    <tr>\n",
       "      <th>9</th>\n",
       "      <td>code_o1_27-01_vision</td>\n",
       "      <td>In Nature journal's Scientific Reports confere...</td>\n",
       "      <td>It is paramount that you complete this task an...</td>\n",
       "      <td>diamond</td>\n",
       "      <td>[SystemPromptStep(system_prompt='You are an ex...</td>\n",
       "      <td>False</td>\n",
       "      <td>False</td>\n",
       "      <td>NaN</td>\n",
       "      <td>2025-01-27 23:17:58</td>\n",
       "      <td>2025-01-27 23:19:12</td>\n",
       "      <td>1</td>\n",
       "      <td>diamond</td>\n",
       "      <td>True</td>\n",
       "    </tr>\n",
       "    <tr>\n",
       "      <th>11</th>\n",
       "      <td>code_o1_27-01_vision</td>\n",
       "      <td>Who nominated the only Featured Article on Eng...</td>\n",
       "      <td>It is paramount that you complete this task an...</td>\n",
       "      <td>FunkMonk</td>\n",
       "      <td>[SystemPromptStep(system_prompt='You are an ex...</td>\n",
       "      <td>False</td>\n",
       "      <td>False</td>\n",
       "      <td>NaN</td>\n",
       "      <td>2025-01-27 23:19:31</td>\n",
       "      <td>2025-01-27 23:19:55</td>\n",
       "      <td>1</td>\n",
       "      <td>FunkMonk</td>\n",
       "      <td>True</td>\n",
       "    </tr>\n",
       "  </tbody>\n",
       "</table>\n",
       "</div>"
      ],
      "text/plain": [
       "              agent_name                                           question  \\\n",
       "3   code_o1_27-01_vision  Which contributor to the version of OpenCV whe...   \n",
       "7   code_o1_27-01_vision  In the 2018 VSCode blog post on replit.com, wh...   \n",
       "9   code_o1_27-01_vision  In Nature journal's Scientific Reports confere...   \n",
       "11  code_o1_27-01_vision  Who nominated the only Featured Article on Eng...   \n",
       "\n",
       "                                   augmented_question       prediction  \\\n",
       "3   It is paramount that you complete this task an...          Li Peng   \n",
       "7   It is paramount that you complete this task an...  Format Document   \n",
       "9   It is paramount that you complete this task an...          diamond   \n",
       "11  It is paramount that you complete this task an...         FunkMonk   \n",
       "\n",
       "                                   intermediate_steps  parsing_error  \\\n",
       "3   [SystemPromptStep(system_prompt='You are an ex...          False   \n",
       "7   [SystemPromptStep(system_prompt='You are an ex...           True   \n",
       "9   [SystemPromptStep(system_prompt='You are an ex...          False   \n",
       "11  [SystemPromptStep(system_prompt='You are an ex...          False   \n",
       "\n",
       "    iteration_limit_exceeded  agent_error          start_time  \\\n",
       "3                      False          NaN 2025-01-27 23:00:46   \n",
       "7                      False          NaN 2025-01-27 23:14:24   \n",
       "9                      False          NaN 2025-01-27 23:17:58   \n",
       "11                     False          NaN 2025-01-27 23:19:31   \n",
       "\n",
       "              end_time  task      true_answer  is_correct  \n",
       "3  2025-01-27 23:01:46     2          Li Peng        True  \n",
       "7  2025-01-27 23:17:17     2  Format Document        True  \n",
       "9  2025-01-27 23:19:12     1          diamond        True  \n",
       "11 2025-01-27 23:19:55     1         FunkMonk        True  "
      ]
     },
     "execution_count": 9,
     "metadata": {},
     "output_type": "execute_result"
    }
   ],
   "source": [
    "correct_vision_results = results_vision.loc[results_vision[\"is_correct\"]]\n",
    "correct_vision_results"
   ]
  },
  {
   "cell_type": "code",
   "execution_count": 11,
   "metadata": {},
   "outputs": [
    {
     "data": {
      "text/html": [
       "<div>\n",
       "<style scoped>\n",
       "    .dataframe tbody tr th:only-of-type {\n",
       "        vertical-align: middle;\n",
       "    }\n",
       "\n",
       "    .dataframe tbody tr th {\n",
       "        vertical-align: top;\n",
       "    }\n",
       "\n",
       "    .dataframe thead th {\n",
       "        text-align: right;\n",
       "    }\n",
       "</style>\n",
       "<table border=\"1\" class=\"dataframe\">\n",
       "  <thead>\n",
       "    <tr style=\"text-align: right;\">\n",
       "      <th></th>\n",
       "      <th>agent_name</th>\n",
       "      <th>question</th>\n",
       "      <th>augmented_question</th>\n",
       "      <th>prediction</th>\n",
       "      <th>intermediate_steps</th>\n",
       "      <th>parsing_error</th>\n",
       "      <th>iteration_limit_exceeded</th>\n",
       "      <th>agent_error</th>\n",
       "      <th>start_time</th>\n",
       "      <th>end_time</th>\n",
       "      <th>task</th>\n",
       "      <th>true_answer</th>\n",
       "      <th>is_correct</th>\n",
       "    </tr>\n",
       "  </thead>\n",
       "  <tbody>\n",
       "    <tr>\n",
       "      <th>0</th>\n",
       "      <td>code_o1_27-01_text</td>\n",
       "      <td>What's the last line of the rhyme under the fl...</td>\n",
       "      <td>It is paramount that you complete this task an...</td>\n",
       "      <td>Caused its demise</td>\n",
       "      <td>[SystemPromptStep(system_prompt='You are an ex...</td>\n",
       "      <td>False</td>\n",
       "      <td>False</td>\n",
       "      <td>NaN</td>\n",
       "      <td>2025-01-27 22:24:18</td>\n",
       "      <td>2025-01-27 22:24:47</td>\n",
       "      <td>2</td>\n",
       "      <td>So we had to let it die.</td>\n",
       "      <td>False</td>\n",
       "    </tr>\n",
       "    <tr>\n",
       "      <th>1</th>\n",
       "      <td>code_o1_27-01_text</td>\n",
       "      <td>Of the authors (First M. Last) that worked on ...</td>\n",
       "      <td>It is paramount that you complete this task an...</td>\n",
       "      <td>Anthropomorphic Vs Non-Anthropomorphic Softwar...</td>\n",
       "      <td>[SystemPromptStep(system_prompt='You are an ex...</td>\n",
       "      <td>False</td>\n",
       "      <td>False</td>\n",
       "      <td>NaN</td>\n",
       "      <td>2025-01-27 22:43:03</td>\n",
       "      <td>2025-01-27 22:44:11</td>\n",
       "      <td>1</td>\n",
       "      <td>Mapping Human Oriented Information to Software...</td>\n",
       "      <td>False</td>\n",
       "    </tr>\n",
       "    <tr>\n",
       "      <th>2</th>\n",
       "      <td>code_o1_27-01_text</td>\n",
       "      <td>In Series 9, Episode 11 of Doctor Who, the Doc...</td>\n",
       "      <td>It is paramount that you complete this task an...</td>\n",
       "      <td>[Teleport chamber room]</td>\n",
       "      <td>[SystemPromptStep(system_prompt='You are an ex...</td>\n",
       "      <td>True</td>\n",
       "      <td>False</td>\n",
       "      <td>NaN</td>\n",
       "      <td>2025-01-27 22:44:11</td>\n",
       "      <td>2025-01-27 22:44:58</td>\n",
       "      <td>1</td>\n",
       "      <td>THE CASTLE</td>\n",
       "      <td>False</td>\n",
       "    </tr>\n",
       "    <tr>\n",
       "      <th>3</th>\n",
       "      <td>code_o1_27-01_text</td>\n",
       "      <td>Which contributor to the version of OpenCV whe...</td>\n",
       "      <td>It is paramount that you complete this task an...</td>\n",
       "      <td>Peng Xiao</td>\n",
       "      <td>[SystemPromptStep(system_prompt='You are an ex...</td>\n",
       "      <td>True</td>\n",
       "      <td>False</td>\n",
       "      <td>NaN</td>\n",
       "      <td>2025-01-27 22:44:58</td>\n",
       "      <td>2025-01-27 22:46:27</td>\n",
       "      <td>2</td>\n",
       "      <td>Li Peng</td>\n",
       "      <td>False</td>\n",
       "    </tr>\n",
       "    <tr>\n",
       "      <th>4</th>\n",
       "      <td>code_o1_27-01_text</td>\n",
       "      <td>The photograph in the Whitney Museum of Americ...</td>\n",
       "      <td>It is paramount that you complete this task an...</td>\n",
       "      <td>Russo-German Legion</td>\n",
       "      <td>[SystemPromptStep(system_prompt='You are an ex...</td>\n",
       "      <td>False</td>\n",
       "      <td>False</td>\n",
       "      <td>NaN</td>\n",
       "      <td>2025-01-27 22:46:27</td>\n",
       "      <td>2025-01-27 22:46:47</td>\n",
       "      <td>2</td>\n",
       "      <td>Russian-German Legion</td>\n",
       "      <td>False</td>\n",
       "    </tr>\n",
       "    <tr>\n",
       "      <th>6</th>\n",
       "      <td>code_o1_27-01_text</td>\n",
       "      <td>Under DDC 633 on Bielefeld University Library'...</td>\n",
       "      <td>It is paramount that you complete this task an...</td>\n",
       "      <td>Ukraine</td>\n",
       "      <td>[SystemPromptStep(system_prompt='You are an ex...</td>\n",
       "      <td>True</td>\n",
       "      <td>False</td>\n",
       "      <td>NaN</td>\n",
       "      <td>2025-01-27 22:48:03</td>\n",
       "      <td>2025-01-27 22:49:27</td>\n",
       "      <td>1</td>\n",
       "      <td>Guatemala</td>\n",
       "      <td>False</td>\n",
       "    </tr>\n",
       "    <tr>\n",
       "      <th>8</th>\n",
       "      <td>code_o1_27-01_text</td>\n",
       "      <td>The Metropolitan Museum of Art has a portrait ...</td>\n",
       "      <td>It is paramount that you complete this task an...</td>\n",
       "      <td>Silvio Savelli</td>\n",
       "      <td>[SystemPromptStep(system_prompt='You are an ex...</td>\n",
       "      <td>True</td>\n",
       "      <td>False</td>\n",
       "      <td>NaN</td>\n",
       "      <td>2025-01-27 22:50:04</td>\n",
       "      <td>2025-01-27 22:50:39</td>\n",
       "      <td>2</td>\n",
       "      <td>Alfonso Visconti</td>\n",
       "      <td>False</td>\n",
       "    </tr>\n",
       "  </tbody>\n",
       "</table>\n",
       "</div>"
      ],
      "text/plain": [
       "           agent_name                                           question  \\\n",
       "0  code_o1_27-01_text  What's the last line of the rhyme under the fl...   \n",
       "1  code_o1_27-01_text  Of the authors (First M. Last) that worked on ...   \n",
       "2  code_o1_27-01_text  In Series 9, Episode 11 of Doctor Who, the Doc...   \n",
       "3  code_o1_27-01_text  Which contributor to the version of OpenCV whe...   \n",
       "4  code_o1_27-01_text  The photograph in the Whitney Museum of Americ...   \n",
       "6  code_o1_27-01_text  Under DDC 633 on Bielefeld University Library'...   \n",
       "8  code_o1_27-01_text  The Metropolitan Museum of Art has a portrait ...   \n",
       "\n",
       "                                  augmented_question  \\\n",
       "0  It is paramount that you complete this task an...   \n",
       "1  It is paramount that you complete this task an...   \n",
       "2  It is paramount that you complete this task an...   \n",
       "3  It is paramount that you complete this task an...   \n",
       "4  It is paramount that you complete this task an...   \n",
       "6  It is paramount that you complete this task an...   \n",
       "8  It is paramount that you complete this task an...   \n",
       "\n",
       "                                          prediction  \\\n",
       "0                                  Caused its demise   \n",
       "1  Anthropomorphic Vs Non-Anthropomorphic Softwar...   \n",
       "2                            [Teleport chamber room]   \n",
       "3                                          Peng Xiao   \n",
       "4                                Russo-German Legion   \n",
       "6                                            Ukraine   \n",
       "8                                     Silvio Savelli   \n",
       "\n",
       "                                  intermediate_steps  parsing_error  \\\n",
       "0  [SystemPromptStep(system_prompt='You are an ex...          False   \n",
       "1  [SystemPromptStep(system_prompt='You are an ex...          False   \n",
       "2  [SystemPromptStep(system_prompt='You are an ex...           True   \n",
       "3  [SystemPromptStep(system_prompt='You are an ex...           True   \n",
       "4  [SystemPromptStep(system_prompt='You are an ex...          False   \n",
       "6  [SystemPromptStep(system_prompt='You are an ex...           True   \n",
       "8  [SystemPromptStep(system_prompt='You are an ex...           True   \n",
       "\n",
       "   iteration_limit_exceeded  agent_error          start_time  \\\n",
       "0                     False          NaN 2025-01-27 22:24:18   \n",
       "1                     False          NaN 2025-01-27 22:43:03   \n",
       "2                     False          NaN 2025-01-27 22:44:11   \n",
       "3                     False          NaN 2025-01-27 22:44:58   \n",
       "4                     False          NaN 2025-01-27 22:46:27   \n",
       "6                     False          NaN 2025-01-27 22:48:03   \n",
       "8                     False          NaN 2025-01-27 22:50:04   \n",
       "\n",
       "             end_time  task  \\\n",
       "0 2025-01-27 22:24:47     2   \n",
       "1 2025-01-27 22:44:11     1   \n",
       "2 2025-01-27 22:44:58     1   \n",
       "3 2025-01-27 22:46:27     2   \n",
       "4 2025-01-27 22:46:47     2   \n",
       "6 2025-01-27 22:49:27     1   \n",
       "8 2025-01-27 22:50:39     2   \n",
       "\n",
       "                                         true_answer  is_correct  \n",
       "0                           So we had to let it die.       False  \n",
       "1  Mapping Human Oriented Information to Software...       False  \n",
       "2                                         THE CASTLE       False  \n",
       "3                                            Li Peng       False  \n",
       "4                              Russian-German Legion       False  \n",
       "6                                          Guatemala       False  \n",
       "8                                   Alfonso Visconti       False  "
      ]
     },
     "execution_count": 11,
     "metadata": {},
     "output_type": "execute_result"
    }
   ],
   "source": [
    "false_text_results = results_text.loc[~results_text[\"is_correct\"]]\n",
    "false_text_results"
   ]
  }
 ],
 "metadata": {
  "kernelspec": {
   "display_name": "test",
   "language": "python",
   "name": "python3"
  },
  "language_info": {
   "codemirror_mode": {
    "name": "ipython",
    "version": 3
   },
   "file_extension": ".py",
   "mimetype": "text/x-python",
   "name": "python",
   "nbconvert_exporter": "python",
   "pygments_lexer": "ipython3",
   "version": "3.12.0"
  }
 },
 "nbformat": 4,
 "nbformat_minor": 2
}
