{
 "cells": [
  {
   "cell_type": "code",
   "execution_count": 1,
   "metadata": {},
   "outputs": [],
   "source": [
    "!pip install plotly kaleido datasets nbformat -U -q"
   ]
  },
  {
   "cell_type": "code",
   "execution_count": 2,
   "metadata": {},
   "outputs": [
    {
     "name": "stderr",
     "output_type": "stream",
     "text": [
      "/Users/aymeric/venv/gaia/lib/python3.12/site-packages/tqdm/auto.py:21: TqdmWarning: IProgress not found. Please update jupyter and ipywidgets. See https://ipywidgets.readthedocs.io/en/stable/user_install.html\n",
      "  from .autonotebook import tqdm as notebook_tqdm\n",
      "Note: Environment variable`HF_TOKEN` is set and is the current active token independently from the token you've just configured.\n"
     ]
    }
   ],
   "source": [
    "import os\n",
    "\n",
    "import datasets\n",
    "import pandas as pd\n",
    "from dotenv import load_dotenv\n",
    "from huggingface_hub import login\n",
    "\n",
    "\n",
    "load_dotenv(override=True)\n",
    "login(os.getenv(\"HF_TOKEN\"))\n",
    "\n",
    "pd.set_option(\"max_colwidth\", None)\n",
    "\n",
    "OUTPUT_DIR = \"output\""
   ]
  },
  {
   "cell_type": "code",
   "execution_count": 3,
   "metadata": {},
   "outputs": [],
   "source": [
    "eval_ds = datasets.load_dataset(\"gaia-benchmark/GAIA\", \"2023_all\")[\"validation\"]\n",
    "eval_ds = eval_ds.rename_columns({\"Question\": \"question\", \"Final answer\": \"true_answer\", \"Level\": \"task\"})\n",
    "eval_df = pd.DataFrame(eval_ds)"
   ]
  },
  {
   "cell_type": "code",
   "execution_count": 4,
   "metadata": {},
   "outputs": [
    {
     "data": {
      "text/plain": [
       "2    86\n",
       "1    53\n",
       "3    26\n",
       "Name: count, dtype: int64"
      ]
     },
     "execution_count": 4,
     "metadata": {},
     "output_type": "execute_result"
    }
   ],
   "source": [
    "pd.Series(eval_ds[\"task\"]).value_counts()"
   ]
  },
  {
   "cell_type": "markdown",
   "metadata": {},
   "source": [
    "# 1. Load all results"
   ]
  },
  {
   "cell_type": "code",
   "execution_count": 5,
   "metadata": {},
   "outputs": [],
   "source": [
    "import glob\n",
    "\n",
    "results = []\n",
    "for f in glob.glob(f\"{OUTPUT_DIR}/validation/*.jsonl\"):\n",
    "    df = pd.read_json(f, lines=True)\n",
    "    df[\"agent_name\"] = f.split(\"/\")[-1].split(\".\")[0]\n",
    "    results.append(df)\n",
    "\n",
    "result_df = pd.concat(results)\n",
    "result_df = result_df.drop(columns=[\"start_time\", \"end_time\"])\n",
    "result_df[\"prediction\"] = result_df[\"prediction\"].fillna(\"No prediction\")"
   ]
  },
  {
   "cell_type": "code",
   "execution_count": 6,
   "metadata": {},
   "outputs": [
    {
     "name": "stdout",
     "output_type": "stream",
     "text": [
      "String 250 for Cheater cannot be normalized to number str.\n",
      "String  220 for Cheater beater cannot be normalized to number str.\n",
      "String Unable to determine cannot be normalized to number str.\n",
      "String 120.28 for Cheater cannot be normalized to number str.\n",
      "String  119.04 for Cheater beater cannot be normalized to number str.\n",
      "String 3 or 4 cannot be normalized to number str.\n",
      "String 2017 Komo Mai Drive 900000 cannot be normalized to number str.\n",
      "String Unable to determine cannot be normalized to number str.\n",
      "String 1.46 Å cannot be normalized to number str.\n",
      "String  cannot be normalized to number str.\n",
      "String Unable to determine cannot be normalized to number str.\n",
      "String Unable to determine cannot be normalized to number str.\n",
      "String Unable to determine cannot be normalized to number str.\n",
      "String 94.5 for Cheater cannot be normalized to number str.\n",
      "String  93.5 for Cheater beater cannot be normalized to number str.\n",
      "String Unable to determine cannot be normalized to number str.\n",
      "String 2017 Komo Mai Drive 900000 cannot be normalized to number str.\n",
      "String Unable to determine cannot be normalized to number str.\n",
      "String Unable to determine cannot be normalized to number str.\n",
      "String Unable to determine cannot be normalized to number str.\n",
      "Close call: INT. THE CASTLE vs THE CASTLE\n",
      "Close call: to be or not to be that is the question whether tis nobler in the mind to suffer the slings and arrows of outrageous fortune or to take arms against a sea of troubles and by opposing end them vs To be or not to be that is the question whether tis nobler in the mind to suffer the slings and arrows of outrageous fortune\n",
      "Close call: rockhopper penguins vs Rockhopper penguin\n",
      "Close call: EC 3.1.3.1;EC 1.11.1.7 vs 3.1.3.1; 1.11.1.7\n",
      "Close call: to be or not to be that is the question whether tis nobler in the mind to suffer the slings and arrows of outrageous fortune or to take arms against a sea of troubles and by opposing end them vs To be or not to be that is the question whether tis nobler in the mind to suffer the slings and arrows of outrageous fortune\n",
      "Close call: Alfonso Cardinal Visconti vs Alfonso Visconti\n"
     ]
    },
    {
     "name": "stderr",
     "output_type": "stream",
     "text": [
      "/Users/aymeric/Documents/Code/smolagents/examples/GAIA_submission/scripts/gaia_scorer.py:52: UserWarning: Answer lists have different lengths, returning False.\n",
      "  warnings.warn(\"Answer lists have different lengths, returning False.\", UserWarning)\n"
     ]
    }
   ],
   "source": [
    "import re\n",
    "from collections import Counter\n",
    "\n",
    "from scripts.gaia_scorer import check_close_call, question_scorer\n",
    "\n",
    "\n",
    "result_df[\"is_correct\"] = result_df.apply(lambda x: question_scorer(x[\"prediction\"], x[\"true_answer\"]), axis=1)\n",
    "result_df[\"is_near_correct\"] = result_df.apply(\n",
    "    lambda x: check_close_call(x[\"prediction\"], x[\"true_answer\"], x[\"is_correct\"]),\n",
    "    axis=1,\n",
    ")\n",
    "\n",
    "result_df[\"count_steps\"] = result_df[\"intermediate_steps\"].apply(len)\n",
    "\n",
    "\n",
    "def find_attachment(question):\n",
    "    matches = eval_df.loc[eval_df[\"question\"].apply(lambda x: x in question), \"file_name\"]\n",
    "\n",
    "    if len(matches) == 0:\n",
    "        return \"Not found\"\n",
    "    file_path = matches.values[0]\n",
    "\n",
    "    if isinstance(file_path, str) and len(file_path) > 0:\n",
    "        return file_path.split(\".\")[-1]\n",
    "    else:\n",
    "        return \"None\"\n",
    "\n",
    "\n",
    "result_df[\"attachment_type\"] = result_df[\"question\"].apply(find_attachment)\n",
    "\n",
    "\n",
    "def extract_tool_calls(code):\n",
    "    regex = r\"\\b(\\w+)\\(\"\n",
    "    function_calls = [el for el in re.findall(regex, code) if el.islower()]\n",
    "\n",
    "    function_call_counter = Counter(function_calls)\n",
    "    return function_call_counter\n",
    "\n",
    "\n",
    "def sum_tool_calls(steps):\n",
    "    total_count = Counter()\n",
    "    for step in steps:\n",
    "        if \"llm_output\" in step:\n",
    "            total_count += extract_tool_calls(step[\"llm_output\"])\n",
    "\n",
    "    return total_count\n",
    "\n",
    "\n",
    "# result_df[\"tool_calls\"] = result_df[\"intermediate_steps\"].apply(sum_tool_calls)"
   ]
  },
  {
   "cell_type": "code",
   "execution_count": 7,
   "metadata": {},
   "outputs": [],
   "source": [
    "def get_thoughts(x):\n",
    "    try:\n",
    "        output = x[0][\"task\"]\n",
    "        for y in x[1:]:\n",
    "            try:\n",
    "                if \"observation\" in y:\n",
    "                    output += y[\"llm_output\"] + \"\\nObservation:\" + y[\"observation\"]\n",
    "                else:\n",
    "                    output += y[\"llm_output\"] + r\"\\Error:\" + str(y[\"error\"])\n",
    "            except Exception:\n",
    "                pass\n",
    "        return output\n",
    "    except Exception:\n",
    "        return None\n",
    "\n",
    "\n",
    "result_df[\"thoughts\"] = result_df[\"intermediate_steps\"].apply(lambda x: get_thoughts(x))"
   ]
  },
  {
   "cell_type": "code",
   "execution_count": 8,
   "metadata": {},
   "outputs": [
    {
     "data": {
      "text/plain": [
       "agent_name\n",
       "code_o1_01_february_text                       163\n",
       "code_o1_29-01_text                             105\n",
       "code_o1_22-01_managedagent-summary_planning     67\n",
       "code_o1_25-01_visioon                           53\n",
       "Name: count, dtype: int64"
      ]
     },
     "execution_count": 8,
     "metadata": {},
     "output_type": "execute_result"
    }
   ],
   "source": [
    "result_df[\"agent_name\"].value_counts()"
   ]
  },
  {
   "cell_type": "markdown",
   "metadata": {},
   "source": [
    "# 2. Inspect specific runs"
   ]
  },
  {
   "cell_type": "code",
   "execution_count": 9,
   "metadata": {},
   "outputs": [
    {
     "data": {
      "text/plain": [
       "agent_name\n",
       "code_o1_01_february_text    163\n",
       "code_o1_29-01_text          105\n",
       "code_o1_25-01_visioon        53\n",
       "Name: count, dtype: int64"
      ]
     },
     "metadata": {},
     "output_type": "display_data"
    },
    {
     "data": {
      "text/plain": [
       "agent_name                task\n",
       "code_o1_01_february_text  2       85\n",
       "                          1       53\n",
       "                          3       25\n",
       "code_o1_25-01_visioon     2       30\n",
       "                          1       17\n",
       "                          3        6\n",
       "code_o1_29-01_text        2       58\n",
       "                          1       31\n",
       "                          3       16\n",
       "Name: count, dtype: int64"
      ]
     },
     "metadata": {},
     "output_type": "display_data"
    },
    {
     "name": "stdout",
     "output_type": "stream",
     "text": [
      "Total length: 321 - is complete: False\n"
     ]
    }
   ],
   "source": [
    "o1_vision = \"code_o1_25-01_visioon\"\n",
    "o1_next = \"code_o1_29-01_text\"\n",
    "o1 = \"code_o1_01_february_text\"\n",
    "\n",
    "list_versions = [o1, o1_vision, o1_next]\n",
    "\n",
    "# submission_selection_name = \"react_code_llama3-70b_02-05_full-gaia-validation-code\"\n",
    "sel_df = result_df.loc[\n",
    "    (result_df[\"agent_name\"].isin(list_versions))\n",
    "    # & (~result_df[\"question\"].isin(UNSOLVED_QUESTIONS))\n",
    "].reset_index(drop=True)\n",
    "display(sel_df[\"agent_name\"].value_counts())\n",
    "sel_df = sel_df.drop_duplicates(subset=[\"agent_name\", \"question\"])\n",
    "display(sel_df.groupby(\"agent_name\")[[\"task\"]].value_counts())\n",
    "print(\"Total length:\", len(sel_df), \"- is complete:\", len(sel_df) == 165)\n",
    "# assert sel_df[\"question\"].value_counts().max() == len(list_versions), \"Some questions are duplicate!\""
   ]
  },
  {
   "cell_type": "code",
   "execution_count": 10,
   "metadata": {},
   "outputs": [
    {
     "data": {
      "text/plain": [
       "'Average score:'"
      ]
     },
     "metadata": {},
     "output_type": "display_data"
    },
    {
     "data": {
      "text/html": [
       "<div>\n",
       "<style scoped>\n",
       "    .dataframe tbody tr th:only-of-type {\n",
       "        vertical-align: middle;\n",
       "    }\n",
       "\n",
       "    .dataframe tbody tr th {\n",
       "        vertical-align: top;\n",
       "    }\n",
       "\n",
       "    .dataframe thead th {\n",
       "        text-align: right;\n",
       "    }\n",
       "</style>\n",
       "<table border=\"1\" class=\"dataframe\">\n",
       "  <thead>\n",
       "    <tr style=\"text-align: right;\">\n",
       "      <th></th>\n",
       "      <th>is_correct</th>\n",
       "    </tr>\n",
       "    <tr>\n",
       "      <th>agent_name</th>\n",
       "      <th></th>\n",
       "    </tr>\n",
       "  </thead>\n",
       "  <tbody>\n",
       "    <tr>\n",
       "      <th>code_o1_01_february_text</th>\n",
       "      <td>0.491</td>\n",
       "    </tr>\n",
       "    <tr>\n",
       "      <th>code_o1_25-01_visioon</th>\n",
       "      <td>0.340</td>\n",
       "    </tr>\n",
       "    <tr>\n",
       "      <th>code_o1_29-01_text</th>\n",
       "      <td>0.390</td>\n",
       "    </tr>\n",
       "  </tbody>\n",
       "</table>\n",
       "</div>"
      ],
      "text/plain": [
       "                          is_correct\n",
       "agent_name                          \n",
       "code_o1_01_february_text       0.491\n",
       "code_o1_25-01_visioon          0.340\n",
       "code_o1_29-01_text             0.390"
      ]
     },
     "metadata": {},
     "output_type": "display_data"
    },
    {
     "data": {
      "text/html": [
       "<div>\n",
       "<style scoped>\n",
       "    .dataframe tbody tr th:only-of-type {\n",
       "        vertical-align: middle;\n",
       "    }\n",
       "\n",
       "    .dataframe tbody tr th {\n",
       "        vertical-align: top;\n",
       "    }\n",
       "\n",
       "    .dataframe thead th {\n",
       "        text-align: right;\n",
       "    }\n",
       "</style>\n",
       "<table border=\"1\" class=\"dataframe\">\n",
       "  <thead>\n",
       "    <tr style=\"text-align: right;\">\n",
       "      <th></th>\n",
       "      <th></th>\n",
       "      <th>is_correct</th>\n",
       "      <th>is_near_correct</th>\n",
       "      <th>count_steps</th>\n",
       "      <th>count</th>\n",
       "    </tr>\n",
       "    <tr>\n",
       "      <th>agent_name</th>\n",
       "      <th>task</th>\n",
       "      <th></th>\n",
       "      <th></th>\n",
       "      <th></th>\n",
       "      <th></th>\n",
       "    </tr>\n",
       "  </thead>\n",
       "  <tbody>\n",
       "    <tr>\n",
       "      <th rowspan=\"3\" valign=\"top\">code_o1_01_february_text</th>\n",
       "      <th>1</th>\n",
       "      <td>0.547170</td>\n",
       "      <td>0.566038</td>\n",
       "      <td>2.849057</td>\n",
       "      <td>53</td>\n",
       "    </tr>\n",
       "    <tr>\n",
       "      <th>2</th>\n",
       "      <td>0.529412</td>\n",
       "      <td>0.529412</td>\n",
       "      <td>3.317647</td>\n",
       "      <td>85</td>\n",
       "    </tr>\n",
       "    <tr>\n",
       "      <th>3</th>\n",
       "      <td>0.240000</td>\n",
       "      <td>0.240000</td>\n",
       "      <td>4.480000</td>\n",
       "      <td>25</td>\n",
       "    </tr>\n",
       "    <tr>\n",
       "      <th rowspan=\"3\" valign=\"top\">code_o1_25-01_visioon</th>\n",
       "      <th>1</th>\n",
       "      <td>0.411765</td>\n",
       "      <td>0.411765</td>\n",
       "      <td>5.294118</td>\n",
       "      <td>17</td>\n",
       "    </tr>\n",
       "    <tr>\n",
       "      <th>2</th>\n",
       "      <td>0.366667</td>\n",
       "      <td>0.366667</td>\n",
       "      <td>5.333333</td>\n",
       "      <td>30</td>\n",
       "    </tr>\n",
       "    <tr>\n",
       "      <th>3</th>\n",
       "      <td>0.000000</td>\n",
       "      <td>0.000000</td>\n",
       "      <td>6.666667</td>\n",
       "      <td>6</td>\n",
       "    </tr>\n",
       "    <tr>\n",
       "      <th rowspan=\"3\" valign=\"top\">code_o1_29-01_text</th>\n",
       "      <th>1</th>\n",
       "      <td>0.516129</td>\n",
       "      <td>0.516129</td>\n",
       "      <td>4.967742</td>\n",
       "      <td>31</td>\n",
       "    </tr>\n",
       "    <tr>\n",
       "      <th>2</th>\n",
       "      <td>0.379310</td>\n",
       "      <td>0.431034</td>\n",
       "      <td>5.241379</td>\n",
       "      <td>58</td>\n",
       "    </tr>\n",
       "    <tr>\n",
       "      <th>3</th>\n",
       "      <td>0.187500</td>\n",
       "      <td>0.187500</td>\n",
       "      <td>6.500000</td>\n",
       "      <td>16</td>\n",
       "    </tr>\n",
       "  </tbody>\n",
       "</table>\n",
       "</div>"
      ],
      "text/plain": [
       "                               is_correct  is_near_correct  count_steps  count\n",
       "agent_name               task                                                 \n",
       "code_o1_01_february_text 1       0.547170         0.566038     2.849057     53\n",
       "                         2       0.529412         0.529412     3.317647     85\n",
       "                         3       0.240000         0.240000     4.480000     25\n",
       "code_o1_25-01_visioon    1       0.411765         0.411765     5.294118     17\n",
       "                         2       0.366667         0.366667     5.333333     30\n",
       "                         3       0.000000         0.000000     6.666667      6\n",
       "code_o1_29-01_text       1       0.516129         0.516129     4.967742     31\n",
       "                         2       0.379310         0.431034     5.241379     58\n",
       "                         3       0.187500         0.187500     6.500000     16"
      ]
     },
     "metadata": {},
     "output_type": "display_data"
    }
   ],
   "source": [
    "display(\"Average score:\", sel_df.groupby(\"agent_name\")[[\"is_correct\"]].mean().round(3))\n",
    "display(\n",
    "    sel_df.groupby([\"agent_name\", \"task\"])[[\"is_correct\", \"is_near_correct\", \"count_steps\", \"question\"]]\n",
    "    .agg(\n",
    "        {\n",
    "            \"is_correct\": \"mean\",\n",
    "            \"is_near_correct\": \"mean\",\n",
    "            \"count_steps\": \"mean\",\n",
    "            \"question\": \"count\",\n",
    "        }\n",
    "    )\n",
    "    .rename(columns={\"question\": \"count\"})\n",
    ")"
   ]
  },
  {
   "cell_type": "code",
   "execution_count": 11,
   "metadata": {},
   "outputs": [
    {
     "data": {
      "application/vnd.plotly.v1+json": {
       "config": {
        "plotlyServerURL": "https://plot.ly"
       },
       "data": [
        {
         "customdata": [
          [
           "If Eliud Kipchoge could maintain his record-making"
          ],
          [
           "The attached spreadsheet shows the inventory for a"
          ],
          [
           "A paper about AI regulation that was originally su"
          ],
          [
           "If we assume all articles published by Nature in 2"
          ],
          [
           "I’m researching species that became invasive after"
          ],
          [
           "In Unlambda, what exact charcter or text needs to "
          ],
          [
           "The object in the British Museum's collection with"
          ],
          [
           "In April of 1977, who was the Prime Minister of th"
          ],
          [
           "Using the Biopython library in Python, parse the P"
          ],
          [
           "What was the volume in m^3 of the fish bag that wa"
          ],
          [
           "In July 2, 1959 United States standards for grades"
          ],
          [
           "Here's a fun riddle that I think you'll enjoy.\n\nYo"
          ],
          [
           "Use density measures from the chemistry materials "
          ],
          [
           "When you take the average of the standard populati"
          ],
          [
           "How many studio albums were published by Mercedes "
          ],
          [
           "In terms of geographical distance between capital "
          ],
          [
           "What's the last line of the rhyme under the flavor"
          ],
          [
           "Of the authors (First M. Last) that worked on the "
          ],
          [
           "In Series 9, Episode 11 of Doctor Who, the Doctor "
          ],
          [
           "Assuming scientists in the famous youtube video Th"
          ],
          [
           "I need to fact-check a citation. This is the citat"
          ],
          [
           "According to github, when was Regression added to "
          ],
          [
           "In the NCATS PubChem compound database for Food Ad"
          ],
          [
           "What is the maximum length in meters of #9 in the "
          ],
          [
           "What two-word type of model did Manash Pratim Kash"
          ],
          [
           ".rewsna eht sa \"tfel\" drow eht fo etisoppo eht eti"
          ],
          [
           "How many High Energy Physics - Lattice articles li"
          ],
          [
           "What is the minimum number of page links a person "
          ],
          [
           "Which contributor to the version of OpenCV where s"
          ],
          [
           "¬(A ∧ B) ↔ (¬A ∨ ¬B)\n¬(A ∨ B) ↔ (¬A ∧ ¬B)\n(A → B) "
          ],
          [
           "Each cell in the attached spreadsheet represents a"
          ],
          [
           "What integer-rounded percentage of the total lengt"
          ],
          [
           "My family reunion is this week, and I was assigned"
          ],
          [
           "The photograph in the Whitney Museum of American A"
          ],
          [
           "In Emily Midkiff's June 2014 article in a journal "
          ],
          [
           "Compute the check digit the Tropicos ID for the Or"
          ],
          [
           "I went to Virtue restaurant & bar in Chicago for m"
          ],
          [
           "Could you help me out with this assignment? Our pr"
          ],
          [
           "In the 2018 VSCode blog post on replit.com, what w"
          ],
          [
           "Under DDC 633 on Bielefeld University Library's BA"
          ],
          [
           "In the fictional language of Tizin, basic sentence"
          ],
          [
           "The Metropolitan Museum of Art has a portrait in i"
          ],
          [
           "The attached file contains a list of vendors in th"
          ],
          [
           "In Valentina Re’s contribution to the 2017 book “W"
          ],
          [
           "Review the chess position provided in the image. I"
          ],
          [
           "In Nature journal's Scientific Reports conference "
          ],
          [
           "In the year 2022, and before December, what does \""
          ],
          [
           "What time was the Tri-Rail train that carried the "
          ],
          [
           "According to Google Finance, when was the first ye"
          ],
          [
           "What writer is quoted by Merriam-Webster for the W"
          ],
          [
           "Who nominated the only Featured Article on English"
          ],
          [
           "Given this table defining * on the set S = {a, b, "
          ],
          [
           "The following numbers function similarly to ISBN 1"
          ],
          [
           "It is 1999. Before you party like it is 1999, plea"
          ],
          [
           "The attached file shows a list of books in the col"
          ],
          [
           "In the video https://www.youtube.com/watch?v=L1vXC"
          ],
          [
           "How many pages if the 2023 IPCC report (85 pages v"
          ],
          [
           "According to Box Office Mojo's 2020 Worldwide Box "
          ],
          [
           "As a comma separated list with no whitespace, usin"
          ],
          [
           "What is the volume in milliliters of a system comp"
          ],
          [
           "Find the value of x to the nearest tenth: Lx = (d/"
          ],
          [
           "On July 15, 2008, Phys.org published an article ab"
          ],
          [
           "Using bass clef notes, what is the age of someone "
          ],
          [
           "The Latin root of the Yola word \"gimlie\" shares a "
          ],
          [
           "In the NIH translation of the original 1913 Michae"
          ],
          [
           "In the endnote found in the second-to-last paragra"
          ],
          [
           "The attached file lists accommodations in the reso"
          ],
          [
           "If there is anything that doesn't make sense in th"
          ],
          [
           "You are a telecommunications engineer who wants to"
          ],
          [
           "How many edits were made to the Wikipedia page on "
          ],
          [
           "On a leap day before the year 2008, a joke was rem"
          ],
          [
           "I was trying to remember how well the Cheater Beat"
          ],
          [
           "How many slides in this PowerPoint presentation me"
          ],
          [
           "Given $x_0 = -5$ and $f(x) = x^3 + 4x^2 - 3x + 8$,"
          ],
          [
           "As of the 2020 census, what was the population dif"
          ],
          [
           "You are Van Helsing, a renowned vampire hunter. A "
          ],
          [
           "How many images are there in the latest 2022 Lego "
          ],
          [
           "Examine the video at https://www.youtube.com/watch"
          ],
          [
           "This is a secret message my friend gave me. It say"
          ],
          [
           "According to wikipedia, how many Asian countries s"
          ],
          [
           "What is the area of the green polygon in the attac"
          ],
          [
           "Who composed the song that was performed by a roos"
          ],
          [
           "The attached spreadsheet contains the sales of men"
          ],
          [
           "What is the average number of pre-2020 works on th"
          ],
          [
           "You are given this Excel file as a map. You start "
          ],
          [
           "How many nonindigenous crocodiles were found in Fl"
          ],
          [
           "I’m thinking about selling my home, so I want to l"
          ],
          [
           "I'm making a grocery list for my mom, but she's a "
          ],
          [
           "What is the surname of the equine veterinarian men"
          ],
          [
           "How many times was a Twitter/X post cited as a ref"
          ],
          [
           "The attached file shows the locomotives in the col"
          ],
          [
           "I thought we could try a fun word puzzle together "
          ],
          [
           "What is the last word before the second chorus of "
          ],
          [
           "Look at the attached image. The quiz is scored as "
          ],
          [
           "I was referencing each of the tables in the file f"
          ],
          [
           "The attached image contains a Python script. Run t"
          ],
          [
           "On ScienceDirect, what is the difference to 3 deci"
          ],
          [
           "Hi, I'm making a pie but I could use some help wit"
          ],
          [
           "According to the World Bank, which countries had g"
          ],
          [
           "I have the Standard plan in the image below, and I"
          ],
          [
           "The attached PDF lists accommodations in the resor"
          ],
          [
           "The year is 2022. I am at the National Air and Spa"
          ],
          [
           "The work referenced in footnote 397 of Federico La"
          ],
          [
           "What percentage of the total penguin population ac"
          ],
          [
           "This spreadsheet contains a list of clients for a "
          ],
          [
           "It's May 2023, and I'm about to drive across the U"
          ],
          [
           "What is the latest chronological year date written"
          ],
          [
           "In the Scikit-Learn July 2017 changelog, what othe"
          ],
          [
           "The longest-lived vertebrate is named after an isl"
          ],
          [
           "On the BBC Earth YouTube video of the Top 5 Sillie"
          ],
          [
           "What is the final numeric output from the attached"
          ],
          [
           "How many more blocks (also denoted as layers) in B"
          ],
          [
           "During the first week of August 2015, one of the N"
          ],
          [
           "Pull out the sentence in the following 5x7 block o"
          ],
          [
           "Which of the fruits shown in the 2008 painting \"Em"
          ],
          [
           "All of the individuals who formally held the posit"
          ],
          [
           "The YouTube channel Game Grumps began a Let’s Play"
          ],
          [
           "Who did the actor who played Ray in the Polish-lan"
          ],
          [
           "On the DeepFruits fruit detection graph on Connect"
          ],
          [
           "Of the cities within the United States where U.S. "
          ],
          [
           "The book with the doi 10.1353/book.24372 concerns "
          ],
          [
           "Bob was invited to participate in a game show, and"
          ],
          [
           "On Cornell Law School website's legal information "
          ],
          [
           "Consider the following symbols: 𒐜  𒐐𒐚\n\nThis is a n"
          ],
          [
           "As of August 2023, who is the only winner of the U"
          ],
          [
           "The brand that makes these harnesses the dogs are "
          ],
          [
           "Eva Draconis has a personal website which can be a"
          ],
          [
           "According to Girls Who Code, how long did it take "
          ],
          [
           "The attached spreadsheet lists the locomotives own"
          ],
          [
           "How many at bats did the Yankee with the most walk"
          ],
          [
           "What was the complete title of the book in which t"
          ],
          [
           "The cover of the August 2021 issue of Vogue shows "
          ],
          [
           "The attached file lists the locomotives owned by a"
          ],
          [
           "In Audre Lorde’s poem “Father Son and Holy Ghost”,"
          ],
          [
           "Hi, I was out sick from my classes on Friday, so I"
          ],
          [
           "A 5-man group made up of one tank, one healer, and"
          ],
          [
           "According to Openreview.net, at the NeurIPS 2022 C"
          ],
          [
           "Take the gender split from the 2011 Bulgarian cens"
          ],
          [
           "When was a picture of St. Thomas Aquinas first add"
          ],
          [
           "If this whole pint is made up of ice cream, how ma"
          ],
          [
           "What is the absolute difference in tens of thousan"
          ],
          [
           "I'd like to learn more about some popular reality "
          ],
          [
           "The attached spreadsheet contains a list of books "
          ],
          [
           "Where were the Vietnamese specimens described by K"
          ],
          [
           "A standard Rubik’s cube has been broken into cubes"
          ],
          [
           "Who are the pitchers with the number before and af"
          ],
          [
           "What is the first name of the only Malko Competiti"
          ],
          [
           "What was the actual enrollment count of the clinic"
          ],
          [
           "On June 6, 2023, an article by Carolyn Collins Pet"
          ],
          [
           "I'm curious about how much information is availabl"
          ],
          [
           "In the film Goldfinger, what color was the object "
          ],
          [
           "In the YouTube 360 VR video from March 2018 narrat"
          ],
          [
           "What country had the least number of athletes at t"
          ],
          [
           "In NASA's Astronomy Picture of the Day on 2006 Jan"
          ],
          [
           "As of May 2023, how many stops are between South S"
          ],
          [
           "I read a paper about multiwavelength observations "
          ],
          [
           "At the two-minute mark in the YouTube video upload"
          ],
          [
           "According to the USGS, in what year was the Americ"
          ],
          [
           "In the 2015 Metropolitan Museum of Art exhibition "
          ],
          [
           "The attached Excel file contains the sales of menu"
          ],
          [
           "An office held a Secret Santa gift exchange where "
          ],
          [
           "What are the EC numbers of the two most commonly u"
          ],
          [
           "What animals that were mentioned in both Ilias Lag"
          ]
         ],
         "hovertemplate": "agent_name=code_o1_01_february_text<br>index=%{x}<br>is_correct=%{y}<br>question=%{customdata[0]}<extra></extra>",
         "legendgroup": "code_o1_01_february_text",
         "line": {
          "color": "#636efa",
          "dash": "solid"
         },
         "marker": {
          "symbol": "circle"
         },
         "mode": "lines",
         "name": "code_o1_01_february_text",
         "orientation": "v",
         "showlegend": true,
         "type": "scatter",
         "x": {
          "bdata": "AAABAAIAAwAEAAUABgAHAAgACQAKAAsADAANAA4ADwAQABEAEgATABQAFQAWABcAGAAZABoAGwAcAB0AHgAfACAAIQAiACMAJAAlACYAJwAoACkAKgArACwALQAuAC8AMAAxADIAMwA0ADUANgA3ADgAOQA6ADsAPAA9AD4APwBAAEEAQgBDAEQARQBGAEcASABJAEoASwBMAE0ATgBPAFAAUQBSAFMAVABVAFYAVwBYAFkAWgBbAFwAXQBeAF8AYABhAGIAYwBkAGUAZgBnAGgAaQBqAGsAbABtAG4AbwBwAHEAcgBzAHQAdQB2AHcAeAB5AHoAewB8AH0AfgB/AIAAgQCCAIMAhACFAIYAhwCIAIkAigCLAIwAjQCOAI8AkACRAJIAkwCUAJUAlgCXAJgAmQCaAJsAnACdAJ4AnwCgAKEAogA=",
          "dtype": "i2"
         },
         "xaxis": "x",
         "y": {
          "bdata": "AAAAAAAAAAAAAAAAAADgP1VVVVVVVeU/AAAAAAAA6D+amZmZmZnpP1VVVVVVVeU/t23btm3b5j8AAAAAAADoP1VVVVVVVeU/ZmZmZmZm5j9ddNFFF13kP6uqqqqqquI/FDuxEzux4z+SJEmSJEniPxEREREREeE/AAAAAAAA4j/x8PDw8PDgPwAAAAAAAOA/DeU1lNdQ3j/NzMzMzMzcP57neZ7ned4/F1100UUX3T+96U1vetPbP6uqqqqqqto/KVyPwvUo3D+e2Imd2IndPxzHcRzHcdw/btu2bdu23T9HWO5phOXePwAAAAAAAOA/hBBCCCGE4D8AAAAAAADgP3zwwQcffOA/AAAAAAAA4D9QB3VQB3XgPzmO4ziO4+A/whT5rBtM4T95DeU1lNfgP7ETO7ETO+E/zczMzMzM4D8sUbsStSvhPzEMwzAMw+A/R9wRd8Qd4T900UUXXXThPxEREREREeE/C1nIQhay4D/E5ApicgXhP6uqqqqqquA/FbycgpdT4D+kcD0K16PgP/Hw8PDw8OA/sRM7sRM74T9vZZ9DaoLhP3Icx3Ecx+E/CfKUIE8J4j9u27Zt27bhP3AfwX0E9+E/lnsaYbmn4T8NJ3VfHlvhPxEREREREeE/DcE62rxP4T+MMcYYY4zhP1EURVEUReE/AAAAAAAA4T/RC73QC73gP/jggw8++OA/TKQHKme34D/x8PDw8PDgPxM/o8TPKOE/8RVf8RVf4T8OJFphcyDhPzmO4ziO4+A/iREjRowY4T/CFPmsG0zhPxEREREREeE/NpTXUF5D4T/lJ8RZ+QnhP7ETO7ETO+E/BqLSkT0D4T8zMzMzMzPhPyNl4OnW/OA/LFG7ErUr4T9T59ceclnhP0mSJEmSJOE/8fDw8PDw4D8w6Av6gr7gP93TCMs9jeA/XXTRRRdd4D8DF7jABS7gPwAAAAAAAOA/0AIt0AIt4D+GLGQhC1ngP4QQQgghhOA/QUyuICZX4D+yAmGkHSvgP1VVVVVVVeA/8MXVDzoq4D8VvJyCl1PgP3+lQK1fKeA/UrgehetR4D8cUWDSqXngP6GgoKCgoOA/9lttDE134D/sxE7sxE7gP3ACJ3ACJ+A/463sc0hN4D8hVpTGRybgPwAAAAAAAOA/WQKb9pMl4D8AAAAAAADgP04CcaHmJOA/kiRJkiRJ4D/3QwJvPyTgP34E9xHcR+A/AkVbDZ4j4D/uaYTlnkbgPzACIzACI+A/AAAAAAAA4D/gKLvfKLvfP3d3d3d3d98/jmVQKky83z8uGYJ1tHnfPzgfg/MxON8/+N5777333j8IrBxaZDvfP7/v+77v+94/r9fr9Xq93j8AAAAAAADfP9AX9AV9Qd8/IPiBH/iB3z9xQkqeZUTfP4QPPvjgg98/c/TN0TdH3z9FeqBydgvfPwntJbSX0N4/Dw8PDw8P3z+/ShibBdXeP/EzSvyMEt8/Rs6w4FLZ3j8P6qAO6qDeP3usZeiA3d4/KOO3Sz0Z3z+3xt/NI1TfP+Q4juM4jt8/Dnj84YDH3z/8+PHjx4/fP/LX7KhFyN8/FfmsG0yR3z+ZS4QnBcnfP5NfLPnFkt8//iZ/k7/J3z9DeQ3lNZTfPyB1yh91yt8/cVZ+QpyV3z9hHxf2cWHfP9/yLd/yLd8/EjlBuBv73j9hfleLmzDfP7YR69Jj/t4/MzMzMzMz3z+tsy+iWmffP1ikDDzdmt8/sxpFHDpp3z8=",
          "dtype": "f8"
         },
         "yaxis": "y"
        },
        {
         "customdata": [
          [
           "A paper about AI regulation that was originally su"
          ],
          [
           "I’m researching species that became invasive after"
          ],
          [
           "If we assume all articles published by Nature in 2"
          ],
          [
           "In Unlambda, what exact charcter or text needs to "
          ],
          [
           "If Eliud Kipchoge could maintain his record-making"
          ],
          [
           "How many studio albums were published by Mercedes "
          ],
          [
           "The object in the British Museum's collection with"
          ],
          [
           "According to github, when was Regression added to "
          ],
          [
           "Here's a fun riddle that I think you'll enjoy.\n\nYo"
          ],
          [
           "In July 2, 1959 United States standards for grades"
          ],
          [
           "Using the Biopython library in Python, parse the P"
          ],
          [
           "What are the EC numbers of the two most commonly u"
          ],
          [
           "In April of 1977, who was the Prime Minister of th"
          ],
          [
           "What's the last line of the rhyme under the flavor"
          ],
          [
           "Use density measures from the chemistry materials "
          ],
          [
           "What was the volume in m^3 of the fish bag that wa"
          ],
          [
           "What is the average number of pre-2020 works on th"
          ],
          [
           "In the video https://www.youtube.com/watch?v=L1vXC"
          ],
          [
           "Of the authors (First M. Last) that worked on the "
          ],
          [
           "When you take the average of the standard populati"
          ],
          [
           "Assuming scientists in the famous youtube video Th"
          ],
          [
           "In Series 9, Episode 11 of Doctor Who, the Doctor "
          ],
          [
           "In terms of geographical distance between capital "
          ],
          [
           "In the NCATS PubChem compound database for Food Ad"
          ],
          [
           "I need to fact-check a citation. This is the citat"
          ],
          [
           "Which contributor to the version of OpenCV where s"
          ],
          [
           "What integer-rounded percentage of the total lengt"
          ],
          [
           "An office held a Secret Santa gift exchange where "
          ],
          [
           "What is the maximum length in meters of #9 in the "
          ],
          [
           "What two-word type of model did Manash Pratim Kash"
          ],
          [
           "What animals that were mentioned in both Ilias Lag"
          ],
          [
           "How many High Energy Physics - Lattice articles li"
          ],
          [
           "The photograph in the Whitney Museum of American A"
          ],
          [
           ".rewsna eht sa \"tfel\" drow eht fo etisoppo eht eti"
          ],
          [
           "What is the minimum number of page links a person "
          ],
          [
           "I went to Virtue restaurant & bar in Chicago for m"
          ],
          [
           "¬(A ∧ B) ↔ (¬A ∨ ¬B)\n¬(A ∨ B) ↔ (¬A ∧ ¬B)\n(A → B) "
          ],
          [
           "My family reunion is this week, and I was assigned"
          ],
          [
           "In Emily Midkiff's June 2014 article in a journal "
          ],
          [
           "It is 1999. Before you party like it is 1999, plea"
          ],
          [
           "Under DDC 633 on Bielefeld University Library's BA"
          ],
          [
           "In the 2018 VSCode blog post on replit.com, what w"
          ],
          [
           "Compute the check digit the Tropicos ID for the Or"
          ],
          [
           "What time was the Tri-Rail train that carried the "
          ],
          [
           "Could you help me out with this assignment? Our pr"
          ],
          [
           "In Valentina Re’s contribution to the 2017 book “W"
          ],
          [
           "In the fictional language of Tizin, basic sentence"
          ],
          [
           "The Metropolitan Museum of Art has a portrait in i"
          ],
          [
           "In Nature journal's Scientific Reports conference "
          ],
          [
           "According to Google Finance, when was the first ye"
          ],
          [
           "Review the chess position provided in the image. I"
          ],
          [
           "According to Box Office Mojo's 2020 Worldwide Box "
          ],
          [
           "In the year 2022, and before December, what does \""
          ]
         ],
         "hovertemplate": "agent_name=code_o1_25-01_visioon<br>index=%{x}<br>is_correct=%{y}<br>question=%{customdata[0]}<extra></extra>",
         "legendgroup": "code_o1_25-01_visioon",
         "line": {
          "color": "#EF553B",
          "dash": "solid"
         },
         "marker": {
          "symbol": "circle"
         },
         "mode": "lines",
         "name": "code_o1_25-01_visioon",
         "orientation": "v",
         "showlegend": true,
         "type": "scatter",
         "x": {
          "bdata": "AAECAwQFBgcICQoLDA0ODxAREhMUFRYXGBkaGxwdHh8gISIjJCUmJygpKissLS4vMDEyMzQ=",
          "dtype": "i1"
         },
         "xaxis": "x",
         "y": {
          "bdata": "AAAAAAAA8D8AAAAAAADgP1VVVVVVVdU/AAAAAAAA0D+amZmZmZnJP1VVVVVVVdU/27Zt27Zt2z8AAAAAAADYP1VVVVVVVdU/MzMzMzMz0z900UUXXXTRP1VVVVVVVdU/2Ymd2Imd2D+3bdu2bdvWP5qZmZmZmdk/AAAAAAAA2D+XlpaWlpbWPzmO4ziO49g/Q3kN5TWU1z9mZmZmZmbWP1VVVVVVVdU/XXTRRRdd1D9kIQtZyELWP1VVVVVVVdU/exSuR+F61D92Yid2YifWP1VVVVVVVdU/JUmSJEmS1D8Jyz2NsNzTPzMzMzMzM9M/lVJKKaWU0j8AAAAAAADSP3TRRRdddNE/09LS0tLS0j/UQR3UQR3UP+Q4juM4jtM/HEyRz7rB1D9RXkN5DeXVP1VVVVVVVdU/ZmZmZmZm1j/blahdidrVP1VVVVVVVdU/lTVlTVlT1j/RRRdddNHVP1VVVVVVVdU/ZCELWchC1j9dQUyuICbXP6uqqqqqqtY/jfWhsT401j/D9Shcj8LVP1VVVVVVVdU/xU7sxE7s1D/Z55CaYLzVPw==",
          "dtype": "f8"
         },
         "yaxis": "y"
        },
        {
         "customdata": [
          [
           "A paper about AI regulation that was originally su"
          ],
          [
           "I’m researching species that became invasive after"
          ],
          [
           "If we assume all articles published by Nature in 2"
          ],
          [
           "In Unlambda, what exact charcter or text needs to "
          ],
          [
           "If Eliud Kipchoge could maintain his record-making"
          ],
          [
           "How many studio albums were published by Mercedes "
          ],
          [
           "The object in the British Museum's collection with"
          ],
          [
           "According to github, when was Regression added to "
          ],
          [
           "Here's a fun riddle that I think you'll enjoy.\n\nYo"
          ],
          [
           "In July 2, 1959 United States standards for grades"
          ],
          [
           "Using the Biopython library in Python, parse the P"
          ],
          [
           "What are the EC numbers of the two most commonly u"
          ],
          [
           "In April of 1977, who was the Prime Minister of th"
          ],
          [
           "What's the last line of the rhyme under the flavor"
          ],
          [
           "Use density measures from the chemistry materials "
          ],
          [
           "What was the volume in m^3 of the fish bag that wa"
          ],
          [
           "What is the average number of pre-2020 works on th"
          ],
          [
           "In the video https://www.youtube.com/watch?v=L1vXC"
          ],
          [
           "Of the authors (First M. Last) that worked on the "
          ],
          [
           "When you take the average of the standard populati"
          ],
          [
           "Assuming scientists in the famous youtube video Th"
          ],
          [
           "In Series 9, Episode 11 of Doctor Who, the Doctor "
          ],
          [
           "In terms of geographical distance between capital "
          ],
          [
           "In the NCATS PubChem compound database for Food Ad"
          ],
          [
           "I need to fact-check a citation. This is the citat"
          ],
          [
           "Which contributor to the version of OpenCV where s"
          ],
          [
           "What integer-rounded percentage of the total lengt"
          ],
          [
           "An office held a Secret Santa gift exchange where "
          ],
          [
           "What is the maximum length in meters of #9 in the "
          ],
          [
           "What two-word type of model did Manash Pratim Kash"
          ],
          [
           "What animals that were mentioned in both Ilias Lag"
          ],
          [
           "How many High Energy Physics - Lattice articles li"
          ],
          [
           "The photograph in the Whitney Museum of American A"
          ],
          [
           ".rewsna eht sa \"tfel\" drow eht fo etisoppo eht eti"
          ],
          [
           "What is the minimum number of page links a person "
          ],
          [
           "I went to Virtue restaurant & bar in Chicago for m"
          ],
          [
           "¬(A ∧ B) ↔ (¬A ∨ ¬B)\n¬(A ∨ B) ↔ (¬A ∧ ¬B)\n(A → B) "
          ],
          [
           "My family reunion is this week, and I was assigned"
          ],
          [
           "In Emily Midkiff's June 2014 article in a journal "
          ],
          [
           "It is 1999. Before you party like it is 1999, plea"
          ],
          [
           "Under DDC 633 on Bielefeld University Library's BA"
          ],
          [
           "In the 2018 VSCode blog post on replit.com, what w"
          ],
          [
           "Compute the check digit the Tropicos ID for the Or"
          ],
          [
           "What time was the Tri-Rail train that carried the "
          ],
          [
           "Could you help me out with this assignment? Our pr"
          ],
          [
           "In Valentina Re’s contribution to the 2017 book “W"
          ],
          [
           "In the fictional language of Tizin, basic sentence"
          ],
          [
           "The Metropolitan Museum of Art has a portrait in i"
          ],
          [
           "In Nature journal's Scientific Reports conference "
          ],
          [
           "According to Google Finance, when was the first ye"
          ],
          [
           "Review the chess position provided in the image. I"
          ],
          [
           "According to Box Office Mojo's 2020 Worldwide Box "
          ],
          [
           "In the year 2022, and before December, what does \""
          ],
          [
           "Who nominated the only Featured Article on English"
          ],
          [
           "What writer is quoted by Merriam-Webster for the W"
          ],
          [
           "How many pages if the 2023 IPCC report (85 pages v"
          ],
          [
           "Given this table defining * on the set S = {a, b, "
          ],
          [
           "The following numbers function similarly to ISBN 1"
          ],
          [
           "How many images are there in the latest 2022 Lego "
          ],
          [
           "The attached file shows a list of books in the col"
          ],
          [
           "I was trying to remember how well the Cheater Beat"
          ],
          [
           "As a comma separated list with no whitespace, usin"
          ],
          [
           "On a leap day before the year 2008, a joke was rem"
          ],
          [
           "What is the volume in milliliters of a system comp"
          ],
          [
           "The Latin root of the Yola word \"gimlie\" shares a "
          ],
          [
           "Find the value of x to the nearest tenth: Lx = (d/"
          ],
          [
           "In the endnote found in the second-to-last paragra"
          ],
          [
           "Using bass clef notes, what is the age of someone "
          ],
          [
           "On July 15, 2008, Phys.org published an article ab"
          ],
          [
           "The attached file lists accommodations in the reso"
          ],
          [
           "I’m thinking about selling my home, so I want to l"
          ],
          [
           "I'm making a grocery list for my mom, but she's a "
          ],
          [
           "How many times was a Twitter/X post cited as a ref"
          ],
          [
           "On ScienceDirect, what is the difference to 3 deci"
          ],
          [
           "What is the last word before the second chorus of "
          ],
          [
           "Look at the attached image. The quiz is scored as "
          ],
          [
           "How many edits were made to the Wikipedia page on "
          ],
          [
           "You are a telecommunications engineer who wants to"
          ],
          [
           "If there is anything that doesn't make sense in th"
          ],
          [
           "How many nonindigenous crocodiles were found in Fl"
          ],
          [
           "The work referenced in footnote 397 of Federico La"
          ],
          [
           "As of the 2020 census, what was the population dif"
          ],
          [
           "How many slides in this PowerPoint presentation me"
          ],
          [
           "What percentage of the total penguin population ac"
          ],
          [
           "Given $x_0 = -5$ and $f(x) = x^3 + 4x^2 - 3x + 8$,"
          ],
          [
           "You are Van Helsing, a renowned vampire hunter. A "
          ],
          [
           "Examine the video at https://www.youtube.com/watch"
          ],
          [
           "This is a secret message my friend gave me. It say"
          ],
          [
           "What is the area of the green polygon in the attac"
          ],
          [
           "According to wikipedia, how many Asian countries s"
          ],
          [
           "Who composed the song that was performed by a roos"
          ],
          [
           "I thought we could try a fun word puzzle together "
          ],
          [
           "What is the surname of the equine veterinarian men"
          ],
          [
           "According to the World Bank, which countries had g"
          ],
          [
           "Which of the fruits shown in the 2008 painting \"Em"
          ],
          [
           "Hi, I'm making a pie but I could use some help wit"
          ],
          [
           "The attached image contains a Python script. Run t"
          ],
          [
           "I have the Standard plan in the image below, and I"
          ],
          [
           "The attached PDF lists accommodations in the resor"
          ],
          [
           "The year is 2022. I am at the National Air and Spa"
          ],
          [
           "In the Scikit-Learn July 2017 changelog, what othe"
          ],
          [
           "It's May 2023, and I'm about to drive across the U"
          ],
          [
           "Who did the actor who played Ray in the Polish-lan"
          ],
          [
           "What is the latest chronological year date written"
          ],
          [
           "The YouTube channel Game Grumps began a Let’s Play"
          ]
         ],
         "hovertemplate": "agent_name=code_o1_29-01_text<br>index=%{x}<br>is_correct=%{y}<br>question=%{customdata[0]}<extra></extra>",
         "legendgroup": "code_o1_29-01_text",
         "line": {
          "color": "#00cc96",
          "dash": "solid"
         },
         "marker": {
          "symbol": "circle"
         },
         "mode": "lines",
         "name": "code_o1_29-01_text",
         "orientation": "v",
         "showlegend": true,
         "type": "scatter",
         "x": {
          "bdata": "AAECAwQFBgcICQoLDA0ODxAREhMUFRYXGBkaGxwdHh8gISIjJCUmJygpKissLS4vMDEyMzQ1Njc4OTo7PD0+P0BBQkNERUZHSElKS0xNTk9QUVJTVFVWV1hZWltcXV5fYGFiY2RlZmdo",
          "dtype": "i1"
         },
         "xaxis": "x",
         "y": {
          "bdata": "AAAAAAAAAAAAAAAAAADgP1VVVVVVVeU/AAAAAAAA4D+amZmZmZnZPwAAAAAAAOA/kiRJkiRJ4j8AAAAAAADgPxzHcRzHcdw/mpmZmZmZ2T9GF1100UXXP1VVVVVVVdU/2Ymd2Imd2D+3bdu2bdvWP5qZmZmZmdk/AAAAAAAA3D9aWlpaWlraPzmO4ziO49g/Q3kN5TWU1z9mZmZmZmbWP1VVVVVVVdU/XXTRRRdd1D9kIQtZyELWP1VVVVVVVdU/exSuR+F61D8UO7ETO7HTP2gvob2E9tI/kiRJkiRJ0j+WexphuafRPxEREREREdE/hBBCCCGE0D8AAAAAAADQPwgffPDBB88/8fDw8PDw0D+SJEmSJEnSP+Q4juM4jtM/HEyRz7rB1D9RXkN5DeXVP5dv+ZZv+dY/AAAAAAAA2D9qV6J2JWrXPxiGYRiGYdg/9AV9QV/Q1z9GF1100UXXPxdswRZswdY/etOb3vSm1z9icgUxuYLYPwAAAAAAANg/4eUUvJyC1z8K16NwPQrXP5eWlpaWltY/dmIndmIn1j9ln0NqgvHWP0J7Ce0ltNc/cFj7hrVv2D9JkiRJkiTZPzGdxXQW09k/YbmnEZZ72j+Uui+PrQjaP5qZmZmZmdk/WEeb9yku2T/GGGOMMcbYPxiGYRiGYdg/AAAAAAAA2D8YeqEXeqHXPz744IMPPtg/SQ9Uzm7h1z+Ih4eHh4fXP4K5dmCuHdg/+Yqv+Iqv2D/RCpsDiVbYPwAAAAAAANg/vXr16tWr1z+fdYMp8lnXP+UXS36x5Nc/Q3kN5TWU1z9kamDvmBrYP9mJndiJndg/OrJnICod2T/NzMzMzMzYP5Ey8HRrftg/Mjgfg/Mx2D+q82sPuazYPxiGYRiGYdg/GBgYGBgY2D8k7og74o7YP+5phOWeRtg/AAAAAAAA2D983ete97rXP9iCLdiCLdg/2Ymd2Imd2D+GLGQhC1nYP8YYY4wxxtg/YnIFMbmC2D8LhJF2rEDYPwAAAAAAANg/2G6WJ5Fp2D801ofG+tDYPzbZZJNNNtk/mpmZmZmZ2T96kLt+tljZP7q5ubm5udk/i/gEUsl52T+xEzuxEzvZP9mP/diP/dg/",
          "dtype": "f8"
         },
         "yaxis": "y"
        }
       ],
       "layout": {
        "legend": {
         "title": {
          "text": "agent_name"
         },
         "tracegroupgap": 0
        },
        "margin": {
         "t": 60
        },
        "template": {
         "data": {
          "bar": [
           {
            "error_x": {
             "color": "#2a3f5f"
            },
            "error_y": {
             "color": "#2a3f5f"
            },
            "marker": {
             "line": {
              "color": "#E5ECF6",
              "width": 0.5
             },
             "pattern": {
              "fillmode": "overlay",
              "size": 10,
              "solidity": 0.2
             }
            },
            "type": "bar"
           }
          ],
          "barpolar": [
           {
            "marker": {
             "line": {
              "color": "#E5ECF6",
              "width": 0.5
             },
             "pattern": {
              "fillmode": "overlay",
              "size": 10,
              "solidity": 0.2
             }
            },
            "type": "barpolar"
           }
          ],
          "carpet": [
           {
            "aaxis": {
             "endlinecolor": "#2a3f5f",
             "gridcolor": "white",
             "linecolor": "white",
             "minorgridcolor": "white",
             "startlinecolor": "#2a3f5f"
            },
            "baxis": {
             "endlinecolor": "#2a3f5f",
             "gridcolor": "white",
             "linecolor": "white",
             "minorgridcolor": "white",
             "startlinecolor": "#2a3f5f"
            },
            "type": "carpet"
           }
          ],
          "choropleth": [
           {
            "colorbar": {
             "outlinewidth": 0,
             "ticks": ""
            },
            "type": "choropleth"
           }
          ],
          "contour": [
           {
            "colorbar": {
             "outlinewidth": 0,
             "ticks": ""
            },
            "colorscale": [
             [
              0,
              "#0d0887"
             ],
             [
              0.1111111111111111,
              "#46039f"
             ],
             [
              0.2222222222222222,
              "#7201a8"
             ],
             [
              0.3333333333333333,
              "#9c179e"
             ],
             [
              0.4444444444444444,
              "#bd3786"
             ],
             [
              0.5555555555555556,
              "#d8576b"
             ],
             [
              0.6666666666666666,
              "#ed7953"
             ],
             [
              0.7777777777777778,
              "#fb9f3a"
             ],
             [
              0.8888888888888888,
              "#fdca26"
             ],
             [
              1,
              "#f0f921"
             ]
            ],
            "type": "contour"
           }
          ],
          "contourcarpet": [
           {
            "colorbar": {
             "outlinewidth": 0,
             "ticks": ""
            },
            "type": "contourcarpet"
           }
          ],
          "heatmap": [
           {
            "colorbar": {
             "outlinewidth": 0,
             "ticks": ""
            },
            "colorscale": [
             [
              0,
              "#0d0887"
             ],
             [
              0.1111111111111111,
              "#46039f"
             ],
             [
              0.2222222222222222,
              "#7201a8"
             ],
             [
              0.3333333333333333,
              "#9c179e"
             ],
             [
              0.4444444444444444,
              "#bd3786"
             ],
             [
              0.5555555555555556,
              "#d8576b"
             ],
             [
              0.6666666666666666,
              "#ed7953"
             ],
             [
              0.7777777777777778,
              "#fb9f3a"
             ],
             [
              0.8888888888888888,
              "#fdca26"
             ],
             [
              1,
              "#f0f921"
             ]
            ],
            "type": "heatmap"
           }
          ],
          "histogram": [
           {
            "marker": {
             "pattern": {
              "fillmode": "overlay",
              "size": 10,
              "solidity": 0.2
             }
            },
            "type": "histogram"
           }
          ],
          "histogram2d": [
           {
            "colorbar": {
             "outlinewidth": 0,
             "ticks": ""
            },
            "colorscale": [
             [
              0,
              "#0d0887"
             ],
             [
              0.1111111111111111,
              "#46039f"
             ],
             [
              0.2222222222222222,
              "#7201a8"
             ],
             [
              0.3333333333333333,
              "#9c179e"
             ],
             [
              0.4444444444444444,
              "#bd3786"
             ],
             [
              0.5555555555555556,
              "#d8576b"
             ],
             [
              0.6666666666666666,
              "#ed7953"
             ],
             [
              0.7777777777777778,
              "#fb9f3a"
             ],
             [
              0.8888888888888888,
              "#fdca26"
             ],
             [
              1,
              "#f0f921"
             ]
            ],
            "type": "histogram2d"
           }
          ],
          "histogram2dcontour": [
           {
            "colorbar": {
             "outlinewidth": 0,
             "ticks": ""
            },
            "colorscale": [
             [
              0,
              "#0d0887"
             ],
             [
              0.1111111111111111,
              "#46039f"
             ],
             [
              0.2222222222222222,
              "#7201a8"
             ],
             [
              0.3333333333333333,
              "#9c179e"
             ],
             [
              0.4444444444444444,
              "#bd3786"
             ],
             [
              0.5555555555555556,
              "#d8576b"
             ],
             [
              0.6666666666666666,
              "#ed7953"
             ],
             [
              0.7777777777777778,
              "#fb9f3a"
             ],
             [
              0.8888888888888888,
              "#fdca26"
             ],
             [
              1,
              "#f0f921"
             ]
            ],
            "type": "histogram2dcontour"
           }
          ],
          "mesh3d": [
           {
            "colorbar": {
             "outlinewidth": 0,
             "ticks": ""
            },
            "type": "mesh3d"
           }
          ],
          "parcoords": [
           {
            "line": {
             "colorbar": {
              "outlinewidth": 0,
              "ticks": ""
             }
            },
            "type": "parcoords"
           }
          ],
          "pie": [
           {
            "automargin": true,
            "type": "pie"
           }
          ],
          "scatter": [
           {
            "fillpattern": {
             "fillmode": "overlay",
             "size": 10,
             "solidity": 0.2
            },
            "type": "scatter"
           }
          ],
          "scatter3d": [
           {
            "line": {
             "colorbar": {
              "outlinewidth": 0,
              "ticks": ""
             }
            },
            "marker": {
             "colorbar": {
              "outlinewidth": 0,
              "ticks": ""
             }
            },
            "type": "scatter3d"
           }
          ],
          "scattercarpet": [
           {
            "marker": {
             "colorbar": {
              "outlinewidth": 0,
              "ticks": ""
             }
            },
            "type": "scattercarpet"
           }
          ],
          "scattergeo": [
           {
            "marker": {
             "colorbar": {
              "outlinewidth": 0,
              "ticks": ""
             }
            },
            "type": "scattergeo"
           }
          ],
          "scattergl": [
           {
            "marker": {
             "colorbar": {
              "outlinewidth": 0,
              "ticks": ""
             }
            },
            "type": "scattergl"
           }
          ],
          "scattermap": [
           {
            "marker": {
             "colorbar": {
              "outlinewidth": 0,
              "ticks": ""
             }
            },
            "type": "scattermap"
           }
          ],
          "scattermapbox": [
           {
            "marker": {
             "colorbar": {
              "outlinewidth": 0,
              "ticks": ""
             }
            },
            "type": "scattermapbox"
           }
          ],
          "scatterpolar": [
           {
            "marker": {
             "colorbar": {
              "outlinewidth": 0,
              "ticks": ""
             }
            },
            "type": "scatterpolar"
           }
          ],
          "scatterpolargl": [
           {
            "marker": {
             "colorbar": {
              "outlinewidth": 0,
              "ticks": ""
             }
            },
            "type": "scatterpolargl"
           }
          ],
          "scatterternary": [
           {
            "marker": {
             "colorbar": {
              "outlinewidth": 0,
              "ticks": ""
             }
            },
            "type": "scatterternary"
           }
          ],
          "surface": [
           {
            "colorbar": {
             "outlinewidth": 0,
             "ticks": ""
            },
            "colorscale": [
             [
              0,
              "#0d0887"
             ],
             [
              0.1111111111111111,
              "#46039f"
             ],
             [
              0.2222222222222222,
              "#7201a8"
             ],
             [
              0.3333333333333333,
              "#9c179e"
             ],
             [
              0.4444444444444444,
              "#bd3786"
             ],
             [
              0.5555555555555556,
              "#d8576b"
             ],
             [
              0.6666666666666666,
              "#ed7953"
             ],
             [
              0.7777777777777778,
              "#fb9f3a"
             ],
             [
              0.8888888888888888,
              "#fdca26"
             ],
             [
              1,
              "#f0f921"
             ]
            ],
            "type": "surface"
           }
          ],
          "table": [
           {
            "cells": {
             "fill": {
              "color": "#EBF0F8"
             },
             "line": {
              "color": "white"
             }
            },
            "header": {
             "fill": {
              "color": "#C8D4E3"
             },
             "line": {
              "color": "white"
             }
            },
            "type": "table"
           }
          ]
         },
         "layout": {
          "annotationdefaults": {
           "arrowcolor": "#2a3f5f",
           "arrowhead": 0,
           "arrowwidth": 1
          },
          "autotypenumbers": "strict",
          "coloraxis": {
           "colorbar": {
            "outlinewidth": 0,
            "ticks": ""
           }
          },
          "colorscale": {
           "diverging": [
            [
             0,
             "#8e0152"
            ],
            [
             0.1,
             "#c51b7d"
            ],
            [
             0.2,
             "#de77ae"
            ],
            [
             0.3,
             "#f1b6da"
            ],
            [
             0.4,
             "#fde0ef"
            ],
            [
             0.5,
             "#f7f7f7"
            ],
            [
             0.6,
             "#e6f5d0"
            ],
            [
             0.7,
             "#b8e186"
            ],
            [
             0.8,
             "#7fbc41"
            ],
            [
             0.9,
             "#4d9221"
            ],
            [
             1,
             "#276419"
            ]
           ],
           "sequential": [
            [
             0,
             "#0d0887"
            ],
            [
             0.1111111111111111,
             "#46039f"
            ],
            [
             0.2222222222222222,
             "#7201a8"
            ],
            [
             0.3333333333333333,
             "#9c179e"
            ],
            [
             0.4444444444444444,
             "#bd3786"
            ],
            [
             0.5555555555555556,
             "#d8576b"
            ],
            [
             0.6666666666666666,
             "#ed7953"
            ],
            [
             0.7777777777777778,
             "#fb9f3a"
            ],
            [
             0.8888888888888888,
             "#fdca26"
            ],
            [
             1,
             "#f0f921"
            ]
           ],
           "sequentialminus": [
            [
             0,
             "#0d0887"
            ],
            [
             0.1111111111111111,
             "#46039f"
            ],
            [
             0.2222222222222222,
             "#7201a8"
            ],
            [
             0.3333333333333333,
             "#9c179e"
            ],
            [
             0.4444444444444444,
             "#bd3786"
            ],
            [
             0.5555555555555556,
             "#d8576b"
            ],
            [
             0.6666666666666666,
             "#ed7953"
            ],
            [
             0.7777777777777778,
             "#fb9f3a"
            ],
            [
             0.8888888888888888,
             "#fdca26"
            ],
            [
             1,
             "#f0f921"
            ]
           ]
          },
          "colorway": [
           "#636efa",
           "#EF553B",
           "#00cc96",
           "#ab63fa",
           "#FFA15A",
           "#19d3f3",
           "#FF6692",
           "#B6E880",
           "#FF97FF",
           "#FECB52"
          ],
          "font": {
           "color": "#2a3f5f"
          },
          "geo": {
           "bgcolor": "white",
           "lakecolor": "white",
           "landcolor": "#E5ECF6",
           "showlakes": true,
           "showland": true,
           "subunitcolor": "white"
          },
          "hoverlabel": {
           "align": "left"
          },
          "hovermode": "closest",
          "mapbox": {
           "style": "light"
          },
          "paper_bgcolor": "white",
          "plot_bgcolor": "#E5ECF6",
          "polar": {
           "angularaxis": {
            "gridcolor": "white",
            "linecolor": "white",
            "ticks": ""
           },
           "bgcolor": "#E5ECF6",
           "radialaxis": {
            "gridcolor": "white",
            "linecolor": "white",
            "ticks": ""
           }
          },
          "scene": {
           "xaxis": {
            "backgroundcolor": "#E5ECF6",
            "gridcolor": "white",
            "gridwidth": 2,
            "linecolor": "white",
            "showbackground": true,
            "ticks": "",
            "zerolinecolor": "white"
           },
           "yaxis": {
            "backgroundcolor": "#E5ECF6",
            "gridcolor": "white",
            "gridwidth": 2,
            "linecolor": "white",
            "showbackground": true,
            "ticks": "",
            "zerolinecolor": "white"
           },
           "zaxis": {
            "backgroundcolor": "#E5ECF6",
            "gridcolor": "white",
            "gridwidth": 2,
            "linecolor": "white",
            "showbackground": true,
            "ticks": "",
            "zerolinecolor": "white"
           }
          },
          "shapedefaults": {
           "line": {
            "color": "#2a3f5f"
           }
          },
          "ternary": {
           "aaxis": {
            "gridcolor": "white",
            "linecolor": "white",
            "ticks": ""
           },
           "baxis": {
            "gridcolor": "white",
            "linecolor": "white",
            "ticks": ""
           },
           "bgcolor": "#E5ECF6",
           "caxis": {
            "gridcolor": "white",
            "linecolor": "white",
            "ticks": ""
           }
          },
          "title": {
           "x": 0.05
          },
          "xaxis": {
           "automargin": true,
           "gridcolor": "white",
           "linecolor": "white",
           "ticks": "",
           "title": {
            "standoff": 15
           },
           "zerolinecolor": "white",
           "zerolinewidth": 2
          },
          "yaxis": {
           "automargin": true,
           "gridcolor": "white",
           "linecolor": "white",
           "ticks": "",
           "title": {
            "standoff": 15
           },
           "zerolinecolor": "white",
           "zerolinewidth": 2
          }
         }
        },
        "xaxis": {
         "anchor": "y",
         "domain": [
          0,
          1
         ],
         "title": {
          "text": "index"
         }
        },
        "yaxis": {
         "anchor": "x",
         "domain": [
          0,
          1
         ],
         "title": {
          "text": "is_correct"
         }
        }
       }
      }
     },
     "metadata": {},
     "output_type": "display_data"
    }
   ],
   "source": [
    "import plotly.express as px\n",
    "\n",
    "\n",
    "cumulative_df = (\n",
    "    (\n",
    "        sel_df.groupby(\"agent_name\")[[\"is_correct\", \"is_near_correct\"]]\n",
    "        .expanding(min_periods=1, axis=0, method=\"single\")\n",
    "        .agg({\"is_correct\": \"mean\", \"is_near_correct\": \"count\"})\n",
    "        .reset_index()\n",
    "    )\n",
    "    .copy()\n",
    "    .rename(columns={\"is_near_correct\": \"index\"})\n",
    ")\n",
    "cumulative_df[\"index\"] = cumulative_df[\"index\"].astype(int) - 1\n",
    "\n",
    "\n",
    "def find_question(row):\n",
    "    try:\n",
    "        res = sel_df.loc[sel_df[\"agent_name\"] == row[\"agent_name\"], \"question\"].iloc[row[\"index\"]][:50]\n",
    "        return res\n",
    "    except Exception:\n",
    "        return \"\"\n",
    "\n",
    "\n",
    "cumulative_df[\"question\"] = cumulative_df.apply(find_question, axis=1)\n",
    "# cumulative_df[\"question\"] = [el[:50] for el in sel_df[\"question\"].values]\n",
    "\n",
    "# cumulative_df[\"is_correct\"] = cumulative_df[\"is_correct\"] * (165 - 68) / 165\n",
    "\n",
    "px.line(\n",
    "    cumulative_df,\n",
    "    color=\"agent_name\",\n",
    "    x=\"index\",\n",
    "    y=\"is_correct\",\n",
    "    hover_data=\"question\",\n",
    ")"
   ]
  },
  {
   "cell_type": "markdown",
   "metadata": {},
   "source": [
    "# 3. Dive deeper into one run"
   ]
  },
  {
   "cell_type": "code",
   "execution_count": 12,
   "metadata": {},
   "outputs": [
    {
     "name": "stdout",
     "output_type": "stream",
     "text": [
      "163\n"
     ]
    }
   ],
   "source": [
    "sel_df = result_df.loc[result_df[\"agent_name\"] == o1]\n",
    "print(len(sel_df))"
   ]
  },
  {
   "cell_type": "markdown",
   "metadata": {},
   "source": [
    "### Count errors"
   ]
  },
  {
   "cell_type": "code",
   "execution_count": 13,
   "metadata": {},
   "outputs": [
    {
     "name": "stderr",
     "output_type": "stream",
     "text": [
      "/var/folders/6m/9b1tts6d5w960j80wbw9tx3m0000gn/T/ipykernel_30960/2022001392.py:10: SettingWithCopyWarning:\n",
      "\n",
      "\n",
      "A value is trying to be set on a copy of a slice from a DataFrame.\n",
      "Try using .loc[row_indexer,col_indexer] = value instead\n",
      "\n",
      "See the caveats in the documentation: https://pandas.pydata.org/pandas-docs/stable/user_guide/indexing.html#returning-a-view-versus-a-copy\n",
      "\n",
      "/var/folders/6m/9b1tts6d5w960j80wbw9tx3m0000gn/T/ipykernel_30960/2022001392.py:10: SettingWithCopyWarning:\n",
      "\n",
      "\n",
      "A value is trying to be set on a copy of a slice from a DataFrame.\n",
      "Try using .loc[row_indexer,col_indexer] = value instead\n",
      "\n",
      "See the caveats in the documentation: https://pandas.pydata.org/pandas-docs/stable/user_guide/indexing.html#returning-a-view-versus-a-copy\n",
      "\n",
      "/var/folders/6m/9b1tts6d5w960j80wbw9tx3m0000gn/T/ipykernel_30960/2022001392.py:10: SettingWithCopyWarning:\n",
      "\n",
      "\n",
      "A value is trying to be set on a copy of a slice from a DataFrame.\n",
      "Try using .loc[row_indexer,col_indexer] = value instead\n",
      "\n",
      "See the caveats in the documentation: https://pandas.pydata.org/pandas-docs/stable/user_guide/indexing.html#returning-a-view-versus-a-copy\n",
      "\n",
      "/var/folders/6m/9b1tts6d5w960j80wbw9tx3m0000gn/T/ipykernel_30960/2022001392.py:10: SettingWithCopyWarning:\n",
      "\n",
      "\n",
      "A value is trying to be set on a copy of a slice from a DataFrame.\n",
      "Try using .loc[row_indexer,col_indexer] = value instead\n",
      "\n",
      "See the caveats in the documentation: https://pandas.pydata.org/pandas-docs/stable/user_guide/indexing.html#returning-a-view-versus-a-copy\n",
      "\n",
      "/var/folders/6m/9b1tts6d5w960j80wbw9tx3m0000gn/T/ipykernel_30960/2022001392.py:11: SettingWithCopyWarning:\n",
      "\n",
      "\n",
      "A value is trying to be set on a copy of a slice from a DataFrame.\n",
      "Try using .loc[row_indexer,col_indexer] = value instead\n",
      "\n",
      "See the caveats in the documentation: https://pandas.pydata.org/pandas-docs/stable/user_guide/indexing.html#returning-a-view-versus-a-copy\n",
      "\n"
     ]
    }
   ],
   "source": [
    "import numpy as np\n",
    "\n",
    "\n",
    "error_types = [\n",
    "    \"AgentParsingError\",\n",
    "    \"AgentExecutionError\",\n",
    "    \"AgentMaxIterationsError\",\n",
    "    \"AgentGenerationError\",\n",
    "]\n",
    "sel_df[error_types] = 0\n",
    "sel_df[\"Count steps\"] = np.nan\n",
    "\n",
    "\n",
    "def count_errors(row):\n",
    "    if isinstance(row[\"intermediate_steps\"], list):\n",
    "        row[\"Count steps\"] = len(row[\"intermediate_steps\"])\n",
    "        for step in row[\"intermediate_steps\"]:\n",
    "            if isinstance(step, dict) and \"error\" in step:\n",
    "                try:\n",
    "                    row[str(step[\"error\"][\"error_type\"])] += 1\n",
    "                except Exception:\n",
    "                    pass\n",
    "    return row\n",
    "\n",
    "\n",
    "sel_df = sel_df.apply(count_errors, axis=1)"
   ]
  },
  {
   "cell_type": "code",
   "execution_count": 14,
   "metadata": {},
   "outputs": [
    {
     "data": {
      "application/vnd.plotly.v1+json": {
       "config": {
        "plotlyServerURL": "https://plot.ly"
       },
       "data": [
        {
         "hovertemplate": "is_correct=False<br>variable=%{x}<br><b>Average count</b>=%{y}<extra></extra>",
         "legendgroup": "False",
         "marker": {
          "color": "#636efa",
          "pattern": {
           "shape": ""
          }
         },
         "name": "False",
         "orientation": "v",
         "showlegend": true,
         "textposition": "outside",
         "type": "bar",
         "x": [
          "AgentParsingError",
          "AgentExecutionError",
          "AgentMaxIterationsError",
          "AgentGenerationError",
          "Count steps"
         ],
         "xaxis": "x",
         "y": {
          "bdata": "AAAAAAAAAAAAAAAAAAAAAAAAAAAAAAAAAAAAAAAAAACjqfNrD7kMQA==",
          "dtype": "f8"
         },
         "yaxis": "y"
        },
        {
         "hovertemplate": "is_correct=True<br>variable=%{x}<br><b>Average count</b>=%{y}<extra></extra>",
         "legendgroup": "True",
         "marker": {
          "color": "#EF553B",
          "pattern": {
           "shape": ""
          }
         },
         "name": "True",
         "orientation": "v",
         "showlegend": true,
         "textposition": "outside",
         "type": "bar",
         "x": [
          "AgentParsingError",
          "AgentExecutionError",
          "AgentMaxIterationsError",
          "AgentGenerationError",
          "Count steps"
         ],
         "xaxis": "x",
         "y": {
          "bdata": "AAAAAAAAAAAAAAAAAAAAAAAAAAAAAAAAAAAAAAAAAAAzMzMzM7MIQA==",
          "dtype": "f8"
         },
         "yaxis": "y"
        }
       ],
       "layout": {
        "bargroupgap": 0,
        "barmode": "group",
        "height": 500,
        "legend": {
         "title": {
          "text": "is_correct"
         },
         "tracegroupgap": 0
        },
        "margin": {
         "t": 60
        },
        "template": {
         "data": {
          "bar": [
           {
            "error_x": {
             "color": "#2a3f5f"
            },
            "error_y": {
             "color": "#2a3f5f"
            },
            "marker": {
             "line": {
              "color": "#E5ECF6",
              "width": 0.5
             },
             "pattern": {
              "fillmode": "overlay",
              "size": 10,
              "solidity": 0.2
             }
            },
            "type": "bar"
           }
          ],
          "barpolar": [
           {
            "marker": {
             "line": {
              "color": "#E5ECF6",
              "width": 0.5
             },
             "pattern": {
              "fillmode": "overlay",
              "size": 10,
              "solidity": 0.2
             }
            },
            "type": "barpolar"
           }
          ],
          "carpet": [
           {
            "aaxis": {
             "endlinecolor": "#2a3f5f",
             "gridcolor": "white",
             "linecolor": "white",
             "minorgridcolor": "white",
             "startlinecolor": "#2a3f5f"
            },
            "baxis": {
             "endlinecolor": "#2a3f5f",
             "gridcolor": "white",
             "linecolor": "white",
             "minorgridcolor": "white",
             "startlinecolor": "#2a3f5f"
            },
            "type": "carpet"
           }
          ],
          "choropleth": [
           {
            "colorbar": {
             "outlinewidth": 0,
             "ticks": ""
            },
            "type": "choropleth"
           }
          ],
          "contour": [
           {
            "colorbar": {
             "outlinewidth": 0,
             "ticks": ""
            },
            "colorscale": [
             [
              0,
              "#0d0887"
             ],
             [
              0.1111111111111111,
              "#46039f"
             ],
             [
              0.2222222222222222,
              "#7201a8"
             ],
             [
              0.3333333333333333,
              "#9c179e"
             ],
             [
              0.4444444444444444,
              "#bd3786"
             ],
             [
              0.5555555555555556,
              "#d8576b"
             ],
             [
              0.6666666666666666,
              "#ed7953"
             ],
             [
              0.7777777777777778,
              "#fb9f3a"
             ],
             [
              0.8888888888888888,
              "#fdca26"
             ],
             [
              1,
              "#f0f921"
             ]
            ],
            "type": "contour"
           }
          ],
          "contourcarpet": [
           {
            "colorbar": {
             "outlinewidth": 0,
             "ticks": ""
            },
            "type": "contourcarpet"
           }
          ],
          "heatmap": [
           {
            "colorbar": {
             "outlinewidth": 0,
             "ticks": ""
            },
            "colorscale": [
             [
              0,
              "#0d0887"
             ],
             [
              0.1111111111111111,
              "#46039f"
             ],
             [
              0.2222222222222222,
              "#7201a8"
             ],
             [
              0.3333333333333333,
              "#9c179e"
             ],
             [
              0.4444444444444444,
              "#bd3786"
             ],
             [
              0.5555555555555556,
              "#d8576b"
             ],
             [
              0.6666666666666666,
              "#ed7953"
             ],
             [
              0.7777777777777778,
              "#fb9f3a"
             ],
             [
              0.8888888888888888,
              "#fdca26"
             ],
             [
              1,
              "#f0f921"
             ]
            ],
            "type": "heatmap"
           }
          ],
          "histogram": [
           {
            "marker": {
             "pattern": {
              "fillmode": "overlay",
              "size": 10,
              "solidity": 0.2
             }
            },
            "type": "histogram"
           }
          ],
          "histogram2d": [
           {
            "colorbar": {
             "outlinewidth": 0,
             "ticks": ""
            },
            "colorscale": [
             [
              0,
              "#0d0887"
             ],
             [
              0.1111111111111111,
              "#46039f"
             ],
             [
              0.2222222222222222,
              "#7201a8"
             ],
             [
              0.3333333333333333,
              "#9c179e"
             ],
             [
              0.4444444444444444,
              "#bd3786"
             ],
             [
              0.5555555555555556,
              "#d8576b"
             ],
             [
              0.6666666666666666,
              "#ed7953"
             ],
             [
              0.7777777777777778,
              "#fb9f3a"
             ],
             [
              0.8888888888888888,
              "#fdca26"
             ],
             [
              1,
              "#f0f921"
             ]
            ],
            "type": "histogram2d"
           }
          ],
          "histogram2dcontour": [
           {
            "colorbar": {
             "outlinewidth": 0,
             "ticks": ""
            },
            "colorscale": [
             [
              0,
              "#0d0887"
             ],
             [
              0.1111111111111111,
              "#46039f"
             ],
             [
              0.2222222222222222,
              "#7201a8"
             ],
             [
              0.3333333333333333,
              "#9c179e"
             ],
             [
              0.4444444444444444,
              "#bd3786"
             ],
             [
              0.5555555555555556,
              "#d8576b"
             ],
             [
              0.6666666666666666,
              "#ed7953"
             ],
             [
              0.7777777777777778,
              "#fb9f3a"
             ],
             [
              0.8888888888888888,
              "#fdca26"
             ],
             [
              1,
              "#f0f921"
             ]
            ],
            "type": "histogram2dcontour"
           }
          ],
          "mesh3d": [
           {
            "colorbar": {
             "outlinewidth": 0,
             "ticks": ""
            },
            "type": "mesh3d"
           }
          ],
          "parcoords": [
           {
            "line": {
             "colorbar": {
              "outlinewidth": 0,
              "ticks": ""
             }
            },
            "type": "parcoords"
           }
          ],
          "pie": [
           {
            "automargin": true,
            "type": "pie"
           }
          ],
          "scatter": [
           {
            "fillpattern": {
             "fillmode": "overlay",
             "size": 10,
             "solidity": 0.2
            },
            "type": "scatter"
           }
          ],
          "scatter3d": [
           {
            "line": {
             "colorbar": {
              "outlinewidth": 0,
              "ticks": ""
             }
            },
            "marker": {
             "colorbar": {
              "outlinewidth": 0,
              "ticks": ""
             }
            },
            "type": "scatter3d"
           }
          ],
          "scattercarpet": [
           {
            "marker": {
             "colorbar": {
              "outlinewidth": 0,
              "ticks": ""
             }
            },
            "type": "scattercarpet"
           }
          ],
          "scattergeo": [
           {
            "marker": {
             "colorbar": {
              "outlinewidth": 0,
              "ticks": ""
             }
            },
            "type": "scattergeo"
           }
          ],
          "scattergl": [
           {
            "marker": {
             "colorbar": {
              "outlinewidth": 0,
              "ticks": ""
             }
            },
            "type": "scattergl"
           }
          ],
          "scattermap": [
           {
            "marker": {
             "colorbar": {
              "outlinewidth": 0,
              "ticks": ""
             }
            },
            "type": "scattermap"
           }
          ],
          "scattermapbox": [
           {
            "marker": {
             "colorbar": {
              "outlinewidth": 0,
              "ticks": ""
             }
            },
            "type": "scattermapbox"
           }
          ],
          "scatterpolar": [
           {
            "marker": {
             "colorbar": {
              "outlinewidth": 0,
              "ticks": ""
             }
            },
            "type": "scatterpolar"
           }
          ],
          "scatterpolargl": [
           {
            "marker": {
             "colorbar": {
              "outlinewidth": 0,
              "ticks": ""
             }
            },
            "type": "scatterpolargl"
           }
          ],
          "scatterternary": [
           {
            "marker": {
             "colorbar": {
              "outlinewidth": 0,
              "ticks": ""
             }
            },
            "type": "scatterternary"
           }
          ],
          "surface": [
           {
            "colorbar": {
             "outlinewidth": 0,
             "ticks": ""
            },
            "colorscale": [
             [
              0,
              "#0d0887"
             ],
             [
              0.1111111111111111,
              "#46039f"
             ],
             [
              0.2222222222222222,
              "#7201a8"
             ],
             [
              0.3333333333333333,
              "#9c179e"
             ],
             [
              0.4444444444444444,
              "#bd3786"
             ],
             [
              0.5555555555555556,
              "#d8576b"
             ],
             [
              0.6666666666666666,
              "#ed7953"
             ],
             [
              0.7777777777777778,
              "#fb9f3a"
             ],
             [
              0.8888888888888888,
              "#fdca26"
             ],
             [
              1,
              "#f0f921"
             ]
            ],
            "type": "surface"
           }
          ],
          "table": [
           {
            "cells": {
             "fill": {
              "color": "#EBF0F8"
             },
             "line": {
              "color": "white"
             }
            },
            "header": {
             "fill": {
              "color": "#C8D4E3"
             },
             "line": {
              "color": "white"
             }
            },
            "type": "table"
           }
          ]
         },
         "layout": {
          "annotationdefaults": {
           "arrowcolor": "#2a3f5f",
           "arrowhead": 0,
           "arrowwidth": 1
          },
          "autotypenumbers": "strict",
          "coloraxis": {
           "colorbar": {
            "outlinewidth": 0,
            "ticks": ""
           }
          },
          "colorscale": {
           "diverging": [
            [
             0,
             "#8e0152"
            ],
            [
             0.1,
             "#c51b7d"
            ],
            [
             0.2,
             "#de77ae"
            ],
            [
             0.3,
             "#f1b6da"
            ],
            [
             0.4,
             "#fde0ef"
            ],
            [
             0.5,
             "#f7f7f7"
            ],
            [
             0.6,
             "#e6f5d0"
            ],
            [
             0.7,
             "#b8e186"
            ],
            [
             0.8,
             "#7fbc41"
            ],
            [
             0.9,
             "#4d9221"
            ],
            [
             1,
             "#276419"
            ]
           ],
           "sequential": [
            [
             0,
             "#0d0887"
            ],
            [
             0.1111111111111111,
             "#46039f"
            ],
            [
             0.2222222222222222,
             "#7201a8"
            ],
            [
             0.3333333333333333,
             "#9c179e"
            ],
            [
             0.4444444444444444,
             "#bd3786"
            ],
            [
             0.5555555555555556,
             "#d8576b"
            ],
            [
             0.6666666666666666,
             "#ed7953"
            ],
            [
             0.7777777777777778,
             "#fb9f3a"
            ],
            [
             0.8888888888888888,
             "#fdca26"
            ],
            [
             1,
             "#f0f921"
            ]
           ],
           "sequentialminus": [
            [
             0,
             "#0d0887"
            ],
            [
             0.1111111111111111,
             "#46039f"
            ],
            [
             0.2222222222222222,
             "#7201a8"
            ],
            [
             0.3333333333333333,
             "#9c179e"
            ],
            [
             0.4444444444444444,
             "#bd3786"
            ],
            [
             0.5555555555555556,
             "#d8576b"
            ],
            [
             0.6666666666666666,
             "#ed7953"
            ],
            [
             0.7777777777777778,
             "#fb9f3a"
            ],
            [
             0.8888888888888888,
             "#fdca26"
            ],
            [
             1,
             "#f0f921"
            ]
           ]
          },
          "colorway": [
           "#636efa",
           "#EF553B",
           "#00cc96",
           "#ab63fa",
           "#FFA15A",
           "#19d3f3",
           "#FF6692",
           "#B6E880",
           "#FF97FF",
           "#FECB52"
          ],
          "font": {
           "color": "#2a3f5f"
          },
          "geo": {
           "bgcolor": "white",
           "lakecolor": "white",
           "landcolor": "#E5ECF6",
           "showlakes": true,
           "showland": true,
           "subunitcolor": "white"
          },
          "hoverlabel": {
           "align": "left"
          },
          "hovermode": "closest",
          "mapbox": {
           "style": "light"
          },
          "paper_bgcolor": "white",
          "plot_bgcolor": "#E5ECF6",
          "polar": {
           "angularaxis": {
            "gridcolor": "white",
            "linecolor": "white",
            "ticks": ""
           },
           "bgcolor": "#E5ECF6",
           "radialaxis": {
            "gridcolor": "white",
            "linecolor": "white",
            "ticks": ""
           }
          },
          "scene": {
           "xaxis": {
            "backgroundcolor": "#E5ECF6",
            "gridcolor": "white",
            "gridwidth": 2,
            "linecolor": "white",
            "showbackground": true,
            "ticks": "",
            "zerolinecolor": "white"
           },
           "yaxis": {
            "backgroundcolor": "#E5ECF6",
            "gridcolor": "white",
            "gridwidth": 2,
            "linecolor": "white",
            "showbackground": true,
            "ticks": "",
            "zerolinecolor": "white"
           },
           "zaxis": {
            "backgroundcolor": "#E5ECF6",
            "gridcolor": "white",
            "gridwidth": 2,
            "linecolor": "white",
            "showbackground": true,
            "ticks": "",
            "zerolinecolor": "white"
           }
          },
          "shapedefaults": {
           "line": {
            "color": "#2a3f5f"
           }
          },
          "ternary": {
           "aaxis": {
            "gridcolor": "white",
            "linecolor": "white",
            "ticks": ""
           },
           "baxis": {
            "gridcolor": "white",
            "linecolor": "white",
            "ticks": ""
           },
           "bgcolor": "#E5ECF6",
           "caxis": {
            "gridcolor": "white",
            "linecolor": "white",
            "ticks": ""
           }
          },
          "title": {
           "x": 0.05
          },
          "xaxis": {
           "automargin": true,
           "gridcolor": "white",
           "linecolor": "white",
           "ticks": "",
           "title": {
            "standoff": 15
           },
           "zerolinecolor": "white",
           "zerolinewidth": 2
          },
          "yaxis": {
           "automargin": true,
           "gridcolor": "white",
           "linecolor": "white",
           "ticks": "",
           "title": {
            "standoff": 15
           },
           "zerolinecolor": "white",
           "zerolinewidth": 2
          }
         }
        },
        "width": 800,
        "xaxis": {
         "anchor": "y",
         "domain": [
          0,
          1
         ],
         "title": {
          "text": "variable"
         }
        },
        "yaxis": {
         "anchor": "x",
         "domain": [
          0,
          1
         ],
         "title": {
          "text": "<b>Average count</b>"
         }
        }
       }
      }
     },
     "metadata": {},
     "output_type": "display_data"
    }
   ],
   "source": [
    "import plotly.express as px\n",
    "\n",
    "\n",
    "aggregate_errors = (\n",
    "    sel_df.groupby([\"is_correct\"])[error_types + [\"Count steps\"]].mean().reset_index().melt(id_vars=[\"is_correct\"])\n",
    ")\n",
    "\n",
    "fig = px.bar(\n",
    "    aggregate_errors,\n",
    "    y=\"value\",\n",
    "    x=\"variable\",\n",
    "    color=\"is_correct\",\n",
    "    labels={\n",
    "        \"agent_name\": \"<b>Model</b>\",\n",
    "        \"task\": \"<b>Level</b>\",\n",
    "        \"aggregate_score\": \"<b>Performance</b>\",\n",
    "        \"value\": \"<b>Average count</b>\",\n",
    "        \"eval_score_GPT4\": \"<b>Score</b>\",\n",
    "    },\n",
    ")\n",
    "fig.update_layout(\n",
    "    height=500,\n",
    "    width=800,\n",
    "    barmode=\"group\",\n",
    "    bargroupgap=0.0,\n",
    ")\n",
    "fig.update_traces(textposition=\"outside\")\n",
    "fig.write_image(\"aggregate_errors.png\", scale=3)\n",
    "fig.show()"
   ]
  },
  {
   "cell_type": "markdown",
   "metadata": {},
   "source": [
    "### Count tool calls"
   ]
  },
  {
   "cell_type": "code",
   "execution_count": 15,
   "metadata": {},
   "outputs": [
    {
     "ename": "KeyError",
     "evalue": "'tool_calls'",
     "output_type": "error",
     "traceback": [
      "\u001b[0;31m---------------------------------------------------------------------------\u001b[0m",
      "\u001b[0;31mKeyError\u001b[0m                                  Traceback (most recent call last)",
      "File \u001b[0;32m~/venv/gaia/lib/python3.12/site-packages/pandas/core/indexes/base.py:3805\u001b[0m, in \u001b[0;36mIndex.get_loc\u001b[0;34m(self, key)\u001b[0m\n\u001b[1;32m   3804\u001b[0m \u001b[38;5;28;01mtry\u001b[39;00m:\n\u001b[0;32m-> 3805\u001b[0m     \u001b[38;5;28;01mreturn\u001b[39;00m \u001b[38;5;28;43mself\u001b[39;49m\u001b[38;5;241;43m.\u001b[39;49m\u001b[43m_engine\u001b[49m\u001b[38;5;241;43m.\u001b[39;49m\u001b[43mget_loc\u001b[49m\u001b[43m(\u001b[49m\u001b[43mcasted_key\u001b[49m\u001b[43m)\u001b[49m\n\u001b[1;32m   3806\u001b[0m \u001b[38;5;28;01mexcept\u001b[39;00m \u001b[38;5;167;01mKeyError\u001b[39;00m \u001b[38;5;28;01mas\u001b[39;00m err:\n",
      "File \u001b[0;32mindex.pyx:167\u001b[0m, in \u001b[0;36mpandas._libs.index.IndexEngine.get_loc\u001b[0;34m()\u001b[0m\n",
      "File \u001b[0;32mindex.pyx:196\u001b[0m, in \u001b[0;36mpandas._libs.index.IndexEngine.get_loc\u001b[0;34m()\u001b[0m\n",
      "File \u001b[0;32mpandas/_libs/hashtable_class_helper.pxi:7081\u001b[0m, in \u001b[0;36mpandas._libs.hashtable.PyObjectHashTable.get_item\u001b[0;34m()\u001b[0m\n",
      "File \u001b[0;32mpandas/_libs/hashtable_class_helper.pxi:7089\u001b[0m, in \u001b[0;36mpandas._libs.hashtable.PyObjectHashTable.get_item\u001b[0;34m()\u001b[0m\n",
      "\u001b[0;31mKeyError\u001b[0m: 'tool_calls'",
      "\nThe above exception was the direct cause of the following exception:\n",
      "\u001b[0;31mKeyError\u001b[0m                                  Traceback (most recent call last)",
      "Cell \u001b[0;32mIn[15], line 1\u001b[0m\n\u001b[0;32m----> 1\u001b[0m tools_calls \u001b[38;5;241m=\u001b[39m pd\u001b[38;5;241m.\u001b[39mDataFrame\u001b[38;5;241m.\u001b[39mfrom_records(\u001b[43msel_df\u001b[49m\u001b[43m[\u001b[49m\u001b[38;5;124;43m\"\u001b[39;49m\u001b[38;5;124;43mtool_calls\u001b[39;49m\u001b[38;5;124;43m\"\u001b[39;49m\u001b[43m]\u001b[49m\u001b[38;5;241m.\u001b[39mvalues)\u001b[38;5;241m.\u001b[39mfillna(\u001b[38;5;241m0\u001b[39m)\n\u001b[1;32m      3\u001b[0m \u001b[38;5;66;03m# Exclude the tools that were not used enough\u001b[39;00m\n\u001b[1;32m      4\u001b[0m tools_calls \u001b[38;5;241m=\u001b[39m tools_calls\u001b[38;5;241m.\u001b[39mloc[:, tools_calls\u001b[38;5;241m.\u001b[39msum() \u001b[38;5;241m>\u001b[39m \u001b[38;5;241m10\u001b[39m]\n",
      "File \u001b[0;32m~/venv/gaia/lib/python3.12/site-packages/pandas/core/frame.py:4102\u001b[0m, in \u001b[0;36mDataFrame.__getitem__\u001b[0;34m(self, key)\u001b[0m\n\u001b[1;32m   4100\u001b[0m \u001b[38;5;28;01mif\u001b[39;00m \u001b[38;5;28mself\u001b[39m\u001b[38;5;241m.\u001b[39mcolumns\u001b[38;5;241m.\u001b[39mnlevels \u001b[38;5;241m>\u001b[39m \u001b[38;5;241m1\u001b[39m:\n\u001b[1;32m   4101\u001b[0m     \u001b[38;5;28;01mreturn\u001b[39;00m \u001b[38;5;28mself\u001b[39m\u001b[38;5;241m.\u001b[39m_getitem_multilevel(key)\n\u001b[0;32m-> 4102\u001b[0m indexer \u001b[38;5;241m=\u001b[39m \u001b[38;5;28;43mself\u001b[39;49m\u001b[38;5;241;43m.\u001b[39;49m\u001b[43mcolumns\u001b[49m\u001b[38;5;241;43m.\u001b[39;49m\u001b[43mget_loc\u001b[49m\u001b[43m(\u001b[49m\u001b[43mkey\u001b[49m\u001b[43m)\u001b[49m\n\u001b[1;32m   4103\u001b[0m \u001b[38;5;28;01mif\u001b[39;00m is_integer(indexer):\n\u001b[1;32m   4104\u001b[0m     indexer \u001b[38;5;241m=\u001b[39m [indexer]\n",
      "File \u001b[0;32m~/venv/gaia/lib/python3.12/site-packages/pandas/core/indexes/base.py:3812\u001b[0m, in \u001b[0;36mIndex.get_loc\u001b[0;34m(self, key)\u001b[0m\n\u001b[1;32m   3807\u001b[0m     \u001b[38;5;28;01mif\u001b[39;00m \u001b[38;5;28misinstance\u001b[39m(casted_key, \u001b[38;5;28mslice\u001b[39m) \u001b[38;5;129;01mor\u001b[39;00m (\n\u001b[1;32m   3808\u001b[0m         \u001b[38;5;28misinstance\u001b[39m(casted_key, abc\u001b[38;5;241m.\u001b[39mIterable)\n\u001b[1;32m   3809\u001b[0m         \u001b[38;5;129;01mand\u001b[39;00m \u001b[38;5;28many\u001b[39m(\u001b[38;5;28misinstance\u001b[39m(x, \u001b[38;5;28mslice\u001b[39m) \u001b[38;5;28;01mfor\u001b[39;00m x \u001b[38;5;129;01min\u001b[39;00m casted_key)\n\u001b[1;32m   3810\u001b[0m     ):\n\u001b[1;32m   3811\u001b[0m         \u001b[38;5;28;01mraise\u001b[39;00m InvalidIndexError(key)\n\u001b[0;32m-> 3812\u001b[0m     \u001b[38;5;28;01mraise\u001b[39;00m \u001b[38;5;167;01mKeyError\u001b[39;00m(key) \u001b[38;5;28;01mfrom\u001b[39;00m\u001b[38;5;250m \u001b[39m\u001b[38;5;21;01merr\u001b[39;00m\n\u001b[1;32m   3813\u001b[0m \u001b[38;5;28;01mexcept\u001b[39;00m \u001b[38;5;167;01mTypeError\u001b[39;00m:\n\u001b[1;32m   3814\u001b[0m     \u001b[38;5;66;03m# If we have a listlike key, _check_indexing_error will raise\u001b[39;00m\n\u001b[1;32m   3815\u001b[0m     \u001b[38;5;66;03m#  InvalidIndexError. Otherwise we fall through and re-raise\u001b[39;00m\n\u001b[1;32m   3816\u001b[0m     \u001b[38;5;66;03m#  the TypeError.\u001b[39;00m\n\u001b[1;32m   3817\u001b[0m     \u001b[38;5;28mself\u001b[39m\u001b[38;5;241m.\u001b[39m_check_indexing_error(key)\n",
      "\u001b[0;31mKeyError\u001b[0m: 'tool_calls'"
     ]
    }
   ],
   "source": [
    "tools_calls = pd.DataFrame.from_records(sel_df[\"tool_calls\"].values).fillna(0)\n",
    "\n",
    "# Exclude the tools that were not used enough\n",
    "tools_calls = tools_calls.loc[:, tools_calls.sum() > 10]\n",
    "\n",
    "# Sort the columns by the sum of the values\n",
    "tools_calls = tools_calls[tools_calls.sum().sort_values(ascending=False).index]\n",
    "display(tools_calls)\n",
    "sel_with_calls = pd.concat([sel_df[[\"question\", \"is_correct\", \"task\"]], tools_calls], axis=1)\n",
    "sel_with_calls = sel_with_calls.drop(\"question\", axis=1).groupby([\"is_correct\", \"task\"]).mean()\n",
    "# sel_with_calls = sel_with_calls.melt(id_vars=['question', 'is_correct', 'task'], var_name=\"tool\", value_name='count')"
   ]
  },
  {
   "cell_type": "code",
   "execution_count": 16,
   "metadata": {},
   "outputs": [],
   "source": [
    "sel_with_calls = sel_with_calls.reset_index().melt(\n",
    "    id_vars=[\"is_correct\", \"task\"], var_name=\"tool\", value_name=\"average_count\"\n",
    ")"
   ]
  },
  {
   "cell_type": "code",
   "execution_count": null,
   "metadata": {},
   "outputs": [],
   "source": [
    "import plotly.express as px\n",
    "\n",
    "\n",
    "fig = px.bar(\n",
    "    sel_with_calls,\n",
    "    x=\"tool\",\n",
    "    y=\"average_count\",\n",
    "    color=\"is_correct\",\n",
    "    facet_row=\"task\",\n",
    "    labels={\n",
    "        \"agent_name\": \"<b>Agent variant</b>\",\n",
    "        \"task\": \"<b>Level</b>\",\n",
    "        \"aggregate_score\": \"<b>Performance</b>\",\n",
    "        \"eval_score_GPT4\": \"<b>Score</b>\",\n",
    "        \"agent_type\": \"<b>Agent type</b>\",\n",
    "        \"average_count\": \"<b>Average #calls per run</b>\",\n",
    "    },\n",
    ")\n",
    "fig.update_layout(\n",
    "    barmode=\"group\",\n",
    "    height=800,\n",
    "    width=1000,\n",
    "    title=\"<b>\" + \"</b>\",\n",
    ")"
   ]
  },
  {
   "cell_type": "markdown",
   "metadata": {},
   "source": [
    "### Inspect result by file extension type"
   ]
  },
  {
   "cell_type": "code",
   "execution_count": null,
   "metadata": {},
   "outputs": [],
   "source": [
    "display(\n",
    "    sel_df.groupby([\"agent_name\", \"attachment_type\"])[[\"is_correct\", \"count_steps\", \"question\"]].agg(\n",
    "        {\"is_correct\": \"mean\", \"count_steps\": \"mean\", \"question\": \"count\"}\n",
    "    )\n",
    ")"
   ]
  },
  {
   "cell_type": "markdown",
   "metadata": {},
   "source": [
    "# 4. Ensembling methods\n",
    "\n",
    "### 4.1 Simple retry mechanism"
   ]
  },
  {
   "cell_type": "code",
   "execution_count": null,
   "metadata": {},
   "outputs": [],
   "source": [
    "run_1 = result_df.loc[result_df[\"agent_name\"] == o1_vision].copy()\n",
    "run_2 = result_df.loc[result_df[\"agent_name\"] == o1].copy()\n",
    "run_3 = result_df.loc[result_df[\"agent_name\"] == o1_next].copy()\n",
    "\n",
    "\n",
    "def majority_vote(df1, df2, df3):\n",
    "    # Combine all predictions and is_correct values into one dataframe\n",
    "    combined = pd.DataFrame(\n",
    "        {\n",
    "            \"question\": df1[\"question\"],\n",
    "            \"task\": df1[\"task\"],\n",
    "            \"pred1\": df1[\"prediction\"],\n",
    "            \"pred2\": df2[\"prediction\"],\n",
    "            \"pred3\": df3[\"prediction\"],\n",
    "            \"correct1\": df1[\"is_correct\"],\n",
    "            \"correct2\": df2[\"is_correct\"],\n",
    "            \"correct3\": df3[\"is_correct\"],\n",
    "        }\n",
    "    )\n",
    "\n",
    "    def get_majority_and_correct(row):\n",
    "        # Get all predictions\n",
    "        predictions = [row[\"pred1\"], row[\"pred2\"], row[\"pred3\"]]\n",
    "        correct_values = [row[\"correct1\"], row[\"correct2\"], row[\"correct3\"]]\n",
    "\n",
    "        # Count occurrences of each prediction\n",
    "        from collections import Counter\n",
    "\n",
    "        counts = Counter(predictions)\n",
    "\n",
    "        # Get the most common prediction\n",
    "        majority_pred = counts.most_common(1)[0][0]\n",
    "\n",
    "        # Find the first dataframe that gave this prediction\n",
    "        selected_idx = predictions.index(majority_pred)\n",
    "\n",
    "        # Return both the prediction and its corresponding is_correct value\n",
    "        return pd.Series(\n",
    "            {\"prediction\": majority_pred, \"is_correct\": correct_values[selected_idx], \"task\": row[\"task\"]}\n",
    "        )\n",
    "\n",
    "    # Apply the majority voting and get corresponding is_correct\n",
    "    result = combined.apply(get_majority_and_correct, axis=1)\n",
    "\n",
    "    # Combine with questions\n",
    "    final_df = pd.DataFrame(\n",
    "        {\n",
    "            \"question\": combined[\"question\"],\n",
    "            \"prediction\": result[\"prediction\"],\n",
    "            \"is_correct\": result[\"is_correct\"],\n",
    "            \"task\": result[\"task\"],\n",
    "        }\n",
    "    )\n",
    "\n",
    "    return final_df\n",
    "\n",
    "\n",
    "majority = majority_vote(run_1, run_2, run_3)\n",
    "majority"
   ]
  },
  {
   "cell_type": "code",
   "execution_count": null,
   "metadata": {},
   "outputs": [],
   "source": [
    "print(\"First run:\")\n",
    "print(f\"{run_1['is_correct'].mean():.2f}\")\n",
    "\n",
    "print(\"Second run:\")\n",
    "print(f\"{run_2['is_correct'].mean():.2f}\")\n",
    "\n",
    "print(\"Third run:\")\n",
    "print(f\"{run_3['is_correct'].mean():.2f}\")\n",
    "\n",
    "print(\"Combined run:\")\n",
    "display(majority.groupby([\"task\"])[[\"is_correct\"]].mean())\n",
    "print(f\"{majority['is_correct'].mean():.2f}\")"
   ]
  },
  {
   "cell_type": "markdown",
   "metadata": {},
   "source": [
    "### 4.2 Ideal ensembling"
   ]
  },
  {
   "cell_type": "code",
   "execution_count": null,
   "metadata": {},
   "outputs": [],
   "source": [
    "third_run = result_df.loc[result_df[\"agent_name\"] == noanchorplan].copy()\n",
    "INCLUDE_THIRD_RUN = False\n",
    "\n",
    "\n",
    "# test ideal ensembling\n",
    "def score_best_both(row, result_df_replacement):\n",
    "    try:\n",
    "        if row[\"is_correct\"]:\n",
    "            return True\n",
    "\n",
    "        else:\n",
    "            matching_answer = result_df_replacement.loc[(result_df_replacement[\"question\"] == row[\"question\"])].iloc[0]\n",
    "            if matching_answer[\"is_correct\"]:\n",
    "                return True\n",
    "            else:\n",
    "                return False\n",
    "    except:\n",
    "        return row[\"is_correct\"]\n",
    "\n",
    "\n",
    "combined_gpt4 = first_run_gpt4.copy()\n",
    "combined_gpt4[\"is_correct\"] = combined_gpt4.apply(lambda x: score_best_both(x, second_run_gpt4), axis=1)\n",
    "if INCLUDE_THIRD_RUN:\n",
    "    combined_gpt4[\"is_correct\"] = combined_gpt4.apply(lambda x: score_best_both(x, third_run), axis=1)\n",
    "print(\"Ideal combined run:\")\n",
    "print(combined_gpt4.groupby([\"task\"])[\"is_correct\"].mean())\n",
    "print(combined_gpt4[\"is_correct\"].mean())"
   ]
  }
 ],
 "metadata": {
  "kernelspec": {
   "display_name": "gaia",
   "language": "python",
   "name": "python3"
  },
  "language_info": {
   "codemirror_mode": {
    "name": "ipython",
    "version": 3
   },
   "file_extension": ".py",
   "mimetype": "text/x-python",
   "name": "python",
   "nbconvert_exporter": "python",
   "pygments_lexer": "ipython3",
   "version": "3.12.0"
  }
 },
 "nbformat": 4,
 "nbformat_minor": 2
}
