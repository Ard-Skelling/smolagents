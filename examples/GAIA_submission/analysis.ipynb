{
 "cells": [
  {
   "cell_type": "code",
   "execution_count": 3,
   "metadata": {},
   "outputs": [
    {
     "name": "stdout",
     "output_type": "stream",
     "text": [
      "\n",
      "\u001b[1m[\u001b[0m\u001b[34;49mnotice\u001b[0m\u001b[1;39;49m]\u001b[0m\u001b[39;49m A new release of pip is available: \u001b[0m\u001b[31;49m23.2.1\u001b[0m\u001b[39;49m -> \u001b[0m\u001b[32;49m24.3.1\u001b[0m\n",
      "\u001b[1m[\u001b[0m\u001b[34;49mnotice\u001b[0m\u001b[1;39;49m]\u001b[0m\u001b[39;49m To update, run: \u001b[0m\u001b[32;49mpip install --upgrade pip\u001b[0m\n"
     ]
    }
   ],
   "source": [
    "!pip install plotly kaleido datasets -U -q"
   ]
  },
  {
   "cell_type": "code",
   "execution_count": 4,
   "metadata": {},
   "outputs": [
    {
     "name": "stderr",
     "output_type": "stream",
     "text": [
      "/Users/aymeric/venv/test/lib/python3.12/site-packages/tqdm/auto.py:21: TqdmWarning: IProgress not found. Please update jupyter and ipywidgets. See https://ipywidgets.readthedocs.io/en/stable/user_install.html\n",
      "  from .autonotebook import tqdm as notebook_tqdm\n",
      "Note: Environment variable`HF_TOKEN` is set and is the current active token independently from the token you've just configured.\n"
     ]
    }
   ],
   "source": [
    "import os\n",
    "\n",
    "import datasets\n",
    "import pandas as pd\n",
    "from dotenv import load_dotenv\n",
    "from huggingface_hub import login\n",
    "\n",
    "\n",
    "load_dotenv(override=True)\n",
    "login(os.getenv(\"HF_TOKEN\"))\n",
    "\n",
    "pd.set_option(\"max_colwidth\", None)\n",
    "\n",
    "OUTPUT_DIR = \"output\""
   ]
  },
  {
   "cell_type": "code",
   "execution_count": 5,
   "metadata": {},
   "outputs": [],
   "source": [
    "eval_ds = datasets.load_dataset(\"gaia-benchmark/GAIA\", \"2023_all\")[\"validation\"]\n",
    "eval_ds = eval_ds.rename_columns({\"Question\": \"question\", \"Final answer\": \"true_answer\", \"Level\": \"task\"})\n",
    "eval_df = pd.DataFrame(eval_ds)"
   ]
  },
  {
   "cell_type": "code",
   "execution_count": 6,
   "metadata": {},
   "outputs": [
    {
     "data": {
      "text/plain": [
       "2    86\n",
       "1    53\n",
       "3    26\n",
       "Name: count, dtype: int64"
      ]
     },
     "execution_count": 6,
     "metadata": {},
     "output_type": "execute_result"
    }
   ],
   "source": [
    "pd.Series(eval_ds[\"task\"]).value_counts()"
   ]
  },
  {
   "cell_type": "markdown",
   "metadata": {},
   "source": [
    "# 1. Load all results"
   ]
  },
  {
   "cell_type": "code",
   "execution_count": 7,
   "metadata": {},
   "outputs": [],
   "source": [
    "import glob\n",
    "\n",
    "\n",
    "answer_file_path = f\"{OUTPUT_DIR}/validation/answers.jsonl\"\n",
    "\n",
    "result_df = pd.concat(\n",
    "    [pd.read_json(f, lines=True) for f in glob.glob(f\"{OUTPUT_DIR}/validation/*.jsonl\") if \"answers.jsonl\" not in f]\n",
    ")\n",
    "result_df = result_df.drop(columns=[\"start_time\", \"end_time\"])\n",
    "result_df.to_json(answer_file_path, lines=True, orient=\"records\")"
   ]
  },
  {
   "cell_type": "code",
   "execution_count": 8,
   "metadata": {},
   "outputs": [
    {
     "name": "stdout",
     "output_type": "stream",
     "text": [
      "String 250 for Cheater cannot be normalized to number str.\n",
      "String  220 for Cheater beater cannot be normalized to number str.\n",
      "Close call: INT. THE CASTLE vs THE CASTLE\n",
      "Close call: to be or not to be that is the question whether tis nobler in the mind to suffer the slings and arrows of outrageous fortune or to take arms against a sea of troubles and by opposing end them vs To be or not to be that is the question whether tis nobler in the mind to suffer the slings and arrows of outrageous fortune\n"
     ]
    },
    {
     "name": "stderr",
     "output_type": "stream",
     "text": [
      "/Users/aymeric/Documents/Code/smolagents/examples/GAIA_submission/scripts/gaia_scorer.py:52: UserWarning: Answer lists have different lengths, returning False.\n",
      "  warnings.warn(\"Answer lists have different lengths, returning False.\", UserWarning)\n"
     ]
    }
   ],
   "source": [
    "import re\n",
    "from collections import Counter\n",
    "\n",
    "from scripts.gaia_scorer import check_close_call, question_scorer\n",
    "\n",
    "\n",
    "result_df[\"is_correct\"] = result_df.apply(lambda x: question_scorer(x[\"prediction\"], x[\"true_answer\"]), axis=1)\n",
    "result_df[\"is_near_correct\"] = result_df.apply(\n",
    "    lambda x: check_close_call(x[\"prediction\"], x[\"true_answer\"], x[\"is_correct\"]),\n",
    "    axis=1,\n",
    ")\n",
    "\n",
    "result_df[\"count_steps\"] = result_df[\"intermediate_steps\"].apply(len)\n",
    "\n",
    "\n",
    "def find_attachment(question):\n",
    "    matches = eval_df.loc[eval_df[\"question\"].apply(lambda x: x in question), \"file_name\"]\n",
    "\n",
    "    if len(matches) == 0:\n",
    "        return \"Not found\"\n",
    "    file_path = matches.values[0]\n",
    "\n",
    "    if isinstance(file_path, str) and len(file_path) > 0:\n",
    "        return file_path.split(\".\")[-1]\n",
    "    else:\n",
    "        return \"None\"\n",
    "\n",
    "\n",
    "result_df[\"attachment_type\"] = result_df[\"question\"].apply(find_attachment)\n",
    "\n",
    "\n",
    "def extract_tool_calls(code):\n",
    "    regex = r\"\\b(\\w+)\\(\"\n",
    "    function_calls = [el for el in re.findall(regex, code) if el.islower()]\n",
    "\n",
    "    function_call_counter = Counter(function_calls)\n",
    "    return function_call_counter\n",
    "\n",
    "\n",
    "def sum_tool_calls(steps):\n",
    "    total_count = Counter()\n",
    "    for step in steps:\n",
    "        if \"llm_output\" in step:\n",
    "            total_count += extract_tool_calls(step[\"llm_output\"])\n",
    "\n",
    "    return total_count\n",
    "\n",
    "\n",
    "# result_df[\"tool_calls\"] = result_df[\"intermediate_steps\"].apply(sum_tool_calls)"
   ]
  },
  {
   "cell_type": "code",
   "execution_count": 9,
   "metadata": {},
   "outputs": [],
   "source": [
    "def get_thoughts(x):\n",
    "    try:\n",
    "        output = x[0][\"task\"]\n",
    "        for y in x[1:]:\n",
    "            try:\n",
    "                if \"observation\" in y:\n",
    "                    output += y[\"llm_output\"] + \"\\nObservation:\" + y[\"observation\"]\n",
    "                else:\n",
    "                    output += y[\"llm_output\"] + r\"\\Error:\" + str(y[\"error\"])\n",
    "            except:\n",
    "                pass\n",
    "        return output\n",
    "    except:\n",
    "        return None\n",
    "\n",
    "\n",
    "result_df[\"thoughts\"] = result_df[\"intermediate_steps\"].apply(lambda x: get_thoughts(x))"
   ]
  },
  {
   "cell_type": "code",
   "execution_count": 10,
   "metadata": {},
   "outputs": [
    {
     "data": {
      "text/plain": [
       "agent_name\n",
       "code_o1_22-01_managedagent-summary_planning    67\n",
       "code_o1_25-01_visioon                          53\n",
       "Name: count, dtype: int64"
      ]
     },
     "execution_count": 10,
     "metadata": {},
     "output_type": "execute_result"
    }
   ],
   "source": [
    "result_df[\"agent_name\"].value_counts()"
   ]
  },
  {
   "cell_type": "markdown",
   "metadata": {},
   "source": [
    "# 2. Inspect specific runs"
   ]
  },
  {
   "cell_type": "code",
   "execution_count": 15,
   "metadata": {},
   "outputs": [
    {
     "data": {
      "text/plain": [
       "agent_name\n",
       "code_o1_22-01_managedagent-summary_planning    67\n",
       "code_o1_25-01_visioon                          53\n",
       "Name: count, dtype: int64"
      ]
     },
     "metadata": {},
     "output_type": "display_data"
    },
    {
     "data": {
      "text/plain": [
       "agent_name                                   task\n",
       "code_o1_22-01_managedagent-summary_planning  2       36\n",
       "                                             1       21\n",
       "                                             3       10\n",
       "code_o1_25-01_visioon                        2       30\n",
       "                                             1       17\n",
       "                                             3        6\n",
       "Name: count, dtype: int64"
      ]
     },
     "metadata": {},
     "output_type": "display_data"
    },
    {
     "name": "stdout",
     "output_type": "stream",
     "text": [
      "Total length: 120 - is complete: False\n"
     ]
    }
   ],
   "source": [
    "o1 = \"code_o1_22-01_managedagent-summary_planning\"\n",
    "o1_vision = \"code_o1_25-01_visioon\"\n",
    "\n",
    "list_versions = [o1, o1_vision]\n",
    "\n",
    "# submission_selection_name = \"react_code_llama3-70b_02-05_full-gaia-validation-code\"\n",
    "sel_df = result_df.loc[\n",
    "    (result_df[\"agent_name\"].isin(list_versions))\n",
    "    # & (~result_df[\"question\"].isin(UNSOLVED_QUESTIONS))\n",
    "].reset_index(drop=True)\n",
    "display(sel_df[\"agent_name\"].value_counts())\n",
    "sel_df = sel_df.drop_duplicates(subset=[\"agent_name\", \"question\"])\n",
    "display(sel_df.groupby(\"agent_name\")[[\"task\"]].value_counts())\n",
    "print(\"Total length:\", len(sel_df), \"- is complete:\", len(sel_df) == 165)\n",
    "# assert sel_df[\"question\"].value_counts().max() == len(list_versions), \"Some questions are duplicate!\""
   ]
  },
  {
   "cell_type": "code",
   "execution_count": 16,
   "metadata": {},
   "outputs": [
    {
     "data": {
      "text/html": [
       "<div>\n",
       "<style scoped>\n",
       "    .dataframe tbody tr th:only-of-type {\n",
       "        vertical-align: middle;\n",
       "    }\n",
       "\n",
       "    .dataframe tbody tr th {\n",
       "        vertical-align: top;\n",
       "    }\n",
       "\n",
       "    .dataframe thead th {\n",
       "        text-align: right;\n",
       "    }\n",
       "</style>\n",
       "<table border=\"1\" class=\"dataframe\">\n",
       "  <thead>\n",
       "    <tr style=\"text-align: right;\">\n",
       "      <th></th>\n",
       "      <th>question</th>\n",
       "      <th>prediction</th>\n",
       "      <th>true_answer</th>\n",
       "    </tr>\n",
       "  </thead>\n",
       "  <tbody>\n",
       "    <tr>\n",
       "      <th>21</th>\n",
       "      <td>In Series 9, Episode 11 of Doctor Who, the Doctor is trapped inside an ever-shifting maze. What is this location called in the official script for the episode? Give the setting exactly as it appears in the first scene heading.</td>\n",
       "      <td>INT. THE CASTLE</td>\n",
       "      <td>THE CASTLE</td>\n",
       "    </tr>\n",
       "    <tr>\n",
       "      <th>44</th>\n",
       "      <td>Could you help me out with this assignment? Our professor sprung it on us at the end of class Friday, and I'm still trying to figure it out. The question he asked us was about an anagram. I've attached an audio recording of the question that he asked, so if you could please take a listen and give me the answer, I'd really appreciate the help. Please limit your response to the anagram text that could be generated from the original line which fulfills the professor's request, without any other commentary. Also, please don't include any punctuation in your response.</td>\n",
       "      <td>to be or not to be that is the question whether tis nobler in the mind to suffer the slings and arrows of outrageous fortune or to take arms against a sea of troubles and by opposing end them</td>\n",
       "      <td>To be or not to be that is the question whether tis nobler in the mind to suffer the slings and arrows of outrageous fortune</td>\n",
       "    </tr>\n",
       "  </tbody>\n",
       "</table>\n",
       "</div>"
      ],
      "text/plain": [
       "                                                                                                                                                                                                                                                                                                                                                                                                                                                                                                                                                                                     question  \\\n",
       "21                                                                                                                                                                                                                                                                                                                                                         In Series 9, Episode 11 of Doctor Who, the Doctor is trapped inside an ever-shifting maze. What is this location called in the official script for the episode? Give the setting exactly as it appears in the first scene heading.   \n",
       "44  Could you help me out with this assignment? Our professor sprung it on us at the end of class Friday, and I'm still trying to figure it out. The question he asked us was about an anagram. I've attached an audio recording of the question that he asked, so if you could please take a listen and give me the answer, I'd really appreciate the help. Please limit your response to the anagram text that could be generated from the original line which fulfills the professor's request, without any other commentary. Also, please don't include any punctuation in your response.   \n",
       "\n",
       "                                                                                                                                                                                         prediction  \\\n",
       "21                                                                                                                                                                                  INT. THE CASTLE   \n",
       "44  to be or not to be that is the question whether tis nobler in the mind to suffer the slings and arrows of outrageous fortune or to take arms against a sea of troubles and by opposing end them   \n",
       "\n",
       "                                                                                                                     true_answer  \n",
       "21                                                                                                                    THE CASTLE  \n",
       "44  To be or not to be that is the question whether tis nobler in the mind to suffer the slings and arrows of outrageous fortune  "
      ]
     },
     "execution_count": 16,
     "metadata": {},
     "output_type": "execute_result"
    }
   ],
   "source": [
    "sel_df.loc[\n",
    "    (sel_df[\"is_correct\"] == False) & (sel_df[\"is_near_correct\"] == True),\n",
    "    [\"question\", \"prediction\", \"true_answer\"],\n",
    "]"
   ]
  },
  {
   "cell_type": "code",
   "execution_count": 17,
   "metadata": {},
   "outputs": [
    {
     "data": {
      "text/plain": [
       "'Average score:'"
      ]
     },
     "metadata": {},
     "output_type": "display_data"
    },
    {
     "data": {
      "text/html": [
       "<div>\n",
       "<style scoped>\n",
       "    .dataframe tbody tr th:only-of-type {\n",
       "        vertical-align: middle;\n",
       "    }\n",
       "\n",
       "    .dataframe tbody tr th {\n",
       "        vertical-align: top;\n",
       "    }\n",
       "\n",
       "    .dataframe thead th {\n",
       "        text-align: right;\n",
       "    }\n",
       "</style>\n",
       "<table border=\"1\" class=\"dataframe\">\n",
       "  <thead>\n",
       "    <tr style=\"text-align: right;\">\n",
       "      <th></th>\n",
       "      <th>is_correct</th>\n",
       "    </tr>\n",
       "    <tr>\n",
       "      <th>agent_name</th>\n",
       "      <th></th>\n",
       "    </tr>\n",
       "  </thead>\n",
       "  <tbody>\n",
       "    <tr>\n",
       "      <th>code_o1_22-01_managedagent-summary_planning</th>\n",
       "      <td>0.418</td>\n",
       "    </tr>\n",
       "    <tr>\n",
       "      <th>code_o1_25-01_visioon</th>\n",
       "      <td>0.340</td>\n",
       "    </tr>\n",
       "  </tbody>\n",
       "</table>\n",
       "</div>"
      ],
      "text/plain": [
       "                                             is_correct\n",
       "agent_name                                             \n",
       "code_o1_22-01_managedagent-summary_planning       0.418\n",
       "code_o1_25-01_visioon                             0.340"
      ]
     },
     "metadata": {},
     "output_type": "display_data"
    },
    {
     "data": {
      "text/html": [
       "<div>\n",
       "<style scoped>\n",
       "    .dataframe tbody tr th:only-of-type {\n",
       "        vertical-align: middle;\n",
       "    }\n",
       "\n",
       "    .dataframe tbody tr th {\n",
       "        vertical-align: top;\n",
       "    }\n",
       "\n",
       "    .dataframe thead th {\n",
       "        text-align: right;\n",
       "    }\n",
       "</style>\n",
       "<table border=\"1\" class=\"dataframe\">\n",
       "  <thead>\n",
       "    <tr style=\"text-align: right;\">\n",
       "      <th></th>\n",
       "      <th></th>\n",
       "      <th>is_correct</th>\n",
       "      <th>is_near_correct</th>\n",
       "      <th>count_steps</th>\n",
       "      <th>count</th>\n",
       "    </tr>\n",
       "    <tr>\n",
       "      <th>agent_name</th>\n",
       "      <th>task</th>\n",
       "      <th></th>\n",
       "      <th></th>\n",
       "      <th></th>\n",
       "      <th></th>\n",
       "    </tr>\n",
       "  </thead>\n",
       "  <tbody>\n",
       "    <tr>\n",
       "      <th rowspan=\"3\" valign=\"top\">code_o1_22-01_managedagent-summary_planning</th>\n",
       "      <th>1</th>\n",
       "      <td>0.476190</td>\n",
       "      <td>0.523810</td>\n",
       "      <td>5.047619</td>\n",
       "      <td>21</td>\n",
       "    </tr>\n",
       "    <tr>\n",
       "      <th>2</th>\n",
       "      <td>0.472222</td>\n",
       "      <td>0.500000</td>\n",
       "      <td>5.222222</td>\n",
       "      <td>36</td>\n",
       "    </tr>\n",
       "    <tr>\n",
       "      <th>3</th>\n",
       "      <td>0.100000</td>\n",
       "      <td>0.100000</td>\n",
       "      <td>5.500000</td>\n",
       "      <td>10</td>\n",
       "    </tr>\n",
       "    <tr>\n",
       "      <th rowspan=\"3\" valign=\"top\">code_o1_25-01_visioon</th>\n",
       "      <th>1</th>\n",
       "      <td>0.411765</td>\n",
       "      <td>0.411765</td>\n",
       "      <td>5.294118</td>\n",
       "      <td>17</td>\n",
       "    </tr>\n",
       "    <tr>\n",
       "      <th>2</th>\n",
       "      <td>0.366667</td>\n",
       "      <td>0.366667</td>\n",
       "      <td>5.333333</td>\n",
       "      <td>30</td>\n",
       "    </tr>\n",
       "    <tr>\n",
       "      <th>3</th>\n",
       "      <td>0.000000</td>\n",
       "      <td>0.000000</td>\n",
       "      <td>6.666667</td>\n",
       "      <td>6</td>\n",
       "    </tr>\n",
       "  </tbody>\n",
       "</table>\n",
       "</div>"
      ],
      "text/plain": [
       "                                                  is_correct  is_near_correct  \\\n",
       "agent_name                                  task                                \n",
       "code_o1_22-01_managedagent-summary_planning 1       0.476190         0.523810   \n",
       "                                            2       0.472222         0.500000   \n",
       "                                            3       0.100000         0.100000   \n",
       "code_o1_25-01_visioon                       1       0.411765         0.411765   \n",
       "                                            2       0.366667         0.366667   \n",
       "                                            3       0.000000         0.000000   \n",
       "\n",
       "                                                  count_steps  count  \n",
       "agent_name                                  task                      \n",
       "code_o1_22-01_managedagent-summary_planning 1        5.047619     21  \n",
       "                                            2        5.222222     36  \n",
       "                                            3        5.500000     10  \n",
       "code_o1_25-01_visioon                       1        5.294118     17  \n",
       "                                            2        5.333333     30  \n",
       "                                            3        6.666667      6  "
      ]
     },
     "metadata": {},
     "output_type": "display_data"
    }
   ],
   "source": [
    "display(\"Average score:\", sel_df.groupby(\"agent_name\")[[\"is_correct\"]].mean().round(3))\n",
    "display(\n",
    "    sel_df.groupby([\"agent_name\", \"task\"])[[\"is_correct\", \"is_near_correct\", \"count_steps\", \"question\"]]\n",
    "    .agg(\n",
    "        {\n",
    "            \"is_correct\": \"mean\",\n",
    "            \"is_near_correct\": \"mean\",\n",
    "            \"count_steps\": \"mean\",\n",
    "            \"question\": \"count\",\n",
    "        }\n",
    "    )\n",
    "    .rename(columns={\"question\": \"count\"})\n",
    ")"
   ]
  },
  {
   "cell_type": "code",
   "execution_count": 18,
   "metadata": {},
   "outputs": [
    {
     "ename": "ValueError",
     "evalue": "Mime type rendering requires nbformat>=4.2.0 but it is not installed",
     "output_type": "error",
     "traceback": [
      "\u001b[0;31m---------------------------------------------------------------------------\u001b[0m",
      "\u001b[0;31mValueError\u001b[0m                                Traceback (most recent call last)",
      "File \u001b[0;32m~/venv/test/lib/python3.12/site-packages/IPython/core/formatters.py:984\u001b[0m, in \u001b[0;36mIPythonDisplayFormatter.__call__\u001b[0;34m(self, obj)\u001b[0m\n\u001b[1;32m    982\u001b[0m method \u001b[38;5;241m=\u001b[39m get_real_method(obj, \u001b[38;5;28mself\u001b[39m\u001b[38;5;241m.\u001b[39mprint_method)\n\u001b[1;32m    983\u001b[0m \u001b[38;5;28;01mif\u001b[39;00m method \u001b[38;5;129;01mis\u001b[39;00m \u001b[38;5;129;01mnot\u001b[39;00m \u001b[38;5;28;01mNone\u001b[39;00m:\n\u001b[0;32m--> 984\u001b[0m     \u001b[43mmethod\u001b[49m\u001b[43m(\u001b[49m\u001b[43m)\u001b[49m\n\u001b[1;32m    985\u001b[0m     \u001b[38;5;28;01mreturn\u001b[39;00m \u001b[38;5;28;01mTrue\u001b[39;00m\n",
      "File \u001b[0;32m~/venv/test/lib/python3.12/site-packages/plotly/basedatatypes.py:832\u001b[0m, in \u001b[0;36mBaseFigure._ipython_display_\u001b[0;34m(self)\u001b[0m\n\u001b[1;32m    829\u001b[0m \u001b[38;5;28;01mimport\u001b[39;00m\u001b[38;5;250m \u001b[39m\u001b[38;5;21;01mplotly\u001b[39;00m\u001b[38;5;21;01m.\u001b[39;00m\u001b[38;5;21;01mio\u001b[39;00m\u001b[38;5;250m \u001b[39m\u001b[38;5;28;01mas\u001b[39;00m\u001b[38;5;250m \u001b[39m\u001b[38;5;21;01mpio\u001b[39;00m\n\u001b[1;32m    831\u001b[0m \u001b[38;5;28;01mif\u001b[39;00m pio\u001b[38;5;241m.\u001b[39mrenderers\u001b[38;5;241m.\u001b[39mrender_on_display \u001b[38;5;129;01mand\u001b[39;00m pio\u001b[38;5;241m.\u001b[39mrenderers\u001b[38;5;241m.\u001b[39mdefault:\n\u001b[0;32m--> 832\u001b[0m     \u001b[43mpio\u001b[49m\u001b[38;5;241;43m.\u001b[39;49m\u001b[43mshow\u001b[49m\u001b[43m(\u001b[49m\u001b[38;5;28;43mself\u001b[39;49m\u001b[43m)\u001b[49m\n\u001b[1;32m    833\u001b[0m \u001b[38;5;28;01melse\u001b[39;00m:\n\u001b[1;32m    834\u001b[0m     \u001b[38;5;28mprint\u001b[39m(\u001b[38;5;28mrepr\u001b[39m(\u001b[38;5;28mself\u001b[39m))\n",
      "File \u001b[0;32m~/venv/test/lib/python3.12/site-packages/plotly/io/_renderers.py:394\u001b[0m, in \u001b[0;36mshow\u001b[0;34m(fig, renderer, validate, **kwargs)\u001b[0m\n\u001b[1;32m    389\u001b[0m         \u001b[38;5;28;01mraise\u001b[39;00m \u001b[38;5;167;01mValueError\u001b[39;00m(\n\u001b[1;32m    390\u001b[0m             \u001b[38;5;124m\"\u001b[39m\u001b[38;5;124mMime type rendering requires ipython but it is not installed\u001b[39m\u001b[38;5;124m\"\u001b[39m\n\u001b[1;32m    391\u001b[0m         )\n\u001b[1;32m    393\u001b[0m     \u001b[38;5;28;01mif\u001b[39;00m \u001b[38;5;129;01mnot\u001b[39;00m nbformat \u001b[38;5;129;01mor\u001b[39;00m Version(nbformat\u001b[38;5;241m.\u001b[39m__version__) \u001b[38;5;241m<\u001b[39m Version(\u001b[38;5;124m\"\u001b[39m\u001b[38;5;124m4.2.0\u001b[39m\u001b[38;5;124m\"\u001b[39m):\n\u001b[0;32m--> 394\u001b[0m         \u001b[38;5;28;01mraise\u001b[39;00m \u001b[38;5;167;01mValueError\u001b[39;00m(\n\u001b[1;32m    395\u001b[0m             \u001b[38;5;124m\"\u001b[39m\u001b[38;5;124mMime type rendering requires nbformat>=4.2.0 but it is not installed\u001b[39m\u001b[38;5;124m\"\u001b[39m\n\u001b[1;32m    396\u001b[0m         )\n\u001b[1;32m    398\u001b[0m     ipython_display\u001b[38;5;241m.\u001b[39mdisplay(bundle, raw\u001b[38;5;241m=\u001b[39m\u001b[38;5;28;01mTrue\u001b[39;00m)\n\u001b[1;32m    400\u001b[0m \u001b[38;5;66;03m# external renderers\u001b[39;00m\n",
      "\u001b[0;31mValueError\u001b[0m: Mime type rendering requires nbformat>=4.2.0 but it is not installed"
     ]
    },
    {
     "data": {
      "application/vnd.plotly.v1+json": {
       "config": {
        "plotlyServerURL": "https://plot.ly"
       },
       "data": [
        {
         "customdata": [
          [
           "A paper about AI regulation that was originally su"
          ],
          [
           "I’m researching species that became invasive after"
          ],
          [
           "If we assume all articles published by Nature in 2"
          ],
          [
           "In Unlambda, what exact charcter or text needs to "
          ],
          [
           "If Eliud Kipchoge could maintain his record-making"
          ],
          [
           "How many studio albums were published by Mercedes "
          ],
          [
           "The object in the British Museum's collection with"
          ],
          [
           "According to github, when was Regression added to "
          ],
          [
           "Here's a fun riddle that I think you'll enjoy.\n\nYo"
          ],
          [
           "In July 2, 1959 United States standards for grades"
          ],
          [
           "Using the Biopython library in Python, parse the P"
          ],
          [
           "What are the EC numbers of the two most commonly u"
          ],
          [
           "In April of 1977, who was the Prime Minister of th"
          ],
          [
           "What's the last line of the rhyme under the flavor"
          ],
          [
           "Use density measures from the chemistry materials "
          ],
          [
           "What was the volume in m^3 of the fish bag that wa"
          ],
          [
           "What is the average number of pre-2020 works on th"
          ],
          [
           "In the video https://www.youtube.com/watch?v=L1vXC"
          ],
          [
           "Of the authors (First M. Last) that worked on the "
          ],
          [
           "When you take the average of the standard populati"
          ],
          [
           "Assuming scientists in the famous youtube video Th"
          ],
          [
           "In Series 9, Episode 11 of Doctor Who, the Doctor "
          ],
          [
           "In terms of geographical distance between capital "
          ],
          [
           "In the NCATS PubChem compound database for Food Ad"
          ],
          [
           "I need to fact-check a citation. This is the citat"
          ],
          [
           "Which contributor to the version of OpenCV where s"
          ],
          [
           "What integer-rounded percentage of the total lengt"
          ],
          [
           "An office held a Secret Santa gift exchange where "
          ],
          [
           "What is the maximum length in meters of #9 in the "
          ],
          [
           "What two-word type of model did Manash Pratim Kash"
          ],
          [
           "What animals that were mentioned in both Ilias Lag"
          ],
          [
           "How many High Energy Physics - Lattice articles li"
          ],
          [
           "The photograph in the Whitney Museum of American A"
          ],
          [
           ".rewsna eht sa \"tfel\" drow eht fo etisoppo eht eti"
          ],
          [
           "What is the minimum number of page links a person "
          ],
          [
           "I went to Virtue restaurant & bar in Chicago for m"
          ],
          [
           "¬(A ∧ B) ↔ (¬A ∨ ¬B)\n¬(A ∨ B) ↔ (¬A ∧ ¬B)\n(A → B) "
          ],
          [
           "My family reunion is this week, and I was assigned"
          ],
          [
           "In Emily Midkiff's June 2014 article in a journal "
          ],
          [
           "It is 1999. Before you party like it is 1999, plea"
          ],
          [
           "Under DDC 633 on Bielefeld University Library's BA"
          ],
          [
           "In the 2018 VSCode blog post on replit.com, what w"
          ],
          [
           "Compute the check digit the Tropicos ID for the Or"
          ],
          [
           "What time was the Tri-Rail train that carried the "
          ],
          [
           "Could you help me out with this assignment? Our pr"
          ],
          [
           "In Valentina Re’s contribution to the 2017 book “W"
          ],
          [
           "In the fictional language of Tizin, basic sentence"
          ],
          [
           "The Metropolitan Museum of Art has a portrait in i"
          ],
          [
           "In Nature journal's Scientific Reports conference "
          ],
          [
           "According to Google Finance, when was the first ye"
          ],
          [
           "Review the chess position provided in the image. I"
          ],
          [
           "According to Box Office Mojo's 2020 Worldwide Box "
          ],
          [
           "In the year 2022, and before December, what does \""
          ],
          [
           "Who nominated the only Featured Article on English"
          ],
          [
           "What writer is quoted by Merriam-Webster for the W"
          ],
          [
           "How many pages if the 2023 IPCC report (85 pages v"
          ],
          [
           "Given this table defining * on the set S = {a, b, "
          ],
          [
           "The following numbers function similarly to ISBN 1"
          ],
          [
           "How many images are there in the latest 2022 Lego "
          ],
          [
           "The attached file shows a list of books in the col"
          ],
          [
           "I was trying to remember how well the Cheater Beat"
          ],
          [
           "As a comma separated list with no whitespace, usin"
          ],
          [
           "On a leap day before the year 2008, a joke was rem"
          ],
          [
           "What is the volume in milliliters of a system comp"
          ],
          [
           "The Latin root of the Yola word \"gimlie\" shares a "
          ],
          [
           "Find the value of x to the nearest tenth: Lx = (d/"
          ],
          [
           "In the endnote found in the second-to-last paragra"
          ]
         ],
         "hovertemplate": "agent_name=code_o1_22-01_managedagent-summary_planning<br>index=%{x}<br>is_correct=%{y}<br>question=%{customdata[0]}<extra></extra>",
         "legendgroup": "code_o1_22-01_managedagent-summary_planning",
         "line": {
          "color": "#636efa",
          "dash": "solid"
         },
         "marker": {
          "symbol": "circle"
         },
         "mode": "lines",
         "name": "code_o1_22-01_managedagent-summary_planning",
         "orientation": "v",
         "showlegend": true,
         "type": "scatter",
         "x": [
          0,
          1,
          2,
          3,
          4,
          5,
          6,
          7,
          8,
          9,
          10,
          11,
          12,
          13,
          14,
          15,
          16,
          17,
          18,
          19,
          20,
          21,
          22,
          23,
          24,
          25,
          26,
          27,
          28,
          29,
          30,
          31,
          32,
          33,
          34,
          35,
          36,
          37,
          38,
          39,
          40,
          41,
          42,
          43,
          44,
          45,
          46,
          47,
          48,
          49,
          50,
          51,
          52,
          53,
          54,
          55,
          56,
          57,
          58,
          59,
          60,
          61,
          62,
          63,
          64,
          65,
          66
         ],
         "xaxis": "x",
         "y": [
          1,
          1,
          1,
          0.75,
          0.6,
          0.6666666666666666,
          0.7142857142857143,
          0.625,
          0.5555555555555556,
          0.5,
          0.45454545454545453,
          0.5,
          0.5384615384615384,
          0.5,
          0.5333333333333333,
          0.5,
          0.47058823529411764,
          0.4444444444444444,
          0.42105263157894735,
          0.4,
          0.38095238095238093,
          0.36363636363636365,
          0.391304347826087,
          0.375,
          0.4,
          0.38461538461538464,
          0.37037037037037035,
          0.35714285714285715,
          0.3448275862068966,
          0.3333333333333333,
          0.3225806451612903,
          0.3125,
          0.30303030303030304,
          0.3235294117647059,
          0.34285714285714286,
          0.3333333333333333,
          0.35135135135135137,
          0.3684210526315789,
          0.38461538461538464,
          0.4,
          0.3902439024390244,
          0.40476190476190477,
          0.4186046511627907,
          0.4090909090909091,
          0.4,
          0.41304347826086957,
          0.425531914893617,
          0.4375,
          0.42857142857142855,
          0.42,
          0.4117647058823529,
          0.4230769230769231,
          0.4339622641509434,
          0.4444444444444444,
          0.45454545454545453,
          0.44642857142857145,
          0.45614035087719296,
          0.46551724137931033,
          0.4576271186440678,
          0.45,
          0.4426229508196721,
          0.43548387096774194,
          0.42857142857142855,
          0.421875,
          0.4153846153846154,
          0.42424242424242425,
          0.417910447761194
         ],
         "yaxis": "y"
        },
        {
         "customdata": [
          [
           "A paper about AI regulation that was originally su"
          ],
          [
           "I’m researching species that became invasive after"
          ],
          [
           "If we assume all articles published by Nature in 2"
          ],
          [
           "In Unlambda, what exact charcter or text needs to "
          ],
          [
           "If Eliud Kipchoge could maintain his record-making"
          ],
          [
           "How many studio albums were published by Mercedes "
          ],
          [
           "The object in the British Museum's collection with"
          ],
          [
           "According to github, when was Regression added to "
          ],
          [
           "Here's a fun riddle that I think you'll enjoy.\n\nYo"
          ],
          [
           "In July 2, 1959 United States standards for grades"
          ],
          [
           "Using the Biopython library in Python, parse the P"
          ],
          [
           "What are the EC numbers of the two most commonly u"
          ],
          [
           "In April of 1977, who was the Prime Minister of th"
          ],
          [
           "What's the last line of the rhyme under the flavor"
          ],
          [
           "Use density measures from the chemistry materials "
          ],
          [
           "What was the volume in m^3 of the fish bag that wa"
          ],
          [
           "What is the average number of pre-2020 works on th"
          ],
          [
           "In the video https://www.youtube.com/watch?v=L1vXC"
          ],
          [
           "Of the authors (First M. Last) that worked on the "
          ],
          [
           "When you take the average of the standard populati"
          ],
          [
           "Assuming scientists in the famous youtube video Th"
          ],
          [
           "In Series 9, Episode 11 of Doctor Who, the Doctor "
          ],
          [
           "In terms of geographical distance between capital "
          ],
          [
           "In the NCATS PubChem compound database for Food Ad"
          ],
          [
           "I need to fact-check a citation. This is the citat"
          ],
          [
           "Which contributor to the version of OpenCV where s"
          ],
          [
           "What integer-rounded percentage of the total lengt"
          ],
          [
           "An office held a Secret Santa gift exchange where "
          ],
          [
           "What is the maximum length in meters of #9 in the "
          ],
          [
           "What two-word type of model did Manash Pratim Kash"
          ],
          [
           "What animals that were mentioned in both Ilias Lag"
          ],
          [
           "How many High Energy Physics - Lattice articles li"
          ],
          [
           "The photograph in the Whitney Museum of American A"
          ],
          [
           ".rewsna eht sa \"tfel\" drow eht fo etisoppo eht eti"
          ],
          [
           "What is the minimum number of page links a person "
          ],
          [
           "I went to Virtue restaurant & bar in Chicago for m"
          ],
          [
           "¬(A ∧ B) ↔ (¬A ∨ ¬B)\n¬(A ∨ B) ↔ (¬A ∧ ¬B)\n(A → B) "
          ],
          [
           "My family reunion is this week, and I was assigned"
          ],
          [
           "In Emily Midkiff's June 2014 article in a journal "
          ],
          [
           "It is 1999. Before you party like it is 1999, plea"
          ],
          [
           "Under DDC 633 on Bielefeld University Library's BA"
          ],
          [
           "In the 2018 VSCode blog post on replit.com, what w"
          ],
          [
           "Compute the check digit the Tropicos ID for the Or"
          ],
          [
           "What time was the Tri-Rail train that carried the "
          ],
          [
           "Could you help me out with this assignment? Our pr"
          ],
          [
           "In Valentina Re’s contribution to the 2017 book “W"
          ],
          [
           "In the fictional language of Tizin, basic sentence"
          ],
          [
           "The Metropolitan Museum of Art has a portrait in i"
          ],
          [
           "In Nature journal's Scientific Reports conference "
          ],
          [
           "According to Google Finance, when was the first ye"
          ],
          [
           "Review the chess position provided in the image. I"
          ],
          [
           "According to Box Office Mojo's 2020 Worldwide Box "
          ],
          [
           "In the year 2022, and before December, what does \""
          ]
         ],
         "hovertemplate": "agent_name=code_o1_25-01_visioon<br>index=%{x}<br>is_correct=%{y}<br>question=%{customdata[0]}<extra></extra>",
         "legendgroup": "code_o1_25-01_visioon",
         "line": {
          "color": "#EF553B",
          "dash": "solid"
         },
         "marker": {
          "symbol": "circle"
         },
         "mode": "lines",
         "name": "code_o1_25-01_visioon",
         "orientation": "v",
         "showlegend": true,
         "type": "scatter",
         "x": [
          0,
          1,
          2,
          3,
          4,
          5,
          6,
          7,
          8,
          9,
          10,
          11,
          12,
          13,
          14,
          15,
          16,
          17,
          18,
          19,
          20,
          21,
          22,
          23,
          24,
          25,
          26,
          27,
          28,
          29,
          30,
          31,
          32,
          33,
          34,
          35,
          36,
          37,
          38,
          39,
          40,
          41,
          42,
          43,
          44,
          45,
          46,
          47,
          48,
          49,
          50,
          51,
          52
         ],
         "xaxis": "x",
         "y": [
          1,
          0.5,
          0.3333333333333333,
          0.25,
          0.2,
          0.3333333333333333,
          0.42857142857142855,
          0.375,
          0.3333333333333333,
          0.3,
          0.2727272727272727,
          0.3333333333333333,
          0.38461538461538464,
          0.35714285714285715,
          0.4,
          0.375,
          0.35294117647058826,
          0.3888888888888889,
          0.3684210526315789,
          0.35,
          0.3333333333333333,
          0.3181818181818182,
          0.34782608695652173,
          0.3333333333333333,
          0.32,
          0.34615384615384615,
          0.3333333333333333,
          0.32142857142857145,
          0.3103448275862069,
          0.3,
          0.2903225806451613,
          0.28125,
          0.2727272727272727,
          0.29411764705882354,
          0.3142857142857143,
          0.3055555555555556,
          0.32432432432432434,
          0.34210526315789475,
          0.3333333333333333,
          0.35,
          0.34146341463414637,
          0.3333333333333333,
          0.3488372093023256,
          0.3409090909090909,
          0.3333333333333333,
          0.34782608695652173,
          0.3617021276595745,
          0.3541666666666667,
          0.3469387755102041,
          0.34,
          0.3333333333333333,
          0.3269230769230769,
          0.33962264150943394
         ],
         "yaxis": "y"
        }
       ],
       "layout": {
        "legend": {
         "title": {
          "text": "agent_name"
         },
         "tracegroupgap": 0
        },
        "margin": {
         "t": 60
        },
        "template": {
         "data": {
          "bar": [
           {
            "error_x": {
             "color": "#2a3f5f"
            },
            "error_y": {
             "color": "#2a3f5f"
            },
            "marker": {
             "line": {
              "color": "#E5ECF6",
              "width": 0.5
             },
             "pattern": {
              "fillmode": "overlay",
              "size": 10,
              "solidity": 0.2
             }
            },
            "type": "bar"
           }
          ],
          "barpolar": [
           {
            "marker": {
             "line": {
              "color": "#E5ECF6",
              "width": 0.5
             },
             "pattern": {
              "fillmode": "overlay",
              "size": 10,
              "solidity": 0.2
             }
            },
            "type": "barpolar"
           }
          ],
          "carpet": [
           {
            "aaxis": {
             "endlinecolor": "#2a3f5f",
             "gridcolor": "white",
             "linecolor": "white",
             "minorgridcolor": "white",
             "startlinecolor": "#2a3f5f"
            },
            "baxis": {
             "endlinecolor": "#2a3f5f",
             "gridcolor": "white",
             "linecolor": "white",
             "minorgridcolor": "white",
             "startlinecolor": "#2a3f5f"
            },
            "type": "carpet"
           }
          ],
          "choropleth": [
           {
            "colorbar": {
             "outlinewidth": 0,
             "ticks": ""
            },
            "type": "choropleth"
           }
          ],
          "contour": [
           {
            "colorbar": {
             "outlinewidth": 0,
             "ticks": ""
            },
            "colorscale": [
             [
              0,
              "#0d0887"
             ],
             [
              0.1111111111111111,
              "#46039f"
             ],
             [
              0.2222222222222222,
              "#7201a8"
             ],
             [
              0.3333333333333333,
              "#9c179e"
             ],
             [
              0.4444444444444444,
              "#bd3786"
             ],
             [
              0.5555555555555556,
              "#d8576b"
             ],
             [
              0.6666666666666666,
              "#ed7953"
             ],
             [
              0.7777777777777778,
              "#fb9f3a"
             ],
             [
              0.8888888888888888,
              "#fdca26"
             ],
             [
              1,
              "#f0f921"
             ]
            ],
            "type": "contour"
           }
          ],
          "contourcarpet": [
           {
            "colorbar": {
             "outlinewidth": 0,
             "ticks": ""
            },
            "type": "contourcarpet"
           }
          ],
          "heatmap": [
           {
            "colorbar": {
             "outlinewidth": 0,
             "ticks": ""
            },
            "colorscale": [
             [
              0,
              "#0d0887"
             ],
             [
              0.1111111111111111,
              "#46039f"
             ],
             [
              0.2222222222222222,
              "#7201a8"
             ],
             [
              0.3333333333333333,
              "#9c179e"
             ],
             [
              0.4444444444444444,
              "#bd3786"
             ],
             [
              0.5555555555555556,
              "#d8576b"
             ],
             [
              0.6666666666666666,
              "#ed7953"
             ],
             [
              0.7777777777777778,
              "#fb9f3a"
             ],
             [
              0.8888888888888888,
              "#fdca26"
             ],
             [
              1,
              "#f0f921"
             ]
            ],
            "type": "heatmap"
           }
          ],
          "heatmapgl": [
           {
            "colorbar": {
             "outlinewidth": 0,
             "ticks": ""
            },
            "colorscale": [
             [
              0,
              "#0d0887"
             ],
             [
              0.1111111111111111,
              "#46039f"
             ],
             [
              0.2222222222222222,
              "#7201a8"
             ],
             [
              0.3333333333333333,
              "#9c179e"
             ],
             [
              0.4444444444444444,
              "#bd3786"
             ],
             [
              0.5555555555555556,
              "#d8576b"
             ],
             [
              0.6666666666666666,
              "#ed7953"
             ],
             [
              0.7777777777777778,
              "#fb9f3a"
             ],
             [
              0.8888888888888888,
              "#fdca26"
             ],
             [
              1,
              "#f0f921"
             ]
            ],
            "type": "heatmapgl"
           }
          ],
          "histogram": [
           {
            "marker": {
             "pattern": {
              "fillmode": "overlay",
              "size": 10,
              "solidity": 0.2
             }
            },
            "type": "histogram"
           }
          ],
          "histogram2d": [
           {
            "colorbar": {
             "outlinewidth": 0,
             "ticks": ""
            },
            "colorscale": [
             [
              0,
              "#0d0887"
             ],
             [
              0.1111111111111111,
              "#46039f"
             ],
             [
              0.2222222222222222,
              "#7201a8"
             ],
             [
              0.3333333333333333,
              "#9c179e"
             ],
             [
              0.4444444444444444,
              "#bd3786"
             ],
             [
              0.5555555555555556,
              "#d8576b"
             ],
             [
              0.6666666666666666,
              "#ed7953"
             ],
             [
              0.7777777777777778,
              "#fb9f3a"
             ],
             [
              0.8888888888888888,
              "#fdca26"
             ],
             [
              1,
              "#f0f921"
             ]
            ],
            "type": "histogram2d"
           }
          ],
          "histogram2dcontour": [
           {
            "colorbar": {
             "outlinewidth": 0,
             "ticks": ""
            },
            "colorscale": [
             [
              0,
              "#0d0887"
             ],
             [
              0.1111111111111111,
              "#46039f"
             ],
             [
              0.2222222222222222,
              "#7201a8"
             ],
             [
              0.3333333333333333,
              "#9c179e"
             ],
             [
              0.4444444444444444,
              "#bd3786"
             ],
             [
              0.5555555555555556,
              "#d8576b"
             ],
             [
              0.6666666666666666,
              "#ed7953"
             ],
             [
              0.7777777777777778,
              "#fb9f3a"
             ],
             [
              0.8888888888888888,
              "#fdca26"
             ],
             [
              1,
              "#f0f921"
             ]
            ],
            "type": "histogram2dcontour"
           }
          ],
          "mesh3d": [
           {
            "colorbar": {
             "outlinewidth": 0,
             "ticks": ""
            },
            "type": "mesh3d"
           }
          ],
          "parcoords": [
           {
            "line": {
             "colorbar": {
              "outlinewidth": 0,
              "ticks": ""
             }
            },
            "type": "parcoords"
           }
          ],
          "pie": [
           {
            "automargin": true,
            "type": "pie"
           }
          ],
          "scatter": [
           {
            "fillpattern": {
             "fillmode": "overlay",
             "size": 10,
             "solidity": 0.2
            },
            "type": "scatter"
           }
          ],
          "scatter3d": [
           {
            "line": {
             "colorbar": {
              "outlinewidth": 0,
              "ticks": ""
             }
            },
            "marker": {
             "colorbar": {
              "outlinewidth": 0,
              "ticks": ""
             }
            },
            "type": "scatter3d"
           }
          ],
          "scattercarpet": [
           {
            "marker": {
             "colorbar": {
              "outlinewidth": 0,
              "ticks": ""
             }
            },
            "type": "scattercarpet"
           }
          ],
          "scattergeo": [
           {
            "marker": {
             "colorbar": {
              "outlinewidth": 0,
              "ticks": ""
             }
            },
            "type": "scattergeo"
           }
          ],
          "scattergl": [
           {
            "marker": {
             "colorbar": {
              "outlinewidth": 0,
              "ticks": ""
             }
            },
            "type": "scattergl"
           }
          ],
          "scattermapbox": [
           {
            "marker": {
             "colorbar": {
              "outlinewidth": 0,
              "ticks": ""
             }
            },
            "type": "scattermapbox"
           }
          ],
          "scatterpolar": [
           {
            "marker": {
             "colorbar": {
              "outlinewidth": 0,
              "ticks": ""
             }
            },
            "type": "scatterpolar"
           }
          ],
          "scatterpolargl": [
           {
            "marker": {
             "colorbar": {
              "outlinewidth": 0,
              "ticks": ""
             }
            },
            "type": "scatterpolargl"
           }
          ],
          "scatterternary": [
           {
            "marker": {
             "colorbar": {
              "outlinewidth": 0,
              "ticks": ""
             }
            },
            "type": "scatterternary"
           }
          ],
          "surface": [
           {
            "colorbar": {
             "outlinewidth": 0,
             "ticks": ""
            },
            "colorscale": [
             [
              0,
              "#0d0887"
             ],
             [
              0.1111111111111111,
              "#46039f"
             ],
             [
              0.2222222222222222,
              "#7201a8"
             ],
             [
              0.3333333333333333,
              "#9c179e"
             ],
             [
              0.4444444444444444,
              "#bd3786"
             ],
             [
              0.5555555555555556,
              "#d8576b"
             ],
             [
              0.6666666666666666,
              "#ed7953"
             ],
             [
              0.7777777777777778,
              "#fb9f3a"
             ],
             [
              0.8888888888888888,
              "#fdca26"
             ],
             [
              1,
              "#f0f921"
             ]
            ],
            "type": "surface"
           }
          ],
          "table": [
           {
            "cells": {
             "fill": {
              "color": "#EBF0F8"
             },
             "line": {
              "color": "white"
             }
            },
            "header": {
             "fill": {
              "color": "#C8D4E3"
             },
             "line": {
              "color": "white"
             }
            },
            "type": "table"
           }
          ]
         },
         "layout": {
          "annotationdefaults": {
           "arrowcolor": "#2a3f5f",
           "arrowhead": 0,
           "arrowwidth": 1
          },
          "autotypenumbers": "strict",
          "coloraxis": {
           "colorbar": {
            "outlinewidth": 0,
            "ticks": ""
           }
          },
          "colorscale": {
           "diverging": [
            [
             0,
             "#8e0152"
            ],
            [
             0.1,
             "#c51b7d"
            ],
            [
             0.2,
             "#de77ae"
            ],
            [
             0.3,
             "#f1b6da"
            ],
            [
             0.4,
             "#fde0ef"
            ],
            [
             0.5,
             "#f7f7f7"
            ],
            [
             0.6,
             "#e6f5d0"
            ],
            [
             0.7,
             "#b8e186"
            ],
            [
             0.8,
             "#7fbc41"
            ],
            [
             0.9,
             "#4d9221"
            ],
            [
             1,
             "#276419"
            ]
           ],
           "sequential": [
            [
             0,
             "#0d0887"
            ],
            [
             0.1111111111111111,
             "#46039f"
            ],
            [
             0.2222222222222222,
             "#7201a8"
            ],
            [
             0.3333333333333333,
             "#9c179e"
            ],
            [
             0.4444444444444444,
             "#bd3786"
            ],
            [
             0.5555555555555556,
             "#d8576b"
            ],
            [
             0.6666666666666666,
             "#ed7953"
            ],
            [
             0.7777777777777778,
             "#fb9f3a"
            ],
            [
             0.8888888888888888,
             "#fdca26"
            ],
            [
             1,
             "#f0f921"
            ]
           ],
           "sequentialminus": [
            [
             0,
             "#0d0887"
            ],
            [
             0.1111111111111111,
             "#46039f"
            ],
            [
             0.2222222222222222,
             "#7201a8"
            ],
            [
             0.3333333333333333,
             "#9c179e"
            ],
            [
             0.4444444444444444,
             "#bd3786"
            ],
            [
             0.5555555555555556,
             "#d8576b"
            ],
            [
             0.6666666666666666,
             "#ed7953"
            ],
            [
             0.7777777777777778,
             "#fb9f3a"
            ],
            [
             0.8888888888888888,
             "#fdca26"
            ],
            [
             1,
             "#f0f921"
            ]
           ]
          },
          "colorway": [
           "#636efa",
           "#EF553B",
           "#00cc96",
           "#ab63fa",
           "#FFA15A",
           "#19d3f3",
           "#FF6692",
           "#B6E880",
           "#FF97FF",
           "#FECB52"
          ],
          "font": {
           "color": "#2a3f5f"
          },
          "geo": {
           "bgcolor": "white",
           "lakecolor": "white",
           "landcolor": "#E5ECF6",
           "showlakes": true,
           "showland": true,
           "subunitcolor": "white"
          },
          "hoverlabel": {
           "align": "left"
          },
          "hovermode": "closest",
          "mapbox": {
           "style": "light"
          },
          "paper_bgcolor": "white",
          "plot_bgcolor": "#E5ECF6",
          "polar": {
           "angularaxis": {
            "gridcolor": "white",
            "linecolor": "white",
            "ticks": ""
           },
           "bgcolor": "#E5ECF6",
           "radialaxis": {
            "gridcolor": "white",
            "linecolor": "white",
            "ticks": ""
           }
          },
          "scene": {
           "xaxis": {
            "backgroundcolor": "#E5ECF6",
            "gridcolor": "white",
            "gridwidth": 2,
            "linecolor": "white",
            "showbackground": true,
            "ticks": "",
            "zerolinecolor": "white"
           },
           "yaxis": {
            "backgroundcolor": "#E5ECF6",
            "gridcolor": "white",
            "gridwidth": 2,
            "linecolor": "white",
            "showbackground": true,
            "ticks": "",
            "zerolinecolor": "white"
           },
           "zaxis": {
            "backgroundcolor": "#E5ECF6",
            "gridcolor": "white",
            "gridwidth": 2,
            "linecolor": "white",
            "showbackground": true,
            "ticks": "",
            "zerolinecolor": "white"
           }
          },
          "shapedefaults": {
           "line": {
            "color": "#2a3f5f"
           }
          },
          "ternary": {
           "aaxis": {
            "gridcolor": "white",
            "linecolor": "white",
            "ticks": ""
           },
           "baxis": {
            "gridcolor": "white",
            "linecolor": "white",
            "ticks": ""
           },
           "bgcolor": "#E5ECF6",
           "caxis": {
            "gridcolor": "white",
            "linecolor": "white",
            "ticks": ""
           }
          },
          "title": {
           "x": 0.05
          },
          "xaxis": {
           "automargin": true,
           "gridcolor": "white",
           "linecolor": "white",
           "ticks": "",
           "title": {
            "standoff": 15
           },
           "zerolinecolor": "white",
           "zerolinewidth": 2
          },
          "yaxis": {
           "automargin": true,
           "gridcolor": "white",
           "linecolor": "white",
           "ticks": "",
           "title": {
            "standoff": 15
           },
           "zerolinecolor": "white",
           "zerolinewidth": 2
          }
         }
        },
        "xaxis": {
         "anchor": "y",
         "domain": [
          0,
          1
         ],
         "title": {
          "text": "index"
         }
        },
        "yaxis": {
         "anchor": "x",
         "domain": [
          0,
          1
         ],
         "title": {
          "text": "is_correct"
         }
        }
       }
      },
      "text/html": [
       "<div>                        <script type=\"text/javascript\">window.PlotlyConfig = {MathJaxConfig: 'local'};</script>\n",
       "        <script charset=\"utf-8\" src=\"https://cdn.plot.ly/plotly-2.35.2.min.js\"></script>                <div id=\"5f549ef1-33d4-40e3-9698-ad50ed00137b\" class=\"plotly-graph-div\" style=\"height:100%; width:100%;\"></div>            <script type=\"text/javascript\">                                    window.PLOTLYENV=window.PLOTLYENV || {};                                    if (document.getElementById(\"5f549ef1-33d4-40e3-9698-ad50ed00137b\")) {                    Plotly.newPlot(                        \"5f549ef1-33d4-40e3-9698-ad50ed00137b\",                        [{\"customdata\":[[\"A paper about AI regulation that was originally su\"],[\"I’m researching species that became invasive after\"],[\"If we assume all articles published by Nature in 2\"],[\"In Unlambda, what exact charcter or text needs to \"],[\"If Eliud Kipchoge could maintain his record-making\"],[\"How many studio albums were published by Mercedes \"],[\"The object in the British Museum's collection with\"],[\"According to github, when was Regression added to \"],[\"Here's a fun riddle that I think you'll enjoy.\\n\\nYo\"],[\"In July 2, 1959 United States standards for grades\"],[\"Using the Biopython library in Python, parse the P\"],[\"What are the EC numbers of the two most commonly u\"],[\"In April of 1977, who was the Prime Minister of th\"],[\"What's the last line of the rhyme under the flavor\"],[\"Use density measures from the chemistry materials \"],[\"What was the volume in m^3 of the fish bag that wa\"],[\"What is the average number of pre-2020 works on th\"],[\"In the video https:\\u002f\\u002fwww.youtube.com\\u002fwatch?v=L1vXC\"],[\"Of the authors (First M. Last) that worked on the \"],[\"When you take the average of the standard populati\"],[\"Assuming scientists in the famous youtube video Th\"],[\"In Series 9, Episode 11 of Doctor Who, the Doctor \"],[\"In terms of geographical distance between capital \"],[\"In the NCATS PubChem compound database for Food Ad\"],[\"I need to fact-check a citation. This is the citat\"],[\"Which contributor to the version of OpenCV where s\"],[\"What integer-rounded percentage of the total lengt\"],[\"An office held a Secret Santa gift exchange where \"],[\"What is the maximum length in meters of #9 in the \"],[\"What two-word type of model did Manash Pratim Kash\"],[\"What animals that were mentioned in both Ilias Lag\"],[\"How many High Energy Physics - Lattice articles li\"],[\"The photograph in the Whitney Museum of American A\"],[\".rewsna eht sa \\\"tfel\\\" drow eht fo etisoppo eht eti\"],[\"What is the minimum number of page links a person \"],[\"I went to Virtue restaurant & bar in Chicago for m\"],[\"¬(A ∧ B) ↔ (¬A ∨ ¬B)\\n¬(A ∨ B) ↔ (¬A ∧ ¬B)\\n(A → B) \"],[\"My family reunion is this week, and I was assigned\"],[\"In Emily Midkiff's June 2014 article in a journal \"],[\"It is 1999. Before you party like it is 1999, plea\"],[\"Under DDC 633 on Bielefeld University Library's BA\"],[\"In the 2018 VSCode blog post on replit.com, what w\"],[\"Compute the check digit the Tropicos ID for the Or\"],[\"What time was the Tri-Rail train that carried the \"],[\"Could you help me out with this assignment? Our pr\"],[\"In Valentina Re’s contribution to the 2017 book “W\"],[\"In the fictional language of Tizin, basic sentence\"],[\"The Metropolitan Museum of Art has a portrait in i\"],[\"In Nature journal's Scientific Reports conference \"],[\"According to Google Finance, when was the first ye\"],[\"Review the chess position provided in the image. I\"],[\"According to Box Office Mojo's 2020 Worldwide Box \"],[\"In the year 2022, and before December, what does \\\"\"],[\"Who nominated the only Featured Article on English\"],[\"What writer is quoted by Merriam-Webster for the W\"],[\"How many pages if the 2023 IPCC report (85 pages v\"],[\"Given this table defining * on the set S = {a, b, \"],[\"The following numbers function similarly to ISBN 1\"],[\"How many images are there in the latest 2022 Lego \"],[\"The attached file shows a list of books in the col\"],[\"I was trying to remember how well the Cheater Beat\"],[\"As a comma separated list with no whitespace, usin\"],[\"On a leap day before the year 2008, a joke was rem\"],[\"What is the volume in milliliters of a system comp\"],[\"The Latin root of the Yola word \\\"gimlie\\\" shares a \"],[\"Find the value of x to the nearest tenth: Lx = (d\\u002f\"],[\"In the endnote found in the second-to-last paragra\"]],\"hovertemplate\":\"agent_name=code_o1_22-01_managedagent-summary_planning\\u003cbr\\u003eindex=%{x}\\u003cbr\\u003eis_correct=%{y}\\u003cbr\\u003equestion=%{customdata[0]}\\u003cextra\\u003e\\u003c\\u002fextra\\u003e\",\"legendgroup\":\"code_o1_22-01_managedagent-summary_planning\",\"line\":{\"color\":\"#636efa\",\"dash\":\"solid\"},\"marker\":{\"symbol\":\"circle\"},\"mode\":\"lines\",\"name\":\"code_o1_22-01_managedagent-summary_planning\",\"orientation\":\"v\",\"showlegend\":true,\"x\":[0,1,2,3,4,5,6,7,8,9,10,11,12,13,14,15,16,17,18,19,20,21,22,23,24,25,26,27,28,29,30,31,32,33,34,35,36,37,38,39,40,41,42,43,44,45,46,47,48,49,50,51,52,53,54,55,56,57,58,59,60,61,62,63,64,65,66],\"xaxis\":\"x\",\"y\":[1.0,1.0,1.0,0.75,0.6,0.6666666666666666,0.7142857142857143,0.625,0.5555555555555556,0.5,0.45454545454545453,0.5,0.5384615384615384,0.5,0.5333333333333333,0.5,0.47058823529411764,0.4444444444444444,0.42105263157894735,0.4,0.38095238095238093,0.36363636363636365,0.391304347826087,0.375,0.4,0.38461538461538464,0.37037037037037035,0.35714285714285715,0.3448275862068966,0.3333333333333333,0.3225806451612903,0.3125,0.30303030303030304,0.3235294117647059,0.34285714285714286,0.3333333333333333,0.35135135135135137,0.3684210526315789,0.38461538461538464,0.4,0.3902439024390244,0.40476190476190477,0.4186046511627907,0.4090909090909091,0.4,0.41304347826086957,0.425531914893617,0.4375,0.42857142857142855,0.42,0.4117647058823529,0.4230769230769231,0.4339622641509434,0.4444444444444444,0.45454545454545453,0.44642857142857145,0.45614035087719296,0.46551724137931033,0.4576271186440678,0.45,0.4426229508196721,0.43548387096774194,0.42857142857142855,0.421875,0.4153846153846154,0.42424242424242425,0.417910447761194],\"yaxis\":\"y\",\"type\":\"scatter\"},{\"customdata\":[[\"A paper about AI regulation that was originally su\"],[\"I’m researching species that became invasive after\"],[\"If we assume all articles published by Nature in 2\"],[\"In Unlambda, what exact charcter or text needs to \"],[\"If Eliud Kipchoge could maintain his record-making\"],[\"How many studio albums were published by Mercedes \"],[\"The object in the British Museum's collection with\"],[\"According to github, when was Regression added to \"],[\"Here's a fun riddle that I think you'll enjoy.\\n\\nYo\"],[\"In July 2, 1959 United States standards for grades\"],[\"Using the Biopython library in Python, parse the P\"],[\"What are the EC numbers of the two most commonly u\"],[\"In April of 1977, who was the Prime Minister of th\"],[\"What's the last line of the rhyme under the flavor\"],[\"Use density measures from the chemistry materials \"],[\"What was the volume in m^3 of the fish bag that wa\"],[\"What is the average number of pre-2020 works on th\"],[\"In the video https:\\u002f\\u002fwww.youtube.com\\u002fwatch?v=L1vXC\"],[\"Of the authors (First M. Last) that worked on the \"],[\"When you take the average of the standard populati\"],[\"Assuming scientists in the famous youtube video Th\"],[\"In Series 9, Episode 11 of Doctor Who, the Doctor \"],[\"In terms of geographical distance between capital \"],[\"In the NCATS PubChem compound database for Food Ad\"],[\"I need to fact-check a citation. This is the citat\"],[\"Which contributor to the version of OpenCV where s\"],[\"What integer-rounded percentage of the total lengt\"],[\"An office held a Secret Santa gift exchange where \"],[\"What is the maximum length in meters of #9 in the \"],[\"What two-word type of model did Manash Pratim Kash\"],[\"What animals that were mentioned in both Ilias Lag\"],[\"How many High Energy Physics - Lattice articles li\"],[\"The photograph in the Whitney Museum of American A\"],[\".rewsna eht sa \\\"tfel\\\" drow eht fo etisoppo eht eti\"],[\"What is the minimum number of page links a person \"],[\"I went to Virtue restaurant & bar in Chicago for m\"],[\"¬(A ∧ B) ↔ (¬A ∨ ¬B)\\n¬(A ∨ B) ↔ (¬A ∧ ¬B)\\n(A → B) \"],[\"My family reunion is this week, and I was assigned\"],[\"In Emily Midkiff's June 2014 article in a journal \"],[\"It is 1999. Before you party like it is 1999, plea\"],[\"Under DDC 633 on Bielefeld University Library's BA\"],[\"In the 2018 VSCode blog post on replit.com, what w\"],[\"Compute the check digit the Tropicos ID for the Or\"],[\"What time was the Tri-Rail train that carried the \"],[\"Could you help me out with this assignment? Our pr\"],[\"In Valentina Re’s contribution to the 2017 book “W\"],[\"In the fictional language of Tizin, basic sentence\"],[\"The Metropolitan Museum of Art has a portrait in i\"],[\"In Nature journal's Scientific Reports conference \"],[\"According to Google Finance, when was the first ye\"],[\"Review the chess position provided in the image. I\"],[\"According to Box Office Mojo's 2020 Worldwide Box \"],[\"In the year 2022, and before December, what does \\\"\"]],\"hovertemplate\":\"agent_name=code_o1_25-01_visioon\\u003cbr\\u003eindex=%{x}\\u003cbr\\u003eis_correct=%{y}\\u003cbr\\u003equestion=%{customdata[0]}\\u003cextra\\u003e\\u003c\\u002fextra\\u003e\",\"legendgroup\":\"code_o1_25-01_visioon\",\"line\":{\"color\":\"#EF553B\",\"dash\":\"solid\"},\"marker\":{\"symbol\":\"circle\"},\"mode\":\"lines\",\"name\":\"code_o1_25-01_visioon\",\"orientation\":\"v\",\"showlegend\":true,\"x\":[0,1,2,3,4,5,6,7,8,9,10,11,12,13,14,15,16,17,18,19,20,21,22,23,24,25,26,27,28,29,30,31,32,33,34,35,36,37,38,39,40,41,42,43,44,45,46,47,48,49,50,51,52],\"xaxis\":\"x\",\"y\":[1.0,0.5,0.3333333333333333,0.25,0.2,0.3333333333333333,0.42857142857142855,0.375,0.3333333333333333,0.3,0.2727272727272727,0.3333333333333333,0.38461538461538464,0.35714285714285715,0.4,0.375,0.35294117647058826,0.3888888888888889,0.3684210526315789,0.35,0.3333333333333333,0.3181818181818182,0.34782608695652173,0.3333333333333333,0.32,0.34615384615384615,0.3333333333333333,0.32142857142857145,0.3103448275862069,0.3,0.2903225806451613,0.28125,0.2727272727272727,0.29411764705882354,0.3142857142857143,0.3055555555555556,0.32432432432432434,0.34210526315789475,0.3333333333333333,0.35,0.34146341463414637,0.3333333333333333,0.3488372093023256,0.3409090909090909,0.3333333333333333,0.34782608695652173,0.3617021276595745,0.3541666666666667,0.3469387755102041,0.34,0.3333333333333333,0.3269230769230769,0.33962264150943394],\"yaxis\":\"y\",\"type\":\"scatter\"}],                        {\"template\":{\"data\":{\"histogram2dcontour\":[{\"type\":\"histogram2dcontour\",\"colorbar\":{\"outlinewidth\":0,\"ticks\":\"\"},\"colorscale\":[[0.0,\"#0d0887\"],[0.1111111111111111,\"#46039f\"],[0.2222222222222222,\"#7201a8\"],[0.3333333333333333,\"#9c179e\"],[0.4444444444444444,\"#bd3786\"],[0.5555555555555556,\"#d8576b\"],[0.6666666666666666,\"#ed7953\"],[0.7777777777777778,\"#fb9f3a\"],[0.8888888888888888,\"#fdca26\"],[1.0,\"#f0f921\"]]}],\"choropleth\":[{\"type\":\"choropleth\",\"colorbar\":{\"outlinewidth\":0,\"ticks\":\"\"}}],\"histogram2d\":[{\"type\":\"histogram2d\",\"colorbar\":{\"outlinewidth\":0,\"ticks\":\"\"},\"colorscale\":[[0.0,\"#0d0887\"],[0.1111111111111111,\"#46039f\"],[0.2222222222222222,\"#7201a8\"],[0.3333333333333333,\"#9c179e\"],[0.4444444444444444,\"#bd3786\"],[0.5555555555555556,\"#d8576b\"],[0.6666666666666666,\"#ed7953\"],[0.7777777777777778,\"#fb9f3a\"],[0.8888888888888888,\"#fdca26\"],[1.0,\"#f0f921\"]]}],\"heatmap\":[{\"type\":\"heatmap\",\"colorbar\":{\"outlinewidth\":0,\"ticks\":\"\"},\"colorscale\":[[0.0,\"#0d0887\"],[0.1111111111111111,\"#46039f\"],[0.2222222222222222,\"#7201a8\"],[0.3333333333333333,\"#9c179e\"],[0.4444444444444444,\"#bd3786\"],[0.5555555555555556,\"#d8576b\"],[0.6666666666666666,\"#ed7953\"],[0.7777777777777778,\"#fb9f3a\"],[0.8888888888888888,\"#fdca26\"],[1.0,\"#f0f921\"]]}],\"heatmapgl\":[{\"type\":\"heatmapgl\",\"colorbar\":{\"outlinewidth\":0,\"ticks\":\"\"},\"colorscale\":[[0.0,\"#0d0887\"],[0.1111111111111111,\"#46039f\"],[0.2222222222222222,\"#7201a8\"],[0.3333333333333333,\"#9c179e\"],[0.4444444444444444,\"#bd3786\"],[0.5555555555555556,\"#d8576b\"],[0.6666666666666666,\"#ed7953\"],[0.7777777777777778,\"#fb9f3a\"],[0.8888888888888888,\"#fdca26\"],[1.0,\"#f0f921\"]]}],\"contourcarpet\":[{\"type\":\"contourcarpet\",\"colorbar\":{\"outlinewidth\":0,\"ticks\":\"\"}}],\"contour\":[{\"type\":\"contour\",\"colorbar\":{\"outlinewidth\":0,\"ticks\":\"\"},\"colorscale\":[[0.0,\"#0d0887\"],[0.1111111111111111,\"#46039f\"],[0.2222222222222222,\"#7201a8\"],[0.3333333333333333,\"#9c179e\"],[0.4444444444444444,\"#bd3786\"],[0.5555555555555556,\"#d8576b\"],[0.6666666666666666,\"#ed7953\"],[0.7777777777777778,\"#fb9f3a\"],[0.8888888888888888,\"#fdca26\"],[1.0,\"#f0f921\"]]}],\"surface\":[{\"type\":\"surface\",\"colorbar\":{\"outlinewidth\":0,\"ticks\":\"\"},\"colorscale\":[[0.0,\"#0d0887\"],[0.1111111111111111,\"#46039f\"],[0.2222222222222222,\"#7201a8\"],[0.3333333333333333,\"#9c179e\"],[0.4444444444444444,\"#bd3786\"],[0.5555555555555556,\"#d8576b\"],[0.6666666666666666,\"#ed7953\"],[0.7777777777777778,\"#fb9f3a\"],[0.8888888888888888,\"#fdca26\"],[1.0,\"#f0f921\"]]}],\"mesh3d\":[{\"type\":\"mesh3d\",\"colorbar\":{\"outlinewidth\":0,\"ticks\":\"\"}}],\"scatter\":[{\"fillpattern\":{\"fillmode\":\"overlay\",\"size\":10,\"solidity\":0.2},\"type\":\"scatter\"}],\"parcoords\":[{\"type\":\"parcoords\",\"line\":{\"colorbar\":{\"outlinewidth\":0,\"ticks\":\"\"}}}],\"scatterpolargl\":[{\"type\":\"scatterpolargl\",\"marker\":{\"colorbar\":{\"outlinewidth\":0,\"ticks\":\"\"}}}],\"bar\":[{\"error_x\":{\"color\":\"#2a3f5f\"},\"error_y\":{\"color\":\"#2a3f5f\"},\"marker\":{\"line\":{\"color\":\"#E5ECF6\",\"width\":0.5},\"pattern\":{\"fillmode\":\"overlay\",\"size\":10,\"solidity\":0.2}},\"type\":\"bar\"}],\"scattergeo\":[{\"type\":\"scattergeo\",\"marker\":{\"colorbar\":{\"outlinewidth\":0,\"ticks\":\"\"}}}],\"scatterpolar\":[{\"type\":\"scatterpolar\",\"marker\":{\"colorbar\":{\"outlinewidth\":0,\"ticks\":\"\"}}}],\"histogram\":[{\"marker\":{\"pattern\":{\"fillmode\":\"overlay\",\"size\":10,\"solidity\":0.2}},\"type\":\"histogram\"}],\"scattergl\":[{\"type\":\"scattergl\",\"marker\":{\"colorbar\":{\"outlinewidth\":0,\"ticks\":\"\"}}}],\"scatter3d\":[{\"type\":\"scatter3d\",\"line\":{\"colorbar\":{\"outlinewidth\":0,\"ticks\":\"\"}},\"marker\":{\"colorbar\":{\"outlinewidth\":0,\"ticks\":\"\"}}}],\"scattermapbox\":[{\"type\":\"scattermapbox\",\"marker\":{\"colorbar\":{\"outlinewidth\":0,\"ticks\":\"\"}}}],\"scatterternary\":[{\"type\":\"scatterternary\",\"marker\":{\"colorbar\":{\"outlinewidth\":0,\"ticks\":\"\"}}}],\"scattercarpet\":[{\"type\":\"scattercarpet\",\"marker\":{\"colorbar\":{\"outlinewidth\":0,\"ticks\":\"\"}}}],\"carpet\":[{\"aaxis\":{\"endlinecolor\":\"#2a3f5f\",\"gridcolor\":\"white\",\"linecolor\":\"white\",\"minorgridcolor\":\"white\",\"startlinecolor\":\"#2a3f5f\"},\"baxis\":{\"endlinecolor\":\"#2a3f5f\",\"gridcolor\":\"white\",\"linecolor\":\"white\",\"minorgridcolor\":\"white\",\"startlinecolor\":\"#2a3f5f\"},\"type\":\"carpet\"}],\"table\":[{\"cells\":{\"fill\":{\"color\":\"#EBF0F8\"},\"line\":{\"color\":\"white\"}},\"header\":{\"fill\":{\"color\":\"#C8D4E3\"},\"line\":{\"color\":\"white\"}},\"type\":\"table\"}],\"barpolar\":[{\"marker\":{\"line\":{\"color\":\"#E5ECF6\",\"width\":0.5},\"pattern\":{\"fillmode\":\"overlay\",\"size\":10,\"solidity\":0.2}},\"type\":\"barpolar\"}],\"pie\":[{\"automargin\":true,\"type\":\"pie\"}]},\"layout\":{\"autotypenumbers\":\"strict\",\"colorway\":[\"#636efa\",\"#EF553B\",\"#00cc96\",\"#ab63fa\",\"#FFA15A\",\"#19d3f3\",\"#FF6692\",\"#B6E880\",\"#FF97FF\",\"#FECB52\"],\"font\":{\"color\":\"#2a3f5f\"},\"hovermode\":\"closest\",\"hoverlabel\":{\"align\":\"left\"},\"paper_bgcolor\":\"white\",\"plot_bgcolor\":\"#E5ECF6\",\"polar\":{\"bgcolor\":\"#E5ECF6\",\"angularaxis\":{\"gridcolor\":\"white\",\"linecolor\":\"white\",\"ticks\":\"\"},\"radialaxis\":{\"gridcolor\":\"white\",\"linecolor\":\"white\",\"ticks\":\"\"}},\"ternary\":{\"bgcolor\":\"#E5ECF6\",\"aaxis\":{\"gridcolor\":\"white\",\"linecolor\":\"white\",\"ticks\":\"\"},\"baxis\":{\"gridcolor\":\"white\",\"linecolor\":\"white\",\"ticks\":\"\"},\"caxis\":{\"gridcolor\":\"white\",\"linecolor\":\"white\",\"ticks\":\"\"}},\"coloraxis\":{\"colorbar\":{\"outlinewidth\":0,\"ticks\":\"\"}},\"colorscale\":{\"sequential\":[[0.0,\"#0d0887\"],[0.1111111111111111,\"#46039f\"],[0.2222222222222222,\"#7201a8\"],[0.3333333333333333,\"#9c179e\"],[0.4444444444444444,\"#bd3786\"],[0.5555555555555556,\"#d8576b\"],[0.6666666666666666,\"#ed7953\"],[0.7777777777777778,\"#fb9f3a\"],[0.8888888888888888,\"#fdca26\"],[1.0,\"#f0f921\"]],\"sequentialminus\":[[0.0,\"#0d0887\"],[0.1111111111111111,\"#46039f\"],[0.2222222222222222,\"#7201a8\"],[0.3333333333333333,\"#9c179e\"],[0.4444444444444444,\"#bd3786\"],[0.5555555555555556,\"#d8576b\"],[0.6666666666666666,\"#ed7953\"],[0.7777777777777778,\"#fb9f3a\"],[0.8888888888888888,\"#fdca26\"],[1.0,\"#f0f921\"]],\"diverging\":[[0,\"#8e0152\"],[0.1,\"#c51b7d\"],[0.2,\"#de77ae\"],[0.3,\"#f1b6da\"],[0.4,\"#fde0ef\"],[0.5,\"#f7f7f7\"],[0.6,\"#e6f5d0\"],[0.7,\"#b8e186\"],[0.8,\"#7fbc41\"],[0.9,\"#4d9221\"],[1,\"#276419\"]]},\"xaxis\":{\"gridcolor\":\"white\",\"linecolor\":\"white\",\"ticks\":\"\",\"title\":{\"standoff\":15},\"zerolinecolor\":\"white\",\"automargin\":true,\"zerolinewidth\":2},\"yaxis\":{\"gridcolor\":\"white\",\"linecolor\":\"white\",\"ticks\":\"\",\"title\":{\"standoff\":15},\"zerolinecolor\":\"white\",\"automargin\":true,\"zerolinewidth\":2},\"scene\":{\"xaxis\":{\"backgroundcolor\":\"#E5ECF6\",\"gridcolor\":\"white\",\"linecolor\":\"white\",\"showbackground\":true,\"ticks\":\"\",\"zerolinecolor\":\"white\",\"gridwidth\":2},\"yaxis\":{\"backgroundcolor\":\"#E5ECF6\",\"gridcolor\":\"white\",\"linecolor\":\"white\",\"showbackground\":true,\"ticks\":\"\",\"zerolinecolor\":\"white\",\"gridwidth\":2},\"zaxis\":{\"backgroundcolor\":\"#E5ECF6\",\"gridcolor\":\"white\",\"linecolor\":\"white\",\"showbackground\":true,\"ticks\":\"\",\"zerolinecolor\":\"white\",\"gridwidth\":2}},\"shapedefaults\":{\"line\":{\"color\":\"#2a3f5f\"}},\"annotationdefaults\":{\"arrowcolor\":\"#2a3f5f\",\"arrowhead\":0,\"arrowwidth\":1},\"geo\":{\"bgcolor\":\"white\",\"landcolor\":\"#E5ECF6\",\"subunitcolor\":\"white\",\"showland\":true,\"showlakes\":true,\"lakecolor\":\"white\"},\"title\":{\"x\":0.05},\"mapbox\":{\"style\":\"light\"}}},\"xaxis\":{\"anchor\":\"y\",\"domain\":[0.0,1.0],\"title\":{\"text\":\"index\"}},\"yaxis\":{\"anchor\":\"x\",\"domain\":[0.0,1.0],\"title\":{\"text\":\"is_correct\"}},\"legend\":{\"title\":{\"text\":\"agent_name\"},\"tracegroupgap\":0},\"margin\":{\"t\":60}},                        {\"responsive\": true}                    )                };                            </script>        </div>"
      ],
      "text/plain": [
       "Figure({\n",
       "    'data': [{'customdata': array([['A paper about AI regulation that was originally su'],\n",
       "                                   ['I’m researching species that became invasive after'],\n",
       "                                   ['If we assume all articles published by Nature in 2'],\n",
       "                                   ['In Unlambda, what exact charcter or text needs to '],\n",
       "                                   ['If Eliud Kipchoge could maintain his record-making'],\n",
       "                                   ['How many studio albums were published by Mercedes '],\n",
       "                                   [\"The object in the British Museum's collection with\"],\n",
       "                                   ['According to github, when was Regression added to '],\n",
       "                                   [\"Here's a fun riddle that I think you'll enjoy.\\n\\nYo\"],\n",
       "                                   ['In July 2, 1959 United States standards for grades'],\n",
       "                                   ['Using the Biopython library in Python, parse the P'],\n",
       "                                   ['What are the EC numbers of the two most commonly u'],\n",
       "                                   ['In April of 1977, who was the Prime Minister of th'],\n",
       "                                   [\"What's the last line of the rhyme under the flavor\"],\n",
       "                                   ['Use density measures from the chemistry materials '],\n",
       "                                   ['What was the volume in m^3 of the fish bag that wa'],\n",
       "                                   ['What is the average number of pre-2020 works on th'],\n",
       "                                   ['In the video https://www.youtube.com/watch?v=L1vXC'],\n",
       "                                   ['Of the authors (First M. Last) that worked on the '],\n",
       "                                   ['When you take the average of the standard populati'],\n",
       "                                   ['Assuming scientists in the famous youtube video Th'],\n",
       "                                   ['In Series 9, Episode 11 of Doctor Who, the Doctor '],\n",
       "                                   ['In terms of geographical distance between capital '],\n",
       "                                   ['In the NCATS PubChem compound database for Food Ad'],\n",
       "                                   ['I need to fact-check a citation. This is the citat'],\n",
       "                                   ['Which contributor to the version of OpenCV where s'],\n",
       "                                   ['What integer-rounded percentage of the total lengt'],\n",
       "                                   ['An office held a Secret Santa gift exchange where '],\n",
       "                                   ['What is the maximum length in meters of #9 in the '],\n",
       "                                   ['What two-word type of model did Manash Pratim Kash'],\n",
       "                                   ['What animals that were mentioned in both Ilias Lag'],\n",
       "                                   ['How many High Energy Physics - Lattice articles li'],\n",
       "                                   ['The photograph in the Whitney Museum of American A'],\n",
       "                                   ['.rewsna eht sa \"tfel\" drow eht fo etisoppo eht eti'],\n",
       "                                   ['What is the minimum number of page links a person '],\n",
       "                                   ['I went to Virtue restaurant & bar in Chicago for m'],\n",
       "                                   ['¬(A ∧ B) ↔ (¬A ∨ ¬B)\\n¬(A ∨ B) ↔ (¬A ∧ ¬B)\\n(A → B) '],\n",
       "                                   ['My family reunion is this week, and I was assigned'],\n",
       "                                   [\"In Emily Midkiff's June 2014 article in a journal \"],\n",
       "                                   ['It is 1999. Before you party like it is 1999, plea'],\n",
       "                                   [\"Under DDC 633 on Bielefeld University Library's BA\"],\n",
       "                                   ['In the 2018 VSCode blog post on replit.com, what w'],\n",
       "                                   ['Compute the check digit the Tropicos ID for the Or'],\n",
       "                                   ['What time was the Tri-Rail train that carried the '],\n",
       "                                   ['Could you help me out with this assignment? Our pr'],\n",
       "                                   ['In Valentina Re’s contribution to the 2017 book “W'],\n",
       "                                   ['In the fictional language of Tizin, basic sentence'],\n",
       "                                   ['The Metropolitan Museum of Art has a portrait in i'],\n",
       "                                   [\"In Nature journal's Scientific Reports conference \"],\n",
       "                                   ['According to Google Finance, when was the first ye'],\n",
       "                                   ['Review the chess position provided in the image. I'],\n",
       "                                   [\"According to Box Office Mojo's 2020 Worldwide Box \"],\n",
       "                                   ['In the year 2022, and before December, what does \"'],\n",
       "                                   ['Who nominated the only Featured Article on English'],\n",
       "                                   ['What writer is quoted by Merriam-Webster for the W'],\n",
       "                                   ['How many pages if the 2023 IPCC report (85 pages v'],\n",
       "                                   ['Given this table defining * on the set S = {a, b, '],\n",
       "                                   ['The following numbers function similarly to ISBN 1'],\n",
       "                                   ['How many images are there in the latest 2022 Lego '],\n",
       "                                   ['The attached file shows a list of books in the col'],\n",
       "                                   ['I was trying to remember how well the Cheater Beat'],\n",
       "                                   ['As a comma separated list with no whitespace, usin'],\n",
       "                                   ['On a leap day before the year 2008, a joke was rem'],\n",
       "                                   ['What is the volume in milliliters of a system comp'],\n",
       "                                   ['The Latin root of the Yola word \"gimlie\" shares a '],\n",
       "                                   ['Find the value of x to the nearest tenth: Lx = (d/'],\n",
       "                                   ['In the endnote found in the second-to-last paragra']], dtype=object),\n",
       "              'hovertemplate': ('agent_name=code_o1_22-01_manag' ... '{customdata[0]}<extra></extra>'),\n",
       "              'legendgroup': 'code_o1_22-01_managedagent-summary_planning',\n",
       "              'line': {'color': '#636efa', 'dash': 'solid'},\n",
       "              'marker': {'symbol': 'circle'},\n",
       "              'mode': 'lines',\n",
       "              'name': 'code_o1_22-01_managedagent-summary_planning',\n",
       "              'orientation': 'v',\n",
       "              'showlegend': True,\n",
       "              'type': 'scatter',\n",
       "              'x': array([ 0,  1,  2,  3,  4,  5,  6,  7,  8,  9, 10, 11, 12, 13, 14, 15, 16, 17,\n",
       "                          18, 19, 20, 21, 22, 23, 24, 25, 26, 27, 28, 29, 30, 31, 32, 33, 34, 35,\n",
       "                          36, 37, 38, 39, 40, 41, 42, 43, 44, 45, 46, 47, 48, 49, 50, 51, 52, 53,\n",
       "                          54, 55, 56, 57, 58, 59, 60, 61, 62, 63, 64, 65, 66]),\n",
       "              'xaxis': 'x',\n",
       "              'y': array([1.        , 1.        , 1.        , 0.75      , 0.6       , 0.66666667,\n",
       "                          0.71428571, 0.625     , 0.55555556, 0.5       , 0.45454545, 0.5       ,\n",
       "                          0.53846154, 0.5       , 0.53333333, 0.5       , 0.47058824, 0.44444444,\n",
       "                          0.42105263, 0.4       , 0.38095238, 0.36363636, 0.39130435, 0.375     ,\n",
       "                          0.4       , 0.38461538, 0.37037037, 0.35714286, 0.34482759, 0.33333333,\n",
       "                          0.32258065, 0.3125    , 0.3030303 , 0.32352941, 0.34285714, 0.33333333,\n",
       "                          0.35135135, 0.36842105, 0.38461538, 0.4       , 0.3902439 , 0.4047619 ,\n",
       "                          0.41860465, 0.40909091, 0.4       , 0.41304348, 0.42553191, 0.4375    ,\n",
       "                          0.42857143, 0.42      , 0.41176471, 0.42307692, 0.43396226, 0.44444444,\n",
       "                          0.45454545, 0.44642857, 0.45614035, 0.46551724, 0.45762712, 0.45      ,\n",
       "                          0.44262295, 0.43548387, 0.42857143, 0.421875  , 0.41538462, 0.42424242,\n",
       "                          0.41791045]),\n",
       "              'yaxis': 'y'},\n",
       "             {'customdata': array([['A paper about AI regulation that was originally su'],\n",
       "                                   ['I’m researching species that became invasive after'],\n",
       "                                   ['If we assume all articles published by Nature in 2'],\n",
       "                                   ['In Unlambda, what exact charcter or text needs to '],\n",
       "                                   ['If Eliud Kipchoge could maintain his record-making'],\n",
       "                                   ['How many studio albums were published by Mercedes '],\n",
       "                                   [\"The object in the British Museum's collection with\"],\n",
       "                                   ['According to github, when was Regression added to '],\n",
       "                                   [\"Here's a fun riddle that I think you'll enjoy.\\n\\nYo\"],\n",
       "                                   ['In July 2, 1959 United States standards for grades'],\n",
       "                                   ['Using the Biopython library in Python, parse the P'],\n",
       "                                   ['What are the EC numbers of the two most commonly u'],\n",
       "                                   ['In April of 1977, who was the Prime Minister of th'],\n",
       "                                   [\"What's the last line of the rhyme under the flavor\"],\n",
       "                                   ['Use density measures from the chemistry materials '],\n",
       "                                   ['What was the volume in m^3 of the fish bag that wa'],\n",
       "                                   ['What is the average number of pre-2020 works on th'],\n",
       "                                   ['In the video https://www.youtube.com/watch?v=L1vXC'],\n",
       "                                   ['Of the authors (First M. Last) that worked on the '],\n",
       "                                   ['When you take the average of the standard populati'],\n",
       "                                   ['Assuming scientists in the famous youtube video Th'],\n",
       "                                   ['In Series 9, Episode 11 of Doctor Who, the Doctor '],\n",
       "                                   ['In terms of geographical distance between capital '],\n",
       "                                   ['In the NCATS PubChem compound database for Food Ad'],\n",
       "                                   ['I need to fact-check a citation. This is the citat'],\n",
       "                                   ['Which contributor to the version of OpenCV where s'],\n",
       "                                   ['What integer-rounded percentage of the total lengt'],\n",
       "                                   ['An office held a Secret Santa gift exchange where '],\n",
       "                                   ['What is the maximum length in meters of #9 in the '],\n",
       "                                   ['What two-word type of model did Manash Pratim Kash'],\n",
       "                                   ['What animals that were mentioned in both Ilias Lag'],\n",
       "                                   ['How many High Energy Physics - Lattice articles li'],\n",
       "                                   ['The photograph in the Whitney Museum of American A'],\n",
       "                                   ['.rewsna eht sa \"tfel\" drow eht fo etisoppo eht eti'],\n",
       "                                   ['What is the minimum number of page links a person '],\n",
       "                                   ['I went to Virtue restaurant & bar in Chicago for m'],\n",
       "                                   ['¬(A ∧ B) ↔ (¬A ∨ ¬B)\\n¬(A ∨ B) ↔ (¬A ∧ ¬B)\\n(A → B) '],\n",
       "                                   ['My family reunion is this week, and I was assigned'],\n",
       "                                   [\"In Emily Midkiff's June 2014 article in a journal \"],\n",
       "                                   ['It is 1999. Before you party like it is 1999, plea'],\n",
       "                                   [\"Under DDC 633 on Bielefeld University Library's BA\"],\n",
       "                                   ['In the 2018 VSCode blog post on replit.com, what w'],\n",
       "                                   ['Compute the check digit the Tropicos ID for the Or'],\n",
       "                                   ['What time was the Tri-Rail train that carried the '],\n",
       "                                   ['Could you help me out with this assignment? Our pr'],\n",
       "                                   ['In Valentina Re’s contribution to the 2017 book “W'],\n",
       "                                   ['In the fictional language of Tizin, basic sentence'],\n",
       "                                   ['The Metropolitan Museum of Art has a portrait in i'],\n",
       "                                   [\"In Nature journal's Scientific Reports conference \"],\n",
       "                                   ['According to Google Finance, when was the first ye'],\n",
       "                                   ['Review the chess position provided in the image. I'],\n",
       "                                   [\"According to Box Office Mojo's 2020 Worldwide Box \"],\n",
       "                                   ['In the year 2022, and before December, what does \"']], dtype=object),\n",
       "              'hovertemplate': ('agent_name=code_o1_25-01_visio' ... '{customdata[0]}<extra></extra>'),\n",
       "              'legendgroup': 'code_o1_25-01_visioon',\n",
       "              'line': {'color': '#EF553B', 'dash': 'solid'},\n",
       "              'marker': {'symbol': 'circle'},\n",
       "              'mode': 'lines',\n",
       "              'name': 'code_o1_25-01_visioon',\n",
       "              'orientation': 'v',\n",
       "              'showlegend': True,\n",
       "              'type': 'scatter',\n",
       "              'x': array([ 0,  1,  2,  3,  4,  5,  6,  7,  8,  9, 10, 11, 12, 13, 14, 15, 16, 17,\n",
       "                          18, 19, 20, 21, 22, 23, 24, 25, 26, 27, 28, 29, 30, 31, 32, 33, 34, 35,\n",
       "                          36, 37, 38, 39, 40, 41, 42, 43, 44, 45, 46, 47, 48, 49, 50, 51, 52]),\n",
       "              'xaxis': 'x',\n",
       "              'y': array([1.        , 0.5       , 0.33333333, 0.25      , 0.2       , 0.33333333,\n",
       "                          0.42857143, 0.375     , 0.33333333, 0.3       , 0.27272727, 0.33333333,\n",
       "                          0.38461538, 0.35714286, 0.4       , 0.375     , 0.35294118, 0.38888889,\n",
       "                          0.36842105, 0.35      , 0.33333333, 0.31818182, 0.34782609, 0.33333333,\n",
       "                          0.32      , 0.34615385, 0.33333333, 0.32142857, 0.31034483, 0.3       ,\n",
       "                          0.29032258, 0.28125   , 0.27272727, 0.29411765, 0.31428571, 0.30555556,\n",
       "                          0.32432432, 0.34210526, 0.33333333, 0.35      , 0.34146341, 0.33333333,\n",
       "                          0.34883721, 0.34090909, 0.33333333, 0.34782609, 0.36170213, 0.35416667,\n",
       "                          0.34693878, 0.34      , 0.33333333, 0.32692308, 0.33962264]),\n",
       "              'yaxis': 'y'}],\n",
       "    'layout': {'legend': {'title': {'text': 'agent_name'}, 'tracegroupgap': 0},\n",
       "               'margin': {'t': 60},\n",
       "               'template': '...',\n",
       "               'xaxis': {'anchor': 'y', 'domain': [0.0, 1.0], 'title': {'text': 'index'}},\n",
       "               'yaxis': {'anchor': 'x', 'domain': [0.0, 1.0], 'title': {'text': 'is_correct'}}}\n",
       "})"
      ]
     },
     "execution_count": 18,
     "metadata": {},
     "output_type": "execute_result"
    }
   ],
   "source": [
    "import plotly.express as px\n",
    "\n",
    "\n",
    "cumulative_df = (\n",
    "    (\n",
    "        sel_df.groupby(\"agent_name\")[[\"is_correct\", \"is_near_correct\"]]\n",
    "        .expanding(min_periods=1, axis=0, method=\"single\")\n",
    "        .agg({\"is_correct\": \"mean\", \"is_near_correct\": \"count\"})\n",
    "        .reset_index()\n",
    "    )\n",
    "    .copy()\n",
    "    .rename(columns={\"is_near_correct\": \"index\"})\n",
    ")\n",
    "cumulative_df[\"index\"] = cumulative_df[\"index\"].astype(int) - 1\n",
    "\n",
    "\n",
    "def find_question(row):\n",
    "    try:\n",
    "        res = sel_df.loc[sel_df[\"agent_name\"] == row[\"agent_name\"], \"question\"].iloc[row[\"index\"]][:50]\n",
    "        return res\n",
    "    except Exception:\n",
    "        return \"\"\n",
    "\n",
    "\n",
    "cumulative_df[\"question\"] = cumulative_df.apply(find_question, axis=1)\n",
    "# cumulative_df[\"question\"] = [el[:50] for el in sel_df[\"question\"].values]\n",
    "\n",
    "# cumulative_df[\"is_correct\"] = cumulative_df[\"is_correct\"] * (165 - 68) / 165\n",
    "\n",
    "px.line(\n",
    "    cumulative_df,\n",
    "    color=\"agent_name\",\n",
    "    x=\"index\",\n",
    "    y=\"is_correct\",\n",
    "    hover_data=\"question\",\n",
    ")"
   ]
  },
  {
   "cell_type": "markdown",
   "metadata": {},
   "source": [
    "# 3. Dive deeper into one run"
   ]
  },
  {
   "cell_type": "code",
   "execution_count": 18,
   "metadata": {},
   "outputs": [
    {
     "name": "stdout",
     "output_type": "stream",
     "text": [
      "49\n"
     ]
    }
   ],
   "source": [
    "sel_df = result_df.loc[result_df[\"agent_name\"] == o1]\n",
    "print(len(sel_df))"
   ]
  },
  {
   "cell_type": "markdown",
   "metadata": {},
   "source": [
    "### Count errors"
   ]
  },
  {
   "cell_type": "code",
   "execution_count": 19,
   "metadata": {},
   "outputs": [],
   "source": [
    "import numpy as np\n",
    "\n",
    "\n",
    "error_types = [\n",
    "    \"AgentParsingError\",\n",
    "    \"AgentExecutionError\",\n",
    "    \"AgentMaxIterationsError\",\n",
    "    \"AgentGenerationError\",\n",
    "]\n",
    "sel_df[error_types] = 0\n",
    "sel_df[\"Count steps\"] = np.nan\n",
    "\n",
    "\n",
    "def count_errors(row):\n",
    "    if isinstance(row[\"intermediate_steps\"], list):\n",
    "        row[\"Count steps\"] = len(row[\"intermediate_steps\"])\n",
    "        for step in row[\"intermediate_steps\"]:\n",
    "            if isinstance(step, dict) and \"error\" in step:\n",
    "                try:\n",
    "                    row[str(step[\"error\"][\"error_type\"])] += 1\n",
    "                except:\n",
    "                    pass\n",
    "    return row\n",
    "\n",
    "\n",
    "sel_df = sel_df.apply(count_errors, axis=1)"
   ]
  },
  {
   "cell_type": "code",
   "execution_count": 22,
   "metadata": {},
   "outputs": [
    {
     "ename": "ValueError",
     "evalue": "\nImage export using the \"kaleido\" engine requires the kaleido package,\nwhich can be installed using pip:\n    $ pip install -U kaleido\n",
     "output_type": "error",
     "traceback": [
      "\u001b[0;31m---------------------------------------------------------------------------\u001b[0m",
      "\u001b[0;31mValueError\u001b[0m                                Traceback (most recent call last)",
      "Cell \u001b[0;32mIn[22], line 28\u001b[0m\n\u001b[1;32m     21\u001b[0m fig\u001b[38;5;241m.\u001b[39mupdate_layout(\n\u001b[1;32m     22\u001b[0m     height\u001b[38;5;241m=\u001b[39m\u001b[38;5;241m500\u001b[39m,\n\u001b[1;32m     23\u001b[0m     width\u001b[38;5;241m=\u001b[39m\u001b[38;5;241m800\u001b[39m,\n\u001b[1;32m     24\u001b[0m     barmode\u001b[38;5;241m=\u001b[39m\u001b[38;5;124m\"\u001b[39m\u001b[38;5;124mgroup\u001b[39m\u001b[38;5;124m\"\u001b[39m,\n\u001b[1;32m     25\u001b[0m     bargroupgap\u001b[38;5;241m=\u001b[39m\u001b[38;5;241m0.0\u001b[39m,\n\u001b[1;32m     26\u001b[0m )\n\u001b[1;32m     27\u001b[0m fig\u001b[38;5;241m.\u001b[39mupdate_traces(textposition\u001b[38;5;241m=\u001b[39m\u001b[38;5;124m\"\u001b[39m\u001b[38;5;124moutside\u001b[39m\u001b[38;5;124m\"\u001b[39m)\n\u001b[0;32m---> 28\u001b[0m \u001b[43mfig\u001b[49m\u001b[38;5;241;43m.\u001b[39;49m\u001b[43mwrite_image\u001b[49m\u001b[43m(\u001b[49m\u001b[38;5;124;43m\"\u001b[39;49m\u001b[38;5;124;43mfigures/aggregate_errors.png\u001b[39;49m\u001b[38;5;124;43m\"\u001b[39;49m\u001b[43m,\u001b[49m\u001b[43m \u001b[49m\u001b[43mscale\u001b[49m\u001b[38;5;241;43m=\u001b[39;49m\u001b[38;5;241;43m3\u001b[39;49m\u001b[43m)\u001b[49m\n\u001b[1;32m     29\u001b[0m fig\u001b[38;5;241m.\u001b[39mshow()\n",
      "File \u001b[0;32m~/venv/test/lib/python3.12/site-packages/plotly/basedatatypes.py:3835\u001b[0m, in \u001b[0;36mBaseFigure.write_image\u001b[0;34m(self, *args, **kwargs)\u001b[0m\n\u001b[1;32m   3775\u001b[0m \u001b[38;5;250m\u001b[39m\u001b[38;5;124;03m\"\"\"\u001b[39;00m\n\u001b[1;32m   3776\u001b[0m \u001b[38;5;124;03mConvert a figure to a static image and write it to a file or writeable\u001b[39;00m\n\u001b[1;32m   3777\u001b[0m \u001b[38;5;124;03mobject\u001b[39;00m\n\u001b[0;32m   (...)\u001b[0m\n\u001b[1;32m   3831\u001b[0m \u001b[38;5;124;03mNone\u001b[39;00m\n\u001b[1;32m   3832\u001b[0m \u001b[38;5;124;03m\"\"\"\u001b[39;00m\n\u001b[1;32m   3833\u001b[0m \u001b[38;5;28;01mimport\u001b[39;00m\u001b[38;5;250m \u001b[39m\u001b[38;5;21;01mplotly\u001b[39;00m\u001b[38;5;21;01m.\u001b[39;00m\u001b[38;5;21;01mio\u001b[39;00m\u001b[38;5;250m \u001b[39m\u001b[38;5;28;01mas\u001b[39;00m\u001b[38;5;250m \u001b[39m\u001b[38;5;21;01mpio\u001b[39;00m\n\u001b[0;32m-> 3835\u001b[0m \u001b[38;5;28;01mreturn\u001b[39;00m \u001b[43mpio\u001b[49m\u001b[38;5;241;43m.\u001b[39;49m\u001b[43mwrite_image\u001b[49m\u001b[43m(\u001b[49m\u001b[38;5;28;43mself\u001b[39;49m\u001b[43m,\u001b[49m\u001b[43m \u001b[49m\u001b[38;5;241;43m*\u001b[39;49m\u001b[43margs\u001b[49m\u001b[43m,\u001b[49m\u001b[43m \u001b[49m\u001b[38;5;241;43m*\u001b[39;49m\u001b[38;5;241;43m*\u001b[39;49m\u001b[43mkwargs\u001b[49m\u001b[43m)\u001b[49m\n",
      "File \u001b[0;32m~/venv/test/lib/python3.12/site-packages/plotly/io/_kaleido.py:266\u001b[0m, in \u001b[0;36mwrite_image\u001b[0;34m(fig, file, format, scale, width, height, validate, engine)\u001b[0m\n\u001b[1;32m    250\u001b[0m             \u001b[38;5;28;01mraise\u001b[39;00m \u001b[38;5;167;01mValueError\u001b[39;00m(\n\u001b[1;32m    251\u001b[0m \u001b[38;5;250m                \u001b[39m\u001b[38;5;124;03m\"\"\"\u001b[39;00m\n\u001b[1;32m    252\u001b[0m \u001b[38;5;124;03mCannot infer image type from output path '{file}'.\u001b[39;00m\n\u001b[0;32m   (...)\u001b[0m\n\u001b[1;32m    260\u001b[0m                 )\n\u001b[1;32m    261\u001b[0m             )\n\u001b[1;32m    263\u001b[0m     \u001b[38;5;66;03m# Request image\u001b[39;00m\n\u001b[1;32m    264\u001b[0m     \u001b[38;5;66;03m# -------------\u001b[39;00m\n\u001b[1;32m    265\u001b[0m     \u001b[38;5;66;03m# Do this first so we don't create a file if image conversion fails\u001b[39;00m\n\u001b[0;32m--> 266\u001b[0m     img_data \u001b[38;5;241m=\u001b[39m \u001b[43mto_image\u001b[49m\u001b[43m(\u001b[49m\n\u001b[1;32m    267\u001b[0m \u001b[43m        \u001b[49m\u001b[43mfig\u001b[49m\u001b[43m,\u001b[49m\n\u001b[1;32m    268\u001b[0m \u001b[43m        \u001b[49m\u001b[38;5;28;43mformat\u001b[39;49m\u001b[38;5;241;43m=\u001b[39;49m\u001b[38;5;28;43mformat\u001b[39;49m\u001b[43m,\u001b[49m\n\u001b[1;32m    269\u001b[0m \u001b[43m        \u001b[49m\u001b[43mscale\u001b[49m\u001b[38;5;241;43m=\u001b[39;49m\u001b[43mscale\u001b[49m\u001b[43m,\u001b[49m\n\u001b[1;32m    270\u001b[0m \u001b[43m        \u001b[49m\u001b[43mwidth\u001b[49m\u001b[38;5;241;43m=\u001b[39;49m\u001b[43mwidth\u001b[49m\u001b[43m,\u001b[49m\n\u001b[1;32m    271\u001b[0m \u001b[43m        \u001b[49m\u001b[43mheight\u001b[49m\u001b[38;5;241;43m=\u001b[39;49m\u001b[43mheight\u001b[49m\u001b[43m,\u001b[49m\n\u001b[1;32m    272\u001b[0m \u001b[43m        \u001b[49m\u001b[43mvalidate\u001b[49m\u001b[38;5;241;43m=\u001b[39;49m\u001b[43mvalidate\u001b[49m\u001b[43m,\u001b[49m\n\u001b[1;32m    273\u001b[0m \u001b[43m        \u001b[49m\u001b[43mengine\u001b[49m\u001b[38;5;241;43m=\u001b[39;49m\u001b[43mengine\u001b[49m\u001b[43m,\u001b[49m\n\u001b[1;32m    274\u001b[0m \u001b[43m    \u001b[49m\u001b[43m)\u001b[49m\n\u001b[1;32m    276\u001b[0m     \u001b[38;5;66;03m# Open file\u001b[39;00m\n\u001b[1;32m    277\u001b[0m     \u001b[38;5;66;03m# ---------\u001b[39;00m\n\u001b[1;32m    278\u001b[0m     \u001b[38;5;28;01mif\u001b[39;00m path \u001b[38;5;129;01mis\u001b[39;00m \u001b[38;5;28;01mNone\u001b[39;00m:\n\u001b[1;32m    279\u001b[0m         \u001b[38;5;66;03m# We previously failed to make sense of `file` as a pathlib object.\u001b[39;00m\n\u001b[1;32m    280\u001b[0m         \u001b[38;5;66;03m# Attempt to write to `file` as an open file descriptor.\u001b[39;00m\n",
      "File \u001b[0;32m~/venv/test/lib/python3.12/site-packages/plotly/io/_kaleido.py:132\u001b[0m, in \u001b[0;36mto_image\u001b[0;34m(fig, format, width, height, scale, validate, engine)\u001b[0m\n\u001b[1;32m    130\u001b[0m     \u001b[38;5;66;03m# Raise informative error message if Kaleido is not installed\u001b[39;00m\n\u001b[1;32m    131\u001b[0m     \u001b[38;5;28;01mif\u001b[39;00m scope \u001b[38;5;129;01mis\u001b[39;00m \u001b[38;5;28;01mNone\u001b[39;00m:\n\u001b[0;32m--> 132\u001b[0m         \u001b[38;5;28;01mraise\u001b[39;00m \u001b[38;5;167;01mValueError\u001b[39;00m(\n\u001b[1;32m    133\u001b[0m \u001b[38;5;250m            \u001b[39m\u001b[38;5;124;03m\"\"\"\u001b[39;00m\n\u001b[1;32m    134\u001b[0m \u001b[38;5;124;03mImage export using the \"kaleido\" engine requires the kaleido package,\u001b[39;00m\n\u001b[1;32m    135\u001b[0m \u001b[38;5;124;03mwhich can be installed using pip:\u001b[39;00m\n\u001b[1;32m    136\u001b[0m \u001b[38;5;124;03m    $ pip install -U kaleido\u001b[39;00m\n\u001b[1;32m    137\u001b[0m \u001b[38;5;124;03m\"\"\"\u001b[39;00m\n\u001b[1;32m    138\u001b[0m         )\n\u001b[1;32m    140\u001b[0m     \u001b[38;5;66;03m# Validate figure\u001b[39;00m\n\u001b[1;32m    141\u001b[0m     \u001b[38;5;66;03m# ---------------\u001b[39;00m\n\u001b[1;32m    142\u001b[0m     fig_dict \u001b[38;5;241m=\u001b[39m validate_coerce_fig_to_dict(fig, validate)\n",
      "\u001b[0;31mValueError\u001b[0m: \nImage export using the \"kaleido\" engine requires the kaleido package,\nwhich can be installed using pip:\n    $ pip install -U kaleido\n"
     ]
    }
   ],
   "source": [
    "import plotly.express as px\n",
    "\n",
    "\n",
    "aggregate_errors = (\n",
    "    sel_df.groupby([\"is_correct\"])[error_types + [\"Count steps\"]].mean().reset_index().melt(id_vars=[\"is_correct\"])\n",
    ")\n",
    "\n",
    "fig = px.bar(\n",
    "    aggregate_errors,\n",
    "    y=\"value\",\n",
    "    x=\"variable\",\n",
    "    color=\"is_correct\",\n",
    "    labels={\n",
    "        \"agent_name\": \"<b>LLM Engine</b>\",\n",
    "        \"task\": \"<b>Level</b>\",\n",
    "        \"aggregate_score\": \"<b>Performance</b>\",\n",
    "        \"value\": \"<b>Average count</b>\",\n",
    "        \"eval_score_GPT4\": \"<b>Score</b>\",\n",
    "    },\n",
    ")\n",
    "fig.update_layout(\n",
    "    height=500,\n",
    "    width=800,\n",
    "    barmode=\"group\",\n",
    "    bargroupgap=0.0,\n",
    ")\n",
    "fig.update_traces(textposition=\"outside\")\n",
    "fig.write_image(\"figures/aggregate_errors.png\", scale=3)\n",
    "fig.show()"
   ]
  },
  {
   "cell_type": "markdown",
   "metadata": {},
   "source": [
    "### Count tool calls"
   ]
  },
  {
   "cell_type": "code",
   "execution_count": 15,
   "metadata": {},
   "outputs": [
    {
     "data": {
      "text/html": [
       "<div>\n",
       "<style scoped>\n",
       "    .dataframe tbody tr th:only-of-type {\n",
       "        vertical-align: middle;\n",
       "    }\n",
       "\n",
       "    .dataframe tbody tr th {\n",
       "        vertical-align: top;\n",
       "    }\n",
       "\n",
       "    .dataframe thead th {\n",
       "        text-align: right;\n",
       "    }\n",
       "</style>\n",
       "<table border=\"1\" class=\"dataframe\">\n",
       "  <thead>\n",
       "    <tr style=\"text-align: right;\">\n",
       "      <th></th>\n",
       "      <th>print</th>\n",
       "      <th>ask_search_agent</th>\n",
       "      <th>final_answer</th>\n",
       "      <th>len</th>\n",
       "      <th>range</th>\n",
       "      <th>inspect_file_as_text</th>\n",
       "      <th>set</th>\n",
       "      <th>visualizer</th>\n",
       "      <th>parse_square</th>\n",
       "      <th>sum</th>\n",
       "      <th>...</th>\n",
       "      <th>max</th>\n",
       "      <th>join</th>\n",
       "      <th>generate_prefixes</th>\n",
       "      <th>sorted</th>\n",
       "      <th>get</th>\n",
       "      <th>lower</th>\n",
       "      <th>f</th>\n",
       "      <th>search_birthdate</th>\n",
       "      <th>items</th>\n",
       "      <th>abs</th>\n",
       "    </tr>\n",
       "  </thead>\n",
       "  <tbody>\n",
       "    <tr>\n",
       "      <th>0</th>\n",
       "      <td>8.0</td>\n",
       "      <td>3.0</td>\n",
       "      <td>1.0</td>\n",
       "      <td>0.0</td>\n",
       "      <td>0.0</td>\n",
       "      <td>5.0</td>\n",
       "      <td>0.0</td>\n",
       "      <td>0.0</td>\n",
       "      <td>0.0</td>\n",
       "      <td>0.0</td>\n",
       "      <td>...</td>\n",
       "      <td>0.0</td>\n",
       "      <td>0.0</td>\n",
       "      <td>0.0</td>\n",
       "      <td>0.0</td>\n",
       "      <td>0.0</td>\n",
       "      <td>0.0</td>\n",
       "      <td>0.0</td>\n",
       "      <td>0.0</td>\n",
       "      <td>0.0</td>\n",
       "      <td>0.0</td>\n",
       "    </tr>\n",
       "    <tr>\n",
       "      <th>1</th>\n",
       "      <td>3.0</td>\n",
       "      <td>2.0</td>\n",
       "      <td>1.0</td>\n",
       "      <td>0.0</td>\n",
       "      <td>0.0</td>\n",
       "      <td>0.0</td>\n",
       "      <td>0.0</td>\n",
       "      <td>0.0</td>\n",
       "      <td>0.0</td>\n",
       "      <td>0.0</td>\n",
       "      <td>...</td>\n",
       "      <td>0.0</td>\n",
       "      <td>0.0</td>\n",
       "      <td>0.0</td>\n",
       "      <td>0.0</td>\n",
       "      <td>0.0</td>\n",
       "      <td>0.0</td>\n",
       "      <td>0.0</td>\n",
       "      <td>0.0</td>\n",
       "      <td>0.0</td>\n",
       "      <td>0.0</td>\n",
       "    </tr>\n",
       "    <tr>\n",
       "      <th>2</th>\n",
       "      <td>5.0</td>\n",
       "      <td>5.0</td>\n",
       "      <td>1.0</td>\n",
       "      <td>0.0</td>\n",
       "      <td>0.0</td>\n",
       "      <td>0.0</td>\n",
       "      <td>0.0</td>\n",
       "      <td>0.0</td>\n",
       "      <td>0.0</td>\n",
       "      <td>0.0</td>\n",
       "      <td>...</td>\n",
       "      <td>0.0</td>\n",
       "      <td>0.0</td>\n",
       "      <td>0.0</td>\n",
       "      <td>0.0</td>\n",
       "      <td>0.0</td>\n",
       "      <td>0.0</td>\n",
       "      <td>0.0</td>\n",
       "      <td>0.0</td>\n",
       "      <td>0.0</td>\n",
       "      <td>0.0</td>\n",
       "    </tr>\n",
       "    <tr>\n",
       "      <th>3</th>\n",
       "      <td>4.0</td>\n",
       "      <td>3.0</td>\n",
       "      <td>1.0</td>\n",
       "      <td>0.0</td>\n",
       "      <td>0.0</td>\n",
       "      <td>0.0</td>\n",
       "      <td>0.0</td>\n",
       "      <td>0.0</td>\n",
       "      <td>0.0</td>\n",
       "      <td>0.0</td>\n",
       "      <td>...</td>\n",
       "      <td>0.0</td>\n",
       "      <td>0.0</td>\n",
       "      <td>0.0</td>\n",
       "      <td>0.0</td>\n",
       "      <td>0.0</td>\n",
       "      <td>0.0</td>\n",
       "      <td>0.0</td>\n",
       "      <td>0.0</td>\n",
       "      <td>0.0</td>\n",
       "      <td>0.0</td>\n",
       "    </tr>\n",
       "    <tr>\n",
       "      <th>4</th>\n",
       "      <td>3.0</td>\n",
       "      <td>2.0</td>\n",
       "      <td>1.0</td>\n",
       "      <td>0.0</td>\n",
       "      <td>0.0</td>\n",
       "      <td>0.0</td>\n",
       "      <td>0.0</td>\n",
       "      <td>0.0</td>\n",
       "      <td>0.0</td>\n",
       "      <td>0.0</td>\n",
       "      <td>...</td>\n",
       "      <td>0.0</td>\n",
       "      <td>0.0</td>\n",
       "      <td>0.0</td>\n",
       "      <td>0.0</td>\n",
       "      <td>0.0</td>\n",
       "      <td>0.0</td>\n",
       "      <td>0.0</td>\n",
       "      <td>0.0</td>\n",
       "      <td>0.0</td>\n",
       "      <td>0.0</td>\n",
       "    </tr>\n",
       "    <tr>\n",
       "      <th>...</th>\n",
       "      <td>...</td>\n",
       "      <td>...</td>\n",
       "      <td>...</td>\n",
       "      <td>...</td>\n",
       "      <td>...</td>\n",
       "      <td>...</td>\n",
       "      <td>...</td>\n",
       "      <td>...</td>\n",
       "      <td>...</td>\n",
       "      <td>...</td>\n",
       "      <td>...</td>\n",
       "      <td>...</td>\n",
       "      <td>...</td>\n",
       "      <td>...</td>\n",
       "      <td>...</td>\n",
       "      <td>...</td>\n",
       "      <td>...</td>\n",
       "      <td>...</td>\n",
       "      <td>...</td>\n",
       "      <td>...</td>\n",
       "      <td>...</td>\n",
       "    </tr>\n",
       "    <tr>\n",
       "      <th>160</th>\n",
       "      <td>5.0</td>\n",
       "      <td>5.0</td>\n",
       "      <td>1.0</td>\n",
       "      <td>0.0</td>\n",
       "      <td>0.0</td>\n",
       "      <td>0.0</td>\n",
       "      <td>0.0</td>\n",
       "      <td>0.0</td>\n",
       "      <td>0.0</td>\n",
       "      <td>0.0</td>\n",
       "      <td>...</td>\n",
       "      <td>0.0</td>\n",
       "      <td>0.0</td>\n",
       "      <td>0.0</td>\n",
       "      <td>0.0</td>\n",
       "      <td>0.0</td>\n",
       "      <td>0.0</td>\n",
       "      <td>0.0</td>\n",
       "      <td>0.0</td>\n",
       "      <td>0.0</td>\n",
       "      <td>0.0</td>\n",
       "    </tr>\n",
       "    <tr>\n",
       "      <th>161</th>\n",
       "      <td>3.0</td>\n",
       "      <td>0.0</td>\n",
       "      <td>1.0</td>\n",
       "      <td>1.0</td>\n",
       "      <td>0.0</td>\n",
       "      <td>2.0</td>\n",
       "      <td>0.0</td>\n",
       "      <td>0.0</td>\n",
       "      <td>0.0</td>\n",
       "      <td>0.0</td>\n",
       "      <td>...</td>\n",
       "      <td>0.0</td>\n",
       "      <td>0.0</td>\n",
       "      <td>0.0</td>\n",
       "      <td>0.0</td>\n",
       "      <td>0.0</td>\n",
       "      <td>0.0</td>\n",
       "      <td>0.0</td>\n",
       "      <td>0.0</td>\n",
       "      <td>0.0</td>\n",
       "      <td>0.0</td>\n",
       "    </tr>\n",
       "    <tr>\n",
       "      <th>162</th>\n",
       "      <td>7.0</td>\n",
       "      <td>2.0</td>\n",
       "      <td>1.0</td>\n",
       "      <td>4.0</td>\n",
       "      <td>0.0</td>\n",
       "      <td>0.0</td>\n",
       "      <td>0.0</td>\n",
       "      <td>0.0</td>\n",
       "      <td>0.0</td>\n",
       "      <td>0.0</td>\n",
       "      <td>...</td>\n",
       "      <td>0.0</td>\n",
       "      <td>0.0</td>\n",
       "      <td>0.0</td>\n",
       "      <td>0.0</td>\n",
       "      <td>0.0</td>\n",
       "      <td>0.0</td>\n",
       "      <td>0.0</td>\n",
       "      <td>0.0</td>\n",
       "      <td>0.0</td>\n",
       "      <td>0.0</td>\n",
       "    </tr>\n",
       "    <tr>\n",
       "      <th>163</th>\n",
       "      <td>20.0</td>\n",
       "      <td>8.0</td>\n",
       "      <td>0.0</td>\n",
       "      <td>0.0</td>\n",
       "      <td>1.0</td>\n",
       "      <td>2.0</td>\n",
       "      <td>0.0</td>\n",
       "      <td>0.0</td>\n",
       "      <td>0.0</td>\n",
       "      <td>0.0</td>\n",
       "      <td>...</td>\n",
       "      <td>0.0</td>\n",
       "      <td>0.0</td>\n",
       "      <td>0.0</td>\n",
       "      <td>0.0</td>\n",
       "      <td>0.0</td>\n",
       "      <td>0.0</td>\n",
       "      <td>0.0</td>\n",
       "      <td>0.0</td>\n",
       "      <td>0.0</td>\n",
       "      <td>0.0</td>\n",
       "    </tr>\n",
       "    <tr>\n",
       "      <th>164</th>\n",
       "      <td>2.0</td>\n",
       "      <td>0.0</td>\n",
       "      <td>1.0</td>\n",
       "      <td>0.0</td>\n",
       "      <td>0.0</td>\n",
       "      <td>0.0</td>\n",
       "      <td>0.0</td>\n",
       "      <td>1.0</td>\n",
       "      <td>36.0</td>\n",
       "      <td>0.0</td>\n",
       "      <td>...</td>\n",
       "      <td>0.0</td>\n",
       "      <td>0.0</td>\n",
       "      <td>0.0</td>\n",
       "      <td>0.0</td>\n",
       "      <td>0.0</td>\n",
       "      <td>0.0</td>\n",
       "      <td>0.0</td>\n",
       "      <td>0.0</td>\n",
       "      <td>0.0</td>\n",
       "      <td>0.0</td>\n",
       "    </tr>\n",
       "  </tbody>\n",
       "</table>\n",
       "<p>165 rows × 31 columns</p>\n",
       "</div>"
      ],
      "text/plain": [
       "     print  ask_search_agent  final_answer  len  range  inspect_file_as_text  \\\n",
       "0      8.0               3.0           1.0  0.0    0.0                   5.0   \n",
       "1      3.0               2.0           1.0  0.0    0.0                   0.0   \n",
       "2      5.0               5.0           1.0  0.0    0.0                   0.0   \n",
       "3      4.0               3.0           1.0  0.0    0.0                   0.0   \n",
       "4      3.0               2.0           1.0  0.0    0.0                   0.0   \n",
       "..     ...               ...           ...  ...    ...                   ...   \n",
       "160    5.0               5.0           1.0  0.0    0.0                   0.0   \n",
       "161    3.0               0.0           1.0  1.0    0.0                   2.0   \n",
       "162    7.0               2.0           1.0  4.0    0.0                   0.0   \n",
       "163   20.0               8.0           0.0  0.0    1.0                   2.0   \n",
       "164    2.0               0.0           1.0  0.0    0.0                   0.0   \n",
       "\n",
       "     set  visualizer  parse_square  sum  ...  max  join  generate_prefixes  \\\n",
       "0    0.0         0.0           0.0  0.0  ...  0.0   0.0                0.0   \n",
       "1    0.0         0.0           0.0  0.0  ...  0.0   0.0                0.0   \n",
       "2    0.0         0.0           0.0  0.0  ...  0.0   0.0                0.0   \n",
       "3    0.0         0.0           0.0  0.0  ...  0.0   0.0                0.0   \n",
       "4    0.0         0.0           0.0  0.0  ...  0.0   0.0                0.0   \n",
       "..   ...         ...           ...  ...  ...  ...   ...                ...   \n",
       "160  0.0         0.0           0.0  0.0  ...  0.0   0.0                0.0   \n",
       "161  0.0         0.0           0.0  0.0  ...  0.0   0.0                0.0   \n",
       "162  0.0         0.0           0.0  0.0  ...  0.0   0.0                0.0   \n",
       "163  0.0         0.0           0.0  0.0  ...  0.0   0.0                0.0   \n",
       "164  0.0         1.0          36.0  0.0  ...  0.0   0.0                0.0   \n",
       "\n",
       "     sorted  get  lower    f  search_birthdate  items  abs  \n",
       "0       0.0  0.0    0.0  0.0               0.0    0.0  0.0  \n",
       "1       0.0  0.0    0.0  0.0               0.0    0.0  0.0  \n",
       "2       0.0  0.0    0.0  0.0               0.0    0.0  0.0  \n",
       "3       0.0  0.0    0.0  0.0               0.0    0.0  0.0  \n",
       "4       0.0  0.0    0.0  0.0               0.0    0.0  0.0  \n",
       "..      ...  ...    ...  ...               ...    ...  ...  \n",
       "160     0.0  0.0    0.0  0.0               0.0    0.0  0.0  \n",
       "161     0.0  0.0    0.0  0.0               0.0    0.0  0.0  \n",
       "162     0.0  0.0    0.0  0.0               0.0    0.0  0.0  \n",
       "163     0.0  0.0    0.0  0.0               0.0    0.0  0.0  \n",
       "164     0.0  0.0    0.0  0.0               0.0    0.0  0.0  \n",
       "\n",
       "[165 rows x 31 columns]"
      ]
     },
     "metadata": {},
     "output_type": "display_data"
    }
   ],
   "source": [
    "tools_calls = pd.DataFrame.from_records(sel_df[\"tool_calls\"].values).fillna(0)\n",
    "\n",
    "# Exclude the tools that were not used enough\n",
    "tools_calls = tools_calls.loc[:, tools_calls.sum() > 10]\n",
    "\n",
    "# Sort the columns by the sum of the values\n",
    "tools_calls = tools_calls[tools_calls.sum().sort_values(ascending=False).index]\n",
    "display(tools_calls)\n",
    "sel_with_calls = pd.concat([sel_df[[\"question\", \"is_correct\", \"task\"]], tools_calls], axis=1)\n",
    "sel_with_calls = sel_with_calls.drop(\"question\", axis=1).groupby([\"is_correct\", \"task\"]).mean()\n",
    "# sel_with_calls = sel_with_calls.melt(id_vars=['question', 'is_correct', 'task'], var_name=\"tool\", value_name='count')"
   ]
  },
  {
   "cell_type": "code",
   "execution_count": 16,
   "metadata": {},
   "outputs": [],
   "source": [
    "sel_with_calls = sel_with_calls.reset_index().melt(\n",
    "    id_vars=[\"is_correct\", \"task\"], var_name=\"tool\", value_name=\"average_count\"\n",
    ")"
   ]
  },
  {
   "cell_type": "code",
   "execution_count": 17,
   "metadata": {},
   "outputs": [
    {
     "data": {
      "application/vnd.plotly.v1+json": {
       "config": {
        "plotlyServerURL": "https://plot.ly"
       },
       "data": [
        {
         "alignmentgroup": "True",
         "hovertemplate": "is_correct=False<br><b>Level</b>=1<br>tool=%{x}<br><b>Average #calls per run</b>=%{y}<extra></extra>",
         "legendgroup": "False",
         "marker": {
          "color": "#636efa",
          "pattern": {
           "shape": ""
          }
         },
         "name": "False",
         "offsetgroup": "False",
         "orientation": "v",
         "showlegend": true,
         "textposition": "auto",
         "type": "bar",
         "x": [
          "print",
          "ask_search_agent",
          "final_answer",
          "len",
          "range",
          "inspect_file_as_text",
          "set",
          "visualizer",
          "parse_square",
          "sum",
          "append",
          "round",
          "dfs",
          "pop",
          "split",
          "list",
          "set_piece_at",
          "add",
          "piece_at",
          "is_valid",
          "find_words",
          "max",
          "join",
          "generate_prefixes",
          "sorted",
          "get",
          "lower",
          "f",
          "search_birthdate",
          "items",
          "abs"
         ],
         "xaxis": "x3",
         "y": [
          3.3181818181818183,
          1.818181818181818,
          1.1363636363636365,
          0.4090909090909091,
          0.6363636363636364,
          0.13636363636363635,
          0.2727272727272727,
          0.2727272727272727,
          1.6363636363636365,
          0.045454545454545456,
          0.8181818181818182,
          0,
          0,
          0.9545454545454546,
          0,
          0.2272727272727273,
          0.8181818181818182,
          0,
          0.8181818181818182,
          0,
          0,
          0.2727272727272727,
          0.09090909090909093,
          0,
          0.045454545454545456,
          0,
          0,
          0,
          0,
          0.2727272727272727,
          0.13636363636363635
         ],
         "yaxis": "y3"
        },
        {
         "alignmentgroup": "True",
         "hovertemplate": "is_correct=False<br><b>Level</b>=2<br>tool=%{x}<br><b>Average #calls per run</b>=%{y}<extra></extra>",
         "legendgroup": "False",
         "marker": {
          "color": "#636efa",
          "pattern": {
           "shape": ""
          }
         },
         "name": "False",
         "offsetgroup": "False",
         "orientation": "v",
         "showlegend": false,
         "textposition": "auto",
         "type": "bar",
         "x": [
          "print",
          "ask_search_agent",
          "final_answer",
          "len",
          "range",
          "inspect_file_as_text",
          "set",
          "visualizer",
          "parse_square",
          "sum",
          "append",
          "round",
          "dfs",
          "pop",
          "split",
          "list",
          "set_piece_at",
          "add",
          "piece_at",
          "is_valid",
          "find_words",
          "max",
          "join",
          "generate_prefixes",
          "sorted",
          "get",
          "lower",
          "f",
          "search_birthdate",
          "items",
          "abs"
         ],
         "xaxis": "x2",
         "y": [
          5.122448979591836,
          3.306122448979592,
          0.8571428571428571,
          0.42857142857142855,
          0.061224489795918366,
          0.2857142857142857,
          0,
          0.24489795918367344,
          0,
          0.2653061224489796,
          0.20408163265306123,
          0.22448979591836735,
          0,
          0,
          0.16326530612244897,
          0,
          0,
          0,
          0,
          0,
          0,
          0.04081632653061224,
          0.02040816326530612,
          0,
          0,
          0.22448979591836735,
          0.12244897959183672,
          0,
          0,
          0.02040816326530612,
          0.1020408163265306
         ],
         "yaxis": "y2"
        },
        {
         "alignmentgroup": "True",
         "hovertemplate": "is_correct=False<br><b>Level</b>=3<br>tool=%{x}<br><b>Average #calls per run</b>=%{y}<extra></extra>",
         "legendgroup": "False",
         "marker": {
          "color": "#636efa",
          "pattern": {
           "shape": ""
          }
         },
         "name": "False",
         "offsetgroup": "False",
         "orientation": "v",
         "showlegend": false,
         "textposition": "auto",
         "type": "bar",
         "x": [
          "print",
          "ask_search_agent",
          "final_answer",
          "len",
          "range",
          "inspect_file_as_text",
          "set",
          "visualizer",
          "parse_square",
          "sum",
          "append",
          "round",
          "dfs",
          "pop",
          "split",
          "list",
          "set_piece_at",
          "add",
          "piece_at",
          "is_valid",
          "find_words",
          "max",
          "join",
          "generate_prefixes",
          "sorted",
          "get",
          "lower",
          "f",
          "search_birthdate",
          "items",
          "abs"
         ],
         "xaxis": "x",
         "y": [
          8.714285714285714,
          4.857142857142857,
          0.8095238095238095,
          2.238095238095238,
          1.9047619047619049,
          0.6190476190476191,
          1.5238095238095235,
          0.23809523809523808,
          0,
          0,
          0.09523809523809525,
          0.2857142857142857,
          1.1428571428571428,
          0,
          0.047619047619047616,
          0.2857142857142857,
          0,
          0.7142857142857143,
          0,
          0.7619047619047619,
          0.7619047619047619,
          0.2857142857142857,
          0.09523809523809525,
          0.6666666666666666,
          0.14285714285714285,
          0,
          0,
          0,
          0,
          0,
          0
         ],
         "yaxis": "y"
        },
        {
         "alignmentgroup": "True",
         "hovertemplate": "is_correct=True<br><b>Level</b>=1<br>tool=%{x}<br><b>Average #calls per run</b>=%{y}<extra></extra>",
         "legendgroup": "True",
         "marker": {
          "color": "#EF553B",
          "pattern": {
           "shape": ""
          }
         },
         "name": "True",
         "offsetgroup": "True",
         "orientation": "v",
         "showlegend": true,
         "textposition": "auto",
         "type": "bar",
         "x": [
          "print",
          "ask_search_agent",
          "final_answer",
          "len",
          "range",
          "inspect_file_as_text",
          "set",
          "visualizer",
          "parse_square",
          "sum",
          "append",
          "round",
          "dfs",
          "pop",
          "split",
          "list",
          "set_piece_at",
          "add",
          "piece_at",
          "is_valid",
          "find_words",
          "max",
          "join",
          "generate_prefixes",
          "sorted",
          "get",
          "lower",
          "f",
          "search_birthdate",
          "items",
          "abs"
         ],
         "xaxis": "x3",
         "y": [
          2.4838709677419355,
          1.5161290322580645,
          1.032258064516129,
          0.06451612903225806,
          0.06451612903225806,
          0.3548387096774194,
          0.06451612903225806,
          0.03225806451612903,
          0,
          0.1935483870967742,
          0.03225806451612903,
          0.03225806451612903,
          0.06451612903225806,
          0.03225806451612903,
          0.0967741935483871,
          0.03225806451612903,
          0,
          0.0967741935483871,
          0,
          0,
          0,
          0,
          0.1935483870967742,
          0,
          0.06451612903225806,
          0,
          0,
          0,
          0,
          0.03225806451612903,
          0
         ],
         "yaxis": "y3"
        },
        {
         "alignmentgroup": "True",
         "hovertemplate": "is_correct=True<br><b>Level</b>=2<br>tool=%{x}<br><b>Average #calls per run</b>=%{y}<extra></extra>",
         "legendgroup": "True",
         "marker": {
          "color": "#EF553B",
          "pattern": {
           "shape": ""
          }
         },
         "name": "True",
         "offsetgroup": "True",
         "orientation": "v",
         "showlegend": false,
         "textposition": "auto",
         "type": "bar",
         "x": [
          "print",
          "ask_search_agent",
          "final_answer",
          "len",
          "range",
          "inspect_file_as_text",
          "set",
          "visualizer",
          "parse_square",
          "sum",
          "append",
          "round",
          "dfs",
          "pop",
          "split",
          "list",
          "set_piece_at",
          "add",
          "piece_at",
          "is_valid",
          "find_words",
          "max",
          "join",
          "generate_prefixes",
          "sorted",
          "get",
          "lower",
          "f",
          "search_birthdate",
          "items",
          "abs"
         ],
         "xaxis": "x2",
         "y": [
          5.162162162162162,
          2.702702702702702,
          0.945945945945946,
          0.10810810810810811,
          0.10810810810810811,
          0.32432432432432434,
          0.2972972972972973,
          0.32432432432432434,
          0,
          0.21621621621621623,
          0,
          0.21621621621621623,
          0,
          0,
          0.13513513513513514,
          0.16216216216216217,
          0,
          0,
          0,
          0,
          0,
          0.02702702702702703,
          0.02702702702702703,
          0,
          0.21621621621621623,
          0,
          0.16216216216216217,
          0.32432432432432434,
          0.32432432432432434,
          0.05405405405405406,
          0.08108108108108109
         ],
         "yaxis": "y2"
        },
        {
         "alignmentgroup": "True",
         "hovertemplate": "is_correct=True<br><b>Level</b>=3<br>tool=%{x}<br><b>Average #calls per run</b>=%{y}<extra></extra>",
         "legendgroup": "True",
         "marker": {
          "color": "#EF553B",
          "pattern": {
           "shape": ""
          }
         },
         "name": "True",
         "offsetgroup": "True",
         "orientation": "v",
         "showlegend": false,
         "textposition": "auto",
         "type": "bar",
         "x": [
          "print",
          "ask_search_agent",
          "final_answer",
          "len",
          "range",
          "inspect_file_as_text",
          "set",
          "visualizer",
          "parse_square",
          "sum",
          "append",
          "round",
          "dfs",
          "pop",
          "split",
          "list",
          "set_piece_at",
          "add",
          "piece_at",
          "is_valid",
          "find_words",
          "max",
          "join",
          "generate_prefixes",
          "sorted",
          "get",
          "lower",
          "f",
          "search_birthdate",
          "items",
          "abs"
         ],
         "xaxis": "x",
         "y": [
          6.4,
          2.2,
          0.8,
          0,
          0.4,
          1.6,
          0.2,
          0.2,
          0,
          0.8,
          0.2,
          0,
          0,
          0,
          0.8,
          0.4,
          0,
          0,
          0,
          0,
          0,
          0,
          0.4,
          0,
          0,
          0.2,
          0,
          0,
          0,
          0.4,
          0
         ],
         "yaxis": "y"
        }
       ],
       "layout": {
        "annotations": [
         {
          "font": {},
          "showarrow": false,
          "text": "<b>Level</b>=3",
          "textangle": 90,
          "x": 0.98,
          "xanchor": "left",
          "xref": "paper",
          "y": 0.15666666666666665,
          "yanchor": "middle",
          "yref": "paper"
         },
         {
          "font": {},
          "showarrow": false,
          "text": "<b>Level</b>=2",
          "textangle": 90,
          "x": 0.98,
          "xanchor": "left",
          "xref": "paper",
          "y": 0.4999999999999999,
          "yanchor": "middle",
          "yref": "paper"
         },
         {
          "font": {},
          "showarrow": false,
          "text": "<b>Level</b>=1",
          "textangle": 90,
          "x": 0.98,
          "xanchor": "left",
          "xref": "paper",
          "y": 0.8433333333333332,
          "yanchor": "middle",
          "yref": "paper"
         }
        ],
        "barmode": "group",
        "height": 800,
        "legend": {
         "title": {
          "text": "is_correct"
         },
         "tracegroupgap": 0
        },
        "margin": {
         "t": 60
        },
        "template": {
         "data": {
          "bar": [
           {
            "error_x": {
             "color": "#2a3f5f"
            },
            "error_y": {
             "color": "#2a3f5f"
            },
            "marker": {
             "line": {
              "color": "#E5ECF6",
              "width": 0.5
             },
             "pattern": {
              "fillmode": "overlay",
              "size": 10,
              "solidity": 0.2
             }
            },
            "type": "bar"
           }
          ],
          "barpolar": [
           {
            "marker": {
             "line": {
              "color": "#E5ECF6",
              "width": 0.5
             },
             "pattern": {
              "fillmode": "overlay",
              "size": 10,
              "solidity": 0.2
             }
            },
            "type": "barpolar"
           }
          ],
          "carpet": [
           {
            "aaxis": {
             "endlinecolor": "#2a3f5f",
             "gridcolor": "white",
             "linecolor": "white",
             "minorgridcolor": "white",
             "startlinecolor": "#2a3f5f"
            },
            "baxis": {
             "endlinecolor": "#2a3f5f",
             "gridcolor": "white",
             "linecolor": "white",
             "minorgridcolor": "white",
             "startlinecolor": "#2a3f5f"
            },
            "type": "carpet"
           }
          ],
          "choropleth": [
           {
            "colorbar": {
             "outlinewidth": 0,
             "ticks": ""
            },
            "type": "choropleth"
           }
          ],
          "contour": [
           {
            "colorbar": {
             "outlinewidth": 0,
             "ticks": ""
            },
            "colorscale": [
             [
              0,
              "#0d0887"
             ],
             [
              0.1111111111111111,
              "#46039f"
             ],
             [
              0.2222222222222222,
              "#7201a8"
             ],
             [
              0.3333333333333333,
              "#9c179e"
             ],
             [
              0.4444444444444444,
              "#bd3786"
             ],
             [
              0.5555555555555556,
              "#d8576b"
             ],
             [
              0.6666666666666666,
              "#ed7953"
             ],
             [
              0.7777777777777778,
              "#fb9f3a"
             ],
             [
              0.8888888888888888,
              "#fdca26"
             ],
             [
              1,
              "#f0f921"
             ]
            ],
            "type": "contour"
           }
          ],
          "contourcarpet": [
           {
            "colorbar": {
             "outlinewidth": 0,
             "ticks": ""
            },
            "type": "contourcarpet"
           }
          ],
          "heatmap": [
           {
            "colorbar": {
             "outlinewidth": 0,
             "ticks": ""
            },
            "colorscale": [
             [
              0,
              "#0d0887"
             ],
             [
              0.1111111111111111,
              "#46039f"
             ],
             [
              0.2222222222222222,
              "#7201a8"
             ],
             [
              0.3333333333333333,
              "#9c179e"
             ],
             [
              0.4444444444444444,
              "#bd3786"
             ],
             [
              0.5555555555555556,
              "#d8576b"
             ],
             [
              0.6666666666666666,
              "#ed7953"
             ],
             [
              0.7777777777777778,
              "#fb9f3a"
             ],
             [
              0.8888888888888888,
              "#fdca26"
             ],
             [
              1,
              "#f0f921"
             ]
            ],
            "type": "heatmap"
           }
          ],
          "heatmapgl": [
           {
            "colorbar": {
             "outlinewidth": 0,
             "ticks": ""
            },
            "colorscale": [
             [
              0,
              "#0d0887"
             ],
             [
              0.1111111111111111,
              "#46039f"
             ],
             [
              0.2222222222222222,
              "#7201a8"
             ],
             [
              0.3333333333333333,
              "#9c179e"
             ],
             [
              0.4444444444444444,
              "#bd3786"
             ],
             [
              0.5555555555555556,
              "#d8576b"
             ],
             [
              0.6666666666666666,
              "#ed7953"
             ],
             [
              0.7777777777777778,
              "#fb9f3a"
             ],
             [
              0.8888888888888888,
              "#fdca26"
             ],
             [
              1,
              "#f0f921"
             ]
            ],
            "type": "heatmapgl"
           }
          ],
          "histogram": [
           {
            "marker": {
             "pattern": {
              "fillmode": "overlay",
              "size": 10,
              "solidity": 0.2
             }
            },
            "type": "histogram"
           }
          ],
          "histogram2d": [
           {
            "colorbar": {
             "outlinewidth": 0,
             "ticks": ""
            },
            "colorscale": [
             [
              0,
              "#0d0887"
             ],
             [
              0.1111111111111111,
              "#46039f"
             ],
             [
              0.2222222222222222,
              "#7201a8"
             ],
             [
              0.3333333333333333,
              "#9c179e"
             ],
             [
              0.4444444444444444,
              "#bd3786"
             ],
             [
              0.5555555555555556,
              "#d8576b"
             ],
             [
              0.6666666666666666,
              "#ed7953"
             ],
             [
              0.7777777777777778,
              "#fb9f3a"
             ],
             [
              0.8888888888888888,
              "#fdca26"
             ],
             [
              1,
              "#f0f921"
             ]
            ],
            "type": "histogram2d"
           }
          ],
          "histogram2dcontour": [
           {
            "colorbar": {
             "outlinewidth": 0,
             "ticks": ""
            },
            "colorscale": [
             [
              0,
              "#0d0887"
             ],
             [
              0.1111111111111111,
              "#46039f"
             ],
             [
              0.2222222222222222,
              "#7201a8"
             ],
             [
              0.3333333333333333,
              "#9c179e"
             ],
             [
              0.4444444444444444,
              "#bd3786"
             ],
             [
              0.5555555555555556,
              "#d8576b"
             ],
             [
              0.6666666666666666,
              "#ed7953"
             ],
             [
              0.7777777777777778,
              "#fb9f3a"
             ],
             [
              0.8888888888888888,
              "#fdca26"
             ],
             [
              1,
              "#f0f921"
             ]
            ],
            "type": "histogram2dcontour"
           }
          ],
          "mesh3d": [
           {
            "colorbar": {
             "outlinewidth": 0,
             "ticks": ""
            },
            "type": "mesh3d"
           }
          ],
          "parcoords": [
           {
            "line": {
             "colorbar": {
              "outlinewidth": 0,
              "ticks": ""
             }
            },
            "type": "parcoords"
           }
          ],
          "pie": [
           {
            "automargin": true,
            "type": "pie"
           }
          ],
          "scatter": [
           {
            "fillpattern": {
             "fillmode": "overlay",
             "size": 10,
             "solidity": 0.2
            },
            "type": "scatter"
           }
          ],
          "scatter3d": [
           {
            "line": {
             "colorbar": {
              "outlinewidth": 0,
              "ticks": ""
             }
            },
            "marker": {
             "colorbar": {
              "outlinewidth": 0,
              "ticks": ""
             }
            },
            "type": "scatter3d"
           }
          ],
          "scattercarpet": [
           {
            "marker": {
             "colorbar": {
              "outlinewidth": 0,
              "ticks": ""
             }
            },
            "type": "scattercarpet"
           }
          ],
          "scattergeo": [
           {
            "marker": {
             "colorbar": {
              "outlinewidth": 0,
              "ticks": ""
             }
            },
            "type": "scattergeo"
           }
          ],
          "scattergl": [
           {
            "marker": {
             "colorbar": {
              "outlinewidth": 0,
              "ticks": ""
             }
            },
            "type": "scattergl"
           }
          ],
          "scattermapbox": [
           {
            "marker": {
             "colorbar": {
              "outlinewidth": 0,
              "ticks": ""
             }
            },
            "type": "scattermapbox"
           }
          ],
          "scatterpolar": [
           {
            "marker": {
             "colorbar": {
              "outlinewidth": 0,
              "ticks": ""
             }
            },
            "type": "scatterpolar"
           }
          ],
          "scatterpolargl": [
           {
            "marker": {
             "colorbar": {
              "outlinewidth": 0,
              "ticks": ""
             }
            },
            "type": "scatterpolargl"
           }
          ],
          "scatterternary": [
           {
            "marker": {
             "colorbar": {
              "outlinewidth": 0,
              "ticks": ""
             }
            },
            "type": "scatterternary"
           }
          ],
          "surface": [
           {
            "colorbar": {
             "outlinewidth": 0,
             "ticks": ""
            },
            "colorscale": [
             [
              0,
              "#0d0887"
             ],
             [
              0.1111111111111111,
              "#46039f"
             ],
             [
              0.2222222222222222,
              "#7201a8"
             ],
             [
              0.3333333333333333,
              "#9c179e"
             ],
             [
              0.4444444444444444,
              "#bd3786"
             ],
             [
              0.5555555555555556,
              "#d8576b"
             ],
             [
              0.6666666666666666,
              "#ed7953"
             ],
             [
              0.7777777777777778,
              "#fb9f3a"
             ],
             [
              0.8888888888888888,
              "#fdca26"
             ],
             [
              1,
              "#f0f921"
             ]
            ],
            "type": "surface"
           }
          ],
          "table": [
           {
            "cells": {
             "fill": {
              "color": "#EBF0F8"
             },
             "line": {
              "color": "white"
             }
            },
            "header": {
             "fill": {
              "color": "#C8D4E3"
             },
             "line": {
              "color": "white"
             }
            },
            "type": "table"
           }
          ]
         },
         "layout": {
          "annotationdefaults": {
           "arrowcolor": "#2a3f5f",
           "arrowhead": 0,
           "arrowwidth": 1
          },
          "autotypenumbers": "strict",
          "coloraxis": {
           "colorbar": {
            "outlinewidth": 0,
            "ticks": ""
           }
          },
          "colorscale": {
           "diverging": [
            [
             0,
             "#8e0152"
            ],
            [
             0.1,
             "#c51b7d"
            ],
            [
             0.2,
             "#de77ae"
            ],
            [
             0.3,
             "#f1b6da"
            ],
            [
             0.4,
             "#fde0ef"
            ],
            [
             0.5,
             "#f7f7f7"
            ],
            [
             0.6,
             "#e6f5d0"
            ],
            [
             0.7,
             "#b8e186"
            ],
            [
             0.8,
             "#7fbc41"
            ],
            [
             0.9,
             "#4d9221"
            ],
            [
             1,
             "#276419"
            ]
           ],
           "sequential": [
            [
             0,
             "#0d0887"
            ],
            [
             0.1111111111111111,
             "#46039f"
            ],
            [
             0.2222222222222222,
             "#7201a8"
            ],
            [
             0.3333333333333333,
             "#9c179e"
            ],
            [
             0.4444444444444444,
             "#bd3786"
            ],
            [
             0.5555555555555556,
             "#d8576b"
            ],
            [
             0.6666666666666666,
             "#ed7953"
            ],
            [
             0.7777777777777778,
             "#fb9f3a"
            ],
            [
             0.8888888888888888,
             "#fdca26"
            ],
            [
             1,
             "#f0f921"
            ]
           ],
           "sequentialminus": [
            [
             0,
             "#0d0887"
            ],
            [
             0.1111111111111111,
             "#46039f"
            ],
            [
             0.2222222222222222,
             "#7201a8"
            ],
            [
             0.3333333333333333,
             "#9c179e"
            ],
            [
             0.4444444444444444,
             "#bd3786"
            ],
            [
             0.5555555555555556,
             "#d8576b"
            ],
            [
             0.6666666666666666,
             "#ed7953"
            ],
            [
             0.7777777777777778,
             "#fb9f3a"
            ],
            [
             0.8888888888888888,
             "#fdca26"
            ],
            [
             1,
             "#f0f921"
            ]
           ]
          },
          "colorway": [
           "#636efa",
           "#EF553B",
           "#00cc96",
           "#ab63fa",
           "#FFA15A",
           "#19d3f3",
           "#FF6692",
           "#B6E880",
           "#FF97FF",
           "#FECB52"
          ],
          "font": {
           "color": "#2a3f5f"
          },
          "geo": {
           "bgcolor": "white",
           "lakecolor": "white",
           "landcolor": "#E5ECF6",
           "showlakes": true,
           "showland": true,
           "subunitcolor": "white"
          },
          "hoverlabel": {
           "align": "left"
          },
          "hovermode": "closest",
          "mapbox": {
           "style": "light"
          },
          "paper_bgcolor": "white",
          "plot_bgcolor": "#E5ECF6",
          "polar": {
           "angularaxis": {
            "gridcolor": "white",
            "linecolor": "white",
            "ticks": ""
           },
           "bgcolor": "#E5ECF6",
           "radialaxis": {
            "gridcolor": "white",
            "linecolor": "white",
            "ticks": ""
           }
          },
          "scene": {
           "xaxis": {
            "backgroundcolor": "#E5ECF6",
            "gridcolor": "white",
            "gridwidth": 2,
            "linecolor": "white",
            "showbackground": true,
            "ticks": "",
            "zerolinecolor": "white"
           },
           "yaxis": {
            "backgroundcolor": "#E5ECF6",
            "gridcolor": "white",
            "gridwidth": 2,
            "linecolor": "white",
            "showbackground": true,
            "ticks": "",
            "zerolinecolor": "white"
           },
           "zaxis": {
            "backgroundcolor": "#E5ECF6",
            "gridcolor": "white",
            "gridwidth": 2,
            "linecolor": "white",
            "showbackground": true,
            "ticks": "",
            "zerolinecolor": "white"
           }
          },
          "shapedefaults": {
           "line": {
            "color": "#2a3f5f"
           }
          },
          "ternary": {
           "aaxis": {
            "gridcolor": "white",
            "linecolor": "white",
            "ticks": ""
           },
           "baxis": {
            "gridcolor": "white",
            "linecolor": "white",
            "ticks": ""
           },
           "bgcolor": "#E5ECF6",
           "caxis": {
            "gridcolor": "white",
            "linecolor": "white",
            "ticks": ""
           }
          },
          "title": {
           "x": 0.05
          },
          "xaxis": {
           "automargin": true,
           "gridcolor": "white",
           "linecolor": "white",
           "ticks": "",
           "title": {
            "standoff": 15
           },
           "zerolinecolor": "white",
           "zerolinewidth": 2
          },
          "yaxis": {
           "automargin": true,
           "gridcolor": "white",
           "linecolor": "white",
           "ticks": "",
           "title": {
            "standoff": 15
           },
           "zerolinecolor": "white",
           "zerolinewidth": 2
          }
         }
        },
        "title": {
         "text": "<b></b>"
        },
        "width": 1000,
        "xaxis": {
         "anchor": "y",
         "domain": [
          0,
          0.98
         ],
         "title": {
          "text": "tool"
         }
        },
        "xaxis2": {
         "anchor": "y2",
         "domain": [
          0,
          0.98
         ],
         "matches": "x",
         "showticklabels": false
        },
        "xaxis3": {
         "anchor": "y3",
         "domain": [
          0,
          0.98
         ],
         "matches": "x",
         "showticklabels": false
        },
        "yaxis": {
         "anchor": "x",
         "domain": [
          0,
          0.3133333333333333
         ],
         "title": {
          "text": "<b>Average #calls per run</b>"
         }
        },
        "yaxis2": {
         "anchor": "x2",
         "domain": [
          0.34333333333333327,
          0.6566666666666665
         ],
         "matches": "y",
         "title": {
          "text": "<b>Average #calls per run</b>"
         }
        },
        "yaxis3": {
         "anchor": "x3",
         "domain": [
          0.6866666666666665,
          0.9999999999999998
         ],
         "matches": "y",
         "title": {
          "text": "<b>Average #calls per run</b>"
         }
        }
       }
      }
     },
     "metadata": {},
     "output_type": "display_data"
    }
   ],
   "source": [
    "import plotly.express as px\n",
    "\n",
    "\n",
    "fig = px.bar(\n",
    "    sel_with_calls,\n",
    "    x=\"tool\",\n",
    "    y=\"average_count\",\n",
    "    color=\"is_correct\",\n",
    "    facet_row=\"task\",\n",
    "    labels={\n",
    "        \"agent_name\": \"<b>Agent variant</b>\",\n",
    "        \"task\": \"<b>Level</b>\",\n",
    "        \"aggregate_score\": \"<b>Performance</b>\",\n",
    "        \"eval_score_GPT4\": \"<b>Score</b>\",\n",
    "        \"agent_type\": \"<b>Agent type</b>\",\n",
    "        \"average_count\": \"<b>Average #calls per run</b>\",\n",
    "    },\n",
    ")\n",
    "fig.update_layout(\n",
    "    barmode=\"group\",\n",
    "    height=800,\n",
    "    width=1000,\n",
    "    title=\"<b>\" + \"</b>\",\n",
    ")"
   ]
  },
  {
   "cell_type": "markdown",
   "metadata": {},
   "source": [
    "### Inspect result by file extension type"
   ]
  },
  {
   "cell_type": "code",
   "execution_count": 18,
   "metadata": {},
   "outputs": [
    {
     "data": {
      "text/html": [
       "<div>\n",
       "<style scoped>\n",
       "    .dataframe tbody tr th:only-of-type {\n",
       "        vertical-align: middle;\n",
       "    }\n",
       "\n",
       "    .dataframe tbody tr th {\n",
       "        vertical-align: top;\n",
       "    }\n",
       "\n",
       "    .dataframe thead th {\n",
       "        text-align: right;\n",
       "    }\n",
       "</style>\n",
       "<table border=\"1\" class=\"dataframe\">\n",
       "  <thead>\n",
       "    <tr style=\"text-align: right;\">\n",
       "      <th></th>\n",
       "      <th></th>\n",
       "      <th>is_correct</th>\n",
       "      <th>count_steps</th>\n",
       "      <th>question</th>\n",
       "    </tr>\n",
       "    <tr>\n",
       "      <th>agent_name</th>\n",
       "      <th>attachment_type</th>\n",
       "      <th></th>\n",
       "      <th></th>\n",
       "      <th></th>\n",
       "    </tr>\n",
       "  </thead>\n",
       "  <tbody>\n",
       "    <tr>\n",
       "      <th rowspan=\"14\" valign=\"top\">react_code_gpt4o_23-june_planning2_newprompt5</th>\n",
       "      <th>None</th>\n",
       "      <td>0.440945</td>\n",
       "      <td>9.196850</td>\n",
       "      <td>127</td>\n",
       "    </tr>\n",
       "    <tr>\n",
       "      <th>csv</th>\n",
       "      <td>0.000000</td>\n",
       "      <td>7.000000</td>\n",
       "      <td>1</td>\n",
       "    </tr>\n",
       "    <tr>\n",
       "      <th>docx</th>\n",
       "      <td>0.000000</td>\n",
       "      <td>9.000000</td>\n",
       "      <td>1</td>\n",
       "    </tr>\n",
       "    <tr>\n",
       "      <th>jpg</th>\n",
       "      <td>0.000000</td>\n",
       "      <td>9.500000</td>\n",
       "      <td>2</td>\n",
       "    </tr>\n",
       "    <tr>\n",
       "      <th>jsonld</th>\n",
       "      <td>0.000000</td>\n",
       "      <td>16.000000</td>\n",
       "      <td>1</td>\n",
       "    </tr>\n",
       "    <tr>\n",
       "      <th>mp3</th>\n",
       "      <td>1.000000</td>\n",
       "      <td>8.333333</td>\n",
       "      <td>3</td>\n",
       "    </tr>\n",
       "    <tr>\n",
       "      <th>pdb</th>\n",
       "      <td>0.000000</td>\n",
       "      <td>7.000000</td>\n",
       "      <td>1</td>\n",
       "    </tr>\n",
       "    <tr>\n",
       "      <th>pdf</th>\n",
       "      <td>0.333333</td>\n",
       "      <td>5.666667</td>\n",
       "      <td>3</td>\n",
       "    </tr>\n",
       "    <tr>\n",
       "      <th>png</th>\n",
       "      <td>0.125000</td>\n",
       "      <td>6.750000</td>\n",
       "      <td>8</td>\n",
       "    </tr>\n",
       "    <tr>\n",
       "      <th>pptx</th>\n",
       "      <td>1.000000</td>\n",
       "      <td>4.000000</td>\n",
       "      <td>1</td>\n",
       "    </tr>\n",
       "    <tr>\n",
       "      <th>py</th>\n",
       "      <td>1.000000</td>\n",
       "      <td>4.000000</td>\n",
       "      <td>1</td>\n",
       "    </tr>\n",
       "    <tr>\n",
       "      <th>txt</th>\n",
       "      <td>0.000000</td>\n",
       "      <td>6.000000</td>\n",
       "      <td>1</td>\n",
       "    </tr>\n",
       "    <tr>\n",
       "      <th>xlsx</th>\n",
       "      <td>0.615385</td>\n",
       "      <td>7.538462</td>\n",
       "      <td>13</td>\n",
       "    </tr>\n",
       "    <tr>\n",
       "      <th>zip</th>\n",
       "      <td>1.000000</td>\n",
       "      <td>10.000000</td>\n",
       "      <td>2</td>\n",
       "    </tr>\n",
       "  </tbody>\n",
       "</table>\n",
       "</div>"
      ],
      "text/plain": [
       "                                                               is_correct  \\\n",
       "agent_name                                    attachment_type               \n",
       "react_code_gpt4o_23-june_planning2_newprompt5 None               0.440945   \n",
       "                                              csv                0.000000   \n",
       "                                              docx               0.000000   \n",
       "                                              jpg                0.000000   \n",
       "                                              jsonld             0.000000   \n",
       "                                              mp3                1.000000   \n",
       "                                              pdb                0.000000   \n",
       "                                              pdf                0.333333   \n",
       "                                              png                0.125000   \n",
       "                                              pptx               1.000000   \n",
       "                                              py                 1.000000   \n",
       "                                              txt                0.000000   \n",
       "                                              xlsx               0.615385   \n",
       "                                              zip                1.000000   \n",
       "\n",
       "                                                               count_steps  \\\n",
       "agent_name                                    attachment_type                \n",
       "react_code_gpt4o_23-june_planning2_newprompt5 None                9.196850   \n",
       "                                              csv                 7.000000   \n",
       "                                              docx                9.000000   \n",
       "                                              jpg                 9.500000   \n",
       "                                              jsonld             16.000000   \n",
       "                                              mp3                 8.333333   \n",
       "                                              pdb                 7.000000   \n",
       "                                              pdf                 5.666667   \n",
       "                                              png                 6.750000   \n",
       "                                              pptx                4.000000   \n",
       "                                              py                  4.000000   \n",
       "                                              txt                 6.000000   \n",
       "                                              xlsx                7.538462   \n",
       "                                              zip                10.000000   \n",
       "\n",
       "                                                               question  \n",
       "agent_name                                    attachment_type            \n",
       "react_code_gpt4o_23-june_planning2_newprompt5 None                  127  \n",
       "                                              csv                     1  \n",
       "                                              docx                    1  \n",
       "                                              jpg                     2  \n",
       "                                              jsonld                  1  \n",
       "                                              mp3                     3  \n",
       "                                              pdb                     1  \n",
       "                                              pdf                     3  \n",
       "                                              png                     8  \n",
       "                                              pptx                    1  \n",
       "                                              py                      1  \n",
       "                                              txt                     1  \n",
       "                                              xlsx                   13  \n",
       "                                              zip                     2  "
      ]
     },
     "metadata": {},
     "output_type": "display_data"
    }
   ],
   "source": [
    "display(\n",
    "    sel_df.groupby([\"agent_name\", \"attachment_type\"])[[\"is_correct\", \"count_steps\", \"question\"]].agg(\n",
    "        {\"is_correct\": \"mean\", \"count_steps\": \"mean\", \"question\": \"count\"}\n",
    "    )\n",
    ")"
   ]
  },
  {
   "cell_type": "code",
   "execution_count": 44,
   "metadata": {},
   "outputs": [],
   "source": [
    "# Inspect specific file types\n",
    "# sel_df.loc[\n",
    "#     sel_df[\"attachment_type\"].isin([\"pdb\", \"docx\", \"csv\"]),\n",
    "#     [\n",
    "#         \"attachment_type\",\n",
    "#         \"question\",\n",
    "#         \"prediction\",\n",
    "#         \"true_answer\",\n",
    "#         \"is_correct\",\n",
    "#         \"thoughts\",\n",
    "#     ],\n",
    "# ]"
   ]
  },
  {
   "cell_type": "markdown",
   "metadata": {},
   "source": [
    "# 4. Ensembling methods\n",
    "\n",
    "### 4.1 Simple retry mechanism"
   ]
  },
  {
   "cell_type": "code",
   "execution_count": 54,
   "metadata": {},
   "outputs": [
    {
     "name": "stdout",
     "output_type": "stream",
     "text": [
      "replaced\n",
      "replaced\n",
      "replaced\n",
      "replaced\n",
      "replaced\n",
      "replaced\n",
      "replaced\n",
      "replaced\n",
      "replaced\n",
      "replaced\n",
      "replaced\n",
      "replaced\n",
      "replaced\n",
      "replaced\n",
      "replaced\n",
      "replaced\n",
      "replaced\n",
      "replaced\n",
      "replaced\n",
      "replaced\n"
     ]
    }
   ],
   "source": [
    "first_run_gpt4 = result_df.loc[result_df[\"agent_name\"] == gpt4o].copy()\n",
    "second_run_gpt4 = result_df.loc[result_df[\"agent_name\"] == noanchorplan].copy()\n",
    "\n",
    "\n",
    "def replace_answer_if_incomplete(row, result_df_replacement):\n",
    "    try:\n",
    "        if (\n",
    "            \"Unable to determine\" in row[\"intermediate_steps\"]\n",
    "            or \"AgentMaxIterationsError\" in str(row[\"intermediate_steps\"])\n",
    "            # or \"AgentExecutionError\" in str(row[\"intermediate_steps\"])\n",
    "            # or \"AgentGenerationError\" in str(row[\"intermediate_steps\"])\n",
    "            or \"Error in generating final llm output\" in str(row[\"intermediate_steps\"])\n",
    "        ):\n",
    "            matching_answer = result_df_replacement.loc[\n",
    "                (result_df_replacement[\"question\"] == row[\"question\"]), \"prediction\"\n",
    "            ].values[0]\n",
    "            print(\"replaced\")\n",
    "            gold_answer = matching_answer\n",
    "        else:\n",
    "            gold_answer = row[\"prediction\"]\n",
    "    except:\n",
    "        gold_answer = row[\"prediction\"]\n",
    "    return gold_answer\n",
    "\n",
    "\n",
    "combined_gpt4 = first_run_gpt4.copy()\n",
    "combined_gpt4[\"prediction\"] = combined_gpt4.apply(lambda x: replace_answer_if_incomplete(x, second_run_gpt4), axis=1)\n",
    "\n",
    "combined_gpt4[\"is_correct\"] = combined_gpt4.apply(lambda x: question_scorer(x[\"prediction\"], x[\"true_answer\"]), axis=1)"
   ]
  },
  {
   "cell_type": "code",
   "execution_count": 55,
   "metadata": {},
   "outputs": [
    {
     "name": "stdout",
     "output_type": "stream",
     "text": [
      "First run:\n",
      "task\n",
      "1    0.566038\n",
      "2    0.418605\n",
      "3    0.200000\n",
      "Name: is_correct, dtype: float64\n",
      "0.4329268292682927\n",
      "Second run:\n",
      "task\n",
      "1    0.528302\n",
      "2    0.372093\n",
      "3    0.200000\n",
      "Name: is_correct, dtype: float64\n",
      "0.39634146341463417\n",
      "Combined run:\n",
      "task\n",
      "1    0.566038\n",
      "2    0.395349\n",
      "3    0.160000\n",
      "Name: is_correct, dtype: float64\n",
      "0.4146341463414634\n"
     ]
    }
   ],
   "source": [
    "print(\"First run:\")\n",
    "print(first_run_gpt4.groupby([\"task\"])[\"is_correct\"].mean())\n",
    "print(first_run_gpt4[\"is_correct\"].mean())\n",
    "\n",
    "print(\"Second run:\")\n",
    "print(second_run_gpt4.groupby([\"task\"])[\"is_correct\"].mean())\n",
    "print(second_run_gpt4[\"is_correct\"].mean())\n",
    "\n",
    "print(\"Combined run:\")\n",
    "print(combined_gpt4.groupby([\"task\"])[\"is_correct\"].mean())\n",
    "print(combined_gpt4[\"is_correct\"].mean())"
   ]
  },
  {
   "cell_type": "markdown",
   "metadata": {},
   "source": [
    "### 4.2 Ideal ensembling"
   ]
  },
  {
   "cell_type": "code",
   "execution_count": 87,
   "metadata": {},
   "outputs": [
    {
     "name": "stdout",
     "output_type": "stream",
     "text": [
      "Ideal combined run:\n",
      "task\n",
      "1    0.641509\n",
      "2    0.465116\n",
      "3    0.240000\n",
      "Name: is_correct, dtype: float64\n",
      "0.4878048780487805\n"
     ]
    }
   ],
   "source": [
    "third_run = result_df.loc[result_df[\"agent_name\"] == noanchorplan].copy()\n",
    "INCLUDE_THIRD_RUN = False\n",
    "\n",
    "\n",
    "# test ideal ensembling\n",
    "def score_best_both(row, result_df_replacement):\n",
    "    try:\n",
    "        if row[\"is_correct\"]:\n",
    "            return True\n",
    "\n",
    "        else:\n",
    "            matching_answer = result_df_replacement.loc[(result_df_replacement[\"question\"] == row[\"question\"])].iloc[0]\n",
    "            if matching_answer[\"is_correct\"]:\n",
    "                return True\n",
    "            else:\n",
    "                return False\n",
    "    except:\n",
    "        return row[\"is_correct\"]\n",
    "\n",
    "\n",
    "combined_gpt4 = first_run_gpt4.copy()\n",
    "combined_gpt4[\"is_correct\"] = combined_gpt4.apply(lambda x: score_best_both(x, second_run_gpt4), axis=1)\n",
    "if INCLUDE_THIRD_RUN:\n",
    "    combined_gpt4[\"is_correct\"] = combined_gpt4.apply(lambda x: score_best_both(x, third_run), axis=1)\n",
    "print(\"Ideal combined run:\")\n",
    "print(combined_gpt4.groupby([\"task\"])[\"is_correct\"].mean())\n",
    "print(combined_gpt4[\"is_correct\"].mean())"
   ]
  }
 ],
 "metadata": {
  "kernelspec": {
   "display_name": "test",
   "language": "python",
   "name": "python3"
  },
  "language_info": {
   "codemirror_mode": {
    "name": "ipython",
    "version": 3
   },
   "file_extension": ".py",
   "mimetype": "text/x-python",
   "name": "python",
   "nbconvert_exporter": "python",
   "pygments_lexer": "ipython3",
   "version": "3.12.0"
  }
 },
 "nbformat": 4,
 "nbformat_minor": 2
}
